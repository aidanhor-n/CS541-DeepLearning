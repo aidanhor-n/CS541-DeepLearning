{
 "cells": [
  {
   "cell_type": "code",
   "execution_count": 1,
   "id": "e8be85da",
   "metadata": {},
   "outputs": [],
   "source": [
    "from __future__ import unicode_literals, print_function, division\n",
    "from io import open\n",
    "import unicodedata\n",
    "import string\n",
    "import re\n",
    "import random\n",
    "\n",
    "import torch\n",
    "import torch.nn as nn\n",
    "from torch import optim\n",
    "import torch.nn.functional as F\n",
    "\n",
    "device = torch.device(\"cuda\" if torch.cuda.is_available() else \"cpu\")"
   ]
  },
  {
   "cell_type": "code",
   "execution_count": 6,
   "id": "3634a2b2",
   "metadata": {
    "tags": []
   },
   "outputs": [],
   "source": [
    "## Loading data files"
   ]
  },
  {
   "cell_type": "code",
   "execution_count": 3,
   "id": "b96d22dd",
   "metadata": {
    "tags": []
   },
   "outputs": [],
   "source": [
    "SOS_token = 0\n",
    "EOS_token = 1\n",
    "\n",
    "\n",
    "class Lang:\n",
    "    def __init__(self, name):\n",
    "        self.name = name\n",
    "        self.word2index = {}\n",
    "        self.word2count = {}\n",
    "        self.index2word = {0: \"SOS\", 1: \"EOS\"}\n",
    "        self.n_words = 2  # Count SOS and EOS\n",
    "\n",
    "    def addSentence(self, sentence):\n",
    "        for word in sentence.split(' '):\n",
    "            self.addWord(word)\n",
    "\n",
    "    def addWord(self, word):\n",
    "        if word not in self.word2index:\n",
    "            self.word2index[word] = self.n_words\n",
    "            self.word2count[word] = 1\n",
    "            self.index2word[self.n_words] = word\n",
    "            self.n_words += 1\n",
    "        else:\n",
    "            self.word2count[word] += 1\n"
   ]
  },
  {
   "cell_type": "code",
   "execution_count": 4,
   "id": "d4439739",
   "metadata": {},
   "outputs": [],
   "source": [
    "# Turn a Unicode string to plain ASCII, thanks to\n",
    "# https://stackoverflow.com/a/518232/2809427\n",
    "def unicodeToAscii(s):\n",
    "    return ''.join(\n",
    "        c for c in unicodedata.normalize('NFD', s)\n",
    "        if unicodedata.category(c) != 'Mn'\n",
    "    )\n",
    "\n",
    "# Lowercase, trim, and remove non-letter characters\n",
    "\n",
    "\n",
    "def normalizeString(s):\n",
    "    s = unicodeToAscii(s.lower().strip())\n",
    "    s = re.sub(r\"([.!?])\", r\" \\1\", s)\n",
    "    s = re.sub(r\"[^a-zA-Z.!?]+\", r\" \", s)\n",
    "    return s"
   ]
  },
  {
   "cell_type": "code",
   "execution_count": 5,
   "id": "770b774c",
   "metadata": {},
   "outputs": [],
   "source": [
    "def readLangs(lang1, lang2, reverse=False):\n",
    "    print(\"Reading lines...\")\n",
    "\n",
    "    # Read the file and split into lines\n",
    "    lines = open('data/%s-%s.txt' % (lang1, lang2), encoding='utf-8').\\\n",
    "        read().strip().split('\\n')\n",
    "\n",
    "    # Split every line into pairs and normalize\n",
    "    pairs = [[normalizeString(s) for s in l.split('\\t')] for l in lines]\n",
    "\n",
    "    # Reverse pairs, make Lang instances\n",
    "    if reverse:\n",
    "        pairs = [list(reversed(p)) for p in pairs]\n",
    "        input_lang = Lang(lang2)\n",
    "        output_lang = Lang(lang1)\n",
    "    else:\n",
    "        input_lang = Lang(lang1)\n",
    "        output_lang = Lang(lang2)\n",
    "\n",
    "    return input_lang, output_lang, pairs"
   ]
  },
  {
   "cell_type": "code",
   "execution_count": 6,
   "id": "52d3a67a",
   "metadata": {},
   "outputs": [],
   "source": [
    "MAX_LENGTH = 10\n",
    "\n",
    "eng_prefixes = (\n",
    "    \"i am \", \"i m \",\n",
    "    \"he is\", \"he s \",\n",
    "    \"she is\", \"she s \",\n",
    "    \"you are\", \"you re \",\n",
    "    \"we are\", \"we re \",\n",
    "    \"they are\", \"they re \"\n",
    ")\n",
    "\n",
    "\n",
    "def filterPair(p):\n",
    "    return len(p[0].split(' ')) < MAX_LENGTH and \\\n",
    "        len(p[1].split(' ')) < MAX_LENGTH and \\\n",
    "        p[0].startswith(eng_prefixes)\n",
    "\n",
    "\n",
    "def filterPairs(pairs):\n",
    "    return [pair for pair in pairs if filterPair(pair)]"
   ]
  },
  {
   "cell_type": "code",
   "execution_count": 7,
   "id": "28f1ea2f-0796-437f-bac8-0be319b3caf9",
   "metadata": {},
   "outputs": [],
   "source": [
    "def train_test_split(dataset, random_seed = 42):\n",
    "    train_split = 0.8\n",
    "    random_seed = 42\n",
    "\n",
    "    dataset_size = len(dataset)\n",
    "    validation_split = .2\n",
    "    \n",
    "    indices = list(range(dataset_size))\n",
    "    split = int(np.floor(validation_split * dataset_size))\n",
    "    train_indices, val_indices = indices[split:], indices[:split]\n",
    "    \n",
    "    random.seed(random_seed)\n",
    "    random.shuffle(train_indices)\n",
    "    random.shuffle(val_indices)\n",
    "    \n",
    "    train = [dataset[i] for i in train_indices]\n",
    "    val = [dataset[j] for j in val_indices]\n",
    "    \n",
    "    return train, val\n",
    "\n",
    "#any(word in train for word in val)"
   ]
  },
  {
   "cell_type": "code",
   "execution_count": 8,
   "id": "2dd05b39",
   "metadata": {},
   "outputs": [
    {
     "name": "stdout",
     "output_type": "stream",
     "text": [
      "Reading lines...\n",
      "Read 135842 sentence pairs\n",
      "Trimmed to 10599 sentence pairs\n",
      "Counting words...\n",
      "Counted words:\n",
      "eng 2803\n",
      "fra 4345\n"
     ]
    }
   ],
   "source": [
    "###ENGLISH TO ENGLISH WORKAROUND\n",
    "\n",
    "def prepareData(lang1, lang2, reverse=False):\n",
    "    input_lang, output_lang, pairs = readLangs(lang1, lang2, reverse)\n",
    "    print(\"Read %s sentence pairs\" % len(pairs))\n",
    "    pairs = filterPairs(pairs)\n",
    "    print(\"Trimmed to %s sentence pairs\" % len(pairs))\n",
    "    print(\"Counting words...\")\n",
    "    for pair in pairs:\n",
    "        input_lang.addSentence(pair[0])\n",
    "        output_lang.addSentence(pair[1])\n",
    "    print(\"Counted words:\")\n",
    "    print(input_lang.name, input_lang.n_words)\n",
    "    print(output_lang.name, output_lang.n_words)\n",
    "    \n",
    "    return input_lang, output_lang, pairs\n",
    "\n",
    "def prepareAEData(lang1, lang2, reverse=False):\n",
    "    input_lang, output_lang, pairs = readLangs(lang1, lang2, reverse)\n",
    "    print(\"Read %s sentence pairs\" % len(pairs))\n",
    "    pairs = filterPairs(pairs)\n",
    "    print(\"Trimmed to %s sentence pairs\" % len(pairs))\n",
    "    print(\"Counting words...\")\n",
    "    for pair in pairs:\n",
    "        input_lang.addSentence(pair[0])\n",
    "        output_lang.addSentence(pair[0])\n",
    "    print(\"Counted words:\")\n",
    "    print(input_lang.name, input_lang.n_words)\n",
    "    print(output_lang.name, output_lang.n_words)\n",
    "    \n",
    "    pairs = [[v,v] for v,k in pairs]\n",
    "    \n",
    "    return input_lang, output_lang, pairs\n",
    "\n",
    "\n",
    "input_lang, output_lang, pairs = prepareData('eng', 'fra', False)"
   ]
  },
  {
   "cell_type": "code",
   "execution_count": 9,
   "id": "ab3e89af",
   "metadata": {},
   "outputs": [
    {
     "data": {
      "text/plain": [
       "['they re dead .', 'elles sont decedees .']"
      ]
     },
     "execution_count": 9,
     "metadata": {},
     "output_type": "execute_result"
    }
   ],
   "source": [
    "\n",
    "random.choice(pairs)"
   ]
  },
  {
   "cell_type": "code",
   "execution_count": null,
   "id": "175fe917-6002-4443-bef2-71f481715fe3",
   "metadata": {},
   "outputs": [],
   "source": []
  },
  {
   "cell_type": "code",
   "execution_count": 14,
   "id": "b8870ae2",
   "metadata": {},
   "outputs": [],
   "source": [
    "## The Seq2Seq Model"
   ]
  },
  {
   "cell_type": "code",
   "execution_count": 11,
   "id": "a2ad5db1",
   "metadata": {},
   "outputs": [],
   "source": [
    "class EncoderRNN(nn.Module):\n",
    "    def __init__(self, input_size, hidden_size):\n",
    "        super(EncoderRNN, self).__init__()\n",
    "        self.hidden_size = hidden_size\n",
    "\n",
    "        self.embedding = nn.Embedding(input_size, hidden_size)\n",
    "        self.gru = nn.GRU(hidden_size, hidden_size)\n",
    "\n",
    "    def forward(self, input, hidden):\n",
    "        embedded = self.embedding(input).view(1, 1, -1)\n",
    "        output = embedded\n",
    "        output, hidden = self.gru(output, hidden)\n",
    "        return output, hidden\n",
    "\n",
    "    def initHidden(self):\n",
    "        return torch.zeros(1, 1, self.hidden_size, device=device)"
   ]
  },
  {
   "cell_type": "code",
   "execution_count": 12,
   "id": "de08ce38",
   "metadata": {},
   "outputs": [],
   "source": [
    "class DecoderRNN(nn.Module):\n",
    "    def __init__(self, hidden_size, output_size):\n",
    "        super(DecoderRNN, self).__init__()\n",
    "        self.hidden_size = hidden_size\n",
    "\n",
    "        self.embedding = nn.Embedding(output_size, hidden_size)\n",
    "        self.gru = nn.GRU(hidden_size, hidden_size)\n",
    "        self.out = nn.Linear(hidden_size, output_size)\n",
    "        self.softmax = nn.LogSoftmax(dim=1)\n",
    "\n",
    "    def forward(self, input, hidden):\n",
    "        output = self.embedding(input).view(1, 1, -1)\n",
    "        output = F.relu(output)\n",
    "        output, hidden = self.gru(output, hidden)\n",
    "        output = self.softmax(self.out(output[0]))\n",
    "        return output, hidden\n",
    "\n",
    "    def initHidden(self):\n",
    "        return torch.zeros(1, 1, self.hidden_size, device=device)"
   ]
  },
  {
   "cell_type": "code",
   "execution_count": 13,
   "id": "460187c1",
   "metadata": {},
   "outputs": [],
   "source": [
    "class AttnDecoderRNN(nn.Module):\n",
    "    def __init__(self, hidden_size, output_size, dropout_p=0.1, max_length=MAX_LENGTH):\n",
    "        super(AttnDecoderRNN, self).__init__()\n",
    "        self.hidden_size = hidden_size\n",
    "        self.output_size = output_size\n",
    "        self.dropout_p = dropout_p\n",
    "        self.max_length = max_length\n",
    "\n",
    "        self.embedding = nn.Embedding(self.output_size, self.hidden_size)\n",
    "        self.attn = nn.Linear(self.hidden_size * 2, self.max_length)\n",
    "        self.attn_combine = nn.Linear(self.hidden_size * 2, self.hidden_size)\n",
    "        self.dropout = nn.Dropout(self.dropout_p)\n",
    "        self.gru = nn.GRU(self.hidden_size, self.hidden_size)\n",
    "        self.out = nn.Linear(self.hidden_size, self.output_size)\n",
    "\n",
    "    def forward(self, input, hidden, encoder_outputs):\n",
    "        embedded = self.embedding(input).view(1, 1, -1)\n",
    "        embedded = self.dropout(embedded)\n",
    "\n",
    "        attn_weights = F.softmax(\n",
    "            self.attn(torch.cat((embedded[0], hidden[0]), 1)), dim=1)\n",
    "        attn_applied = torch.bmm(attn_weights.unsqueeze(0),\n",
    "                                 encoder_outputs.unsqueeze(0))\n",
    "\n",
    "        output = torch.cat((embedded[0], attn_applied[0]), 1)\n",
    "        output = self.attn_combine(output).unsqueeze(0)\n",
    "\n",
    "        output = F.relu(output)\n",
    "        output, hidden = self.gru(output, hidden)\n",
    "\n",
    "        output = F.log_softmax(self.out(output[0]), dim=1)\n",
    "        return output, hidden, attn_weights\n",
    "\n",
    "    def initHidden(self):\n",
    "        return torch.zeros(1, 1, self.hidden_size, device=device)"
   ]
  },
  {
   "cell_type": "code",
   "execution_count": 18,
   "id": "062bda92",
   "metadata": {},
   "outputs": [],
   "source": [
    "## Preparing Training Data"
   ]
  },
  {
   "cell_type": "code",
   "execution_count": 14,
   "id": "7527ab77",
   "metadata": {},
   "outputs": [],
   "source": [
    "def indexesFromSentence(lang, sentence):\n",
    "    return [lang.word2index[word] for word in sentence.split(' ')]\n",
    "\n",
    "\n",
    "def tensorFromSentence(lang, sentence):\n",
    "    indexes = indexesFromSentence(lang, sentence)\n",
    "    indexes.append(EOS_token)\n",
    "    return torch.tensor(indexes, dtype=torch.long, device=device).view(-1, 1)\n",
    "\n",
    "\n",
    "def tensorsFromPair(pair):\n",
    "    input_tensor = tensorFromSentence(input_lang, pair[0])\n",
    "    target_tensor = tensorFromSentence(output_lang, pair[1])\n",
    "    return (input_tensor, target_tensor)"
   ]
  },
  {
   "cell_type": "code",
   "execution_count": 20,
   "id": "0cbf81cf",
   "metadata": {},
   "outputs": [],
   "source": [
    "## Training the Model"
   ]
  },
  {
   "cell_type": "code",
   "execution_count": 15,
   "id": "5fe73920",
   "metadata": {},
   "outputs": [],
   "source": [
    "teacher_forcing_ratio = 0.5\n",
    "\n",
    "\n",
    "def train(input_tensor, target_tensor, encoder, decoder, encoder_optimizer, decoder_optimizer, criterion, max_length=MAX_LENGTH):\n",
    "    encoder_hidden = encoder.initHidden()\n",
    "\n",
    "    encoder_optimizer.zero_grad()\n",
    "    decoder_optimizer.zero_grad()\n",
    "\n",
    "    input_length = input_tensor.size(0)\n",
    "    target_length = target_tensor.size(0)\n",
    "\n",
    "    encoder_outputs = torch.zeros(max_length, encoder.hidden_size, device=device)\n",
    "\n",
    "    loss = 0\n",
    "\n",
    "    for ei in range(input_length):\n",
    "        encoder_output, encoder_hidden = encoder(\n",
    "            input_tensor[ei], encoder_hidden)\n",
    "        encoder_outputs[ei] = encoder_output[0, 0]\n",
    "\n",
    "    decoder_input = torch.tensor([[SOS_token]], device=device)\n",
    "\n",
    "    decoder_hidden = encoder_hidden\n",
    "\n",
    "    use_teacher_forcing = True if random.random() < teacher_forcing_ratio else False\n",
    "\n",
    "    if use_teacher_forcing:\n",
    "        # Teacher forcing: Feed the target as the next input\n",
    "        for di in range(target_length):\n",
    "            decoder_output, decoder_hidden, decoder_attention = decoder(\n",
    "                decoder_input, decoder_hidden, encoder_outputs)\n",
    "            loss += criterion(decoder_output, target_tensor[di])\n",
    "            decoder_input = target_tensor[di]  # Teacher forcing\n",
    "\n",
    "    else:\n",
    "        # Without teacher forcing: use its own predictions as the next input\n",
    "        for di in range(target_length):\n",
    "            decoder_output, decoder_hidden, decoder_attention = decoder(\n",
    "                decoder_input, decoder_hidden, encoder_outputs)\n",
    "            topv, topi = decoder_output.topk(1)\n",
    "            decoder_input = topi.squeeze().detach()  # detach from history as input\n",
    "\n",
    "            loss += criterion(decoder_output, target_tensor[di])\n",
    "            if decoder_input.item() == EOS_token:\n",
    "                break\n",
    "\n",
    "    loss.backward()\n",
    "\n",
    "    encoder_optimizer.step()\n",
    "    decoder_optimizer.step()\n",
    "\n",
    "    return loss.item() / target_length"
   ]
  },
  {
   "cell_type": "code",
   "execution_count": 16,
   "id": "4ec118ee",
   "metadata": {},
   "outputs": [],
   "source": [
    "import time\n",
    "import math\n",
    "\n",
    "\n",
    "def asMinutes(s):\n",
    "    m = math.floor(s / 60)\n",
    "    s -= m * 60\n",
    "    return '%dm %ds' % (m, s)\n",
    "\n",
    "\n",
    "def timeSince(since, percent):\n",
    "    now = time.time()\n",
    "    s = now - since\n",
    "    es = s / (percent)\n",
    "    rs = es - s\n",
    "    return '%s (- %s)' % (asMinutes(s), asMinutes(rs))"
   ]
  },
  {
   "cell_type": "code",
   "execution_count": 17,
   "id": "7f13ce05",
   "metadata": {},
   "outputs": [],
   "source": [
    "def trainIters(encoder, decoder, n_iters, print_every=1000, plot_every=100, enc_learning_rate = 0.01, dec_learning_rate=0.01):\n",
    "    start = time.time()\n",
    "    plot_losses = []\n",
    "    print_loss_total = 0  # Reset every print_every\n",
    "    plot_loss_total = 0  # Reset every plot_every\n",
    "        \n",
    "    encoder_optimizer = optim.SGD(encoder.parameters(), lr=enc_learning_rate)\n",
    "    decoder_optimizer = optim.SGD(decoder.parameters(), lr=dec_learning_rate)\n",
    "    \n",
    "    train_, val_ = train_test_split(pairs, random_seed = 42)\n",
    "    \n",
    "    training_pairs = [tensorsFromPair(random.choice(train_))\n",
    "                      for i in range(n_iters)]\n",
    "    \n",
    "    criterion = nn.NLLLoss()\n",
    "\n",
    "    for iter in range(1, n_iters + 1):\n",
    "        training_pair = training_pairs[iter - 1]\n",
    "        input_tensor = training_pair[0]\n",
    "        target_tensor = training_pair[1]\n",
    "\n",
    "        loss = train(input_tensor, target_tensor, encoder,\n",
    "                     decoder, encoder_optimizer, decoder_optimizer, criterion)\n",
    "        print_loss_total += loss\n",
    "        plot_loss_total += loss\n",
    "\n",
    "        if iter % print_every == 0:\n",
    "            print_loss_avg = print_loss_total / print_every\n",
    "            print_loss_total = 0\n",
    "            print('%s (%d %d%%) %.4f' % (timeSince(start, iter / n_iters),\n",
    "                                         iter, iter / n_iters * 100, print_loss_avg))\n",
    "\n",
    "        if iter % plot_every == 0:\n",
    "            plot_loss_avg = plot_loss_total / plot_every\n",
    "            plot_losses.append(plot_loss_avg)\n",
    "            plot_loss_total = 0\n",
    "    \n",
    "    showPlot(plot_losses)\n",
    "    return plot_losses\n",
    "    \n",
    "    "
   ]
  },
  {
   "cell_type": "code",
   "execution_count": 18,
   "id": "25d6ce80",
   "metadata": {},
   "outputs": [],
   "source": [
    "import matplotlib.pyplot as plt\n",
    "#plt.switch_backend('agg')\n",
    "\n",
    "%matplotlib inline\n",
    "\n",
    "import matplotlib.ticker as ticker\n",
    "import numpy as np\n",
    "\n",
    "\n",
    "def showPlot(points):\n",
    "    plt.figure()\n",
    "    fig, ax = plt.subplots()\n",
    "    # this locator puts ticks at regular intervals\n",
    "    loc = ticker.MultipleLocator(base=0.2)\n",
    "    ax.yaxis.set_major_locator(loc)\n",
    "    plt.plot(points)\n",
    "    plt.show()"
   ]
  },
  {
   "cell_type": "code",
   "execution_count": 19,
   "id": "77364c4a",
   "metadata": {},
   "outputs": [],
   "source": [
    "def evaluate(encoder, decoder, sentence, max_length=MAX_LENGTH):\n",
    "    with torch.no_grad():\n",
    "        input_tensor = tensorFromSentence(input_lang, sentence)\n",
    "        input_length = input_tensor.size()[0]\n",
    "        encoder_hidden = encoder.initHidden()\n",
    "\n",
    "        encoder_outputs = torch.zeros(max_length, encoder.hidden_size, device=device)\n",
    "\n",
    "        for ei in range(input_length):\n",
    "            encoder_output, encoder_hidden = encoder(input_tensor[ei],\n",
    "                                                     encoder_hidden)\n",
    "            encoder_outputs[ei] += encoder_output[0, 0]\n",
    "\n",
    "        decoder_input = torch.tensor([[SOS_token]], device=device)  # SOS\n",
    "\n",
    "        decoder_hidden = encoder_hidden\n",
    "\n",
    "        decoded_words = []\n",
    "        decoder_attentions = torch.zeros(max_length, max_length)\n",
    "\n",
    "        for di in range(max_length):\n",
    "            decoder_output, decoder_hidden, decoder_attention = decoder(\n",
    "                decoder_input, decoder_hidden, encoder_outputs)\n",
    "            decoder_attentions[di] = decoder_attention.data\n",
    "            topv, topi = decoder_output.data.topk(1)\n",
    "            if topi.item() == EOS_token:\n",
    "                decoded_words.append('<EOS>')\n",
    "                break\n",
    "            else:\n",
    "                decoded_words.append(output_lang.index2word[topi.item()])\n",
    "\n",
    "            decoder_input = topi.squeeze().detach()\n",
    "\n",
    "        return decoded_words, decoder_attentions[:di + 1]"
   ]
  },
  {
   "cell_type": "code",
   "execution_count": 20,
   "id": "633cdf21",
   "metadata": {},
   "outputs": [],
   "source": [
    "def evaluateRandomly(encoder, decoder, n=10):\n",
    "    for i in range(n):\n",
    "        pair = random.choice(pairs)\n",
    "        print('>', pair[0])\n",
    "        print('=', pair[1])\n",
    "        output_words, attentions = evaluate(encoder, decoder, pair[0])\n",
    "        output_sentence = ' '.join(output_words)\n",
    "        print('<', output_sentence)\n",
    "        print('')"
   ]
  },
  {
   "cell_type": "markdown",
   "id": "b13f39b6-480a-461b-8e9c-fe40eb2d4e58",
   "metadata": {},
   "source": [
    "# Version 1"
   ]
  },
  {
   "cell_type": "code",
   "execution_count": 73,
   "id": "97f3e9c6",
   "metadata": {
    "tags": []
   },
   "outputs": [
    {
     "name": "stdout",
     "output_type": "stream",
     "text": [
      "0m 27s (- 8m 39s) (1000 5%) 4.2078\n",
      "0m 59s (- 8m 54s) (2000 10%) 3.6780\n",
      "1m 27s (- 8m 13s) (3000 15%) 3.4738\n",
      "1m 58s (- 7m 54s) (4000 20%) 3.2387\n",
      "2m 27s (- 7m 22s) (5000 25%) 3.1660\n",
      "2m 58s (- 6m 56s) (6000 30%) 3.0595\n",
      "3m 27s (- 6m 24s) (7000 35%) 2.9013\n",
      "3m 59s (- 5m 59s) (8000 40%) 2.8575\n",
      "4m 29s (- 5m 29s) (9000 45%) 2.7806\n",
      "5m 1s (- 5m 1s) (10000 50%) 2.7396\n",
      "5m 30s (- 4m 30s) (11000 55%) 2.5351\n",
      "6m 0s (- 4m 0s) (12000 60%) 2.4768\n",
      "6m 29s (- 3m 29s) (13000 65%) 2.4918\n",
      "6m 59s (- 2m 59s) (14000 70%) 2.3806\n",
      "7m 28s (- 2m 29s) (15000 75%) 2.3577\n",
      "8m 2s (- 2m 0s) (16000 80%) 2.3057\n",
      "8m 31s (- 1m 30s) (17000 85%) 2.1871\n",
      "9m 1s (- 1m 0s) (18000 90%) 2.1282\n",
      "9m 30s (- 0m 30s) (19000 95%) 2.0965\n",
      "10m 1s (- 0m 0s) (20000 100%) 2.1175\n"
     ]
    },
    {
     "data": {
      "text/plain": [
       "<Figure size 432x288 with 0 Axes>"
      ]
     },
     "metadata": {},
     "output_type": "display_data"
    },
    {
     "data": {
      "image/png": "[encoded data removed]",
      "text/plain": [
       "<Figure size 432x288 with 1 Axes>"
      ]
     },
     "metadata": {
      "needs_background": "light"
     },
     "output_type": "display_data"
    }
   ],
   "source": [
    "hidden_size =EncoderRNN\n",
    "encoder1 = EncoderRNN(input_lang.n_words, hidden_size).to(device)\n",
    "attn_decoder1 = AttnDecoderRNN(hidden_size, output_lang.n_words, dropout_p=0.1).to(device)\n",
    "plot_losses = trainIters(encoder1, attn_decoder1, 20000, print_every=1000, plot_every=1000)"
   ]
  },
  {
   "cell_type": "markdown",
   "id": "9cbcb424-0705-4537-b2f9-9caec2b57730",
   "metadata": {},
   "source": [
    "# Version 2"
   ]
  },
  {
   "cell_type": "code",
   "execution_count": 23,
   "id": "99c86f8a-6c5b-472f-9cac-43e649f2e3f9",
   "metadata": {},
   "outputs": [
    {
     "name": "stdout",
     "output_type": "stream",
     "text": [
      "Reading lines...\n",
      "Read 135842 sentence pairs\n",
      "Trimmed to 10599 sentence pairs\n",
      "Counting words...\n",
      "Counted words:\n",
      "eng 2803\n",
      "fra 2803\n",
      "0m 37s (- 11m 58s) (1000 5%) 3.4621\n",
      "1m 16s (- 11m 31s) (2000 10%) 2.6391\n",
      "1m 53s (- 10m 43s) (3000 15%) 2.3344\n",
      "2m 29s (- 9m 56s) (4000 20%) 2.0306\n",
      "3m 7s (- 9m 23s) (5000 25%) 1.8655\n",
      "3m 42s (- 8m 38s) (6000 30%) 1.6410\n",
      "4m 18s (- 8m 0s) (7000 35%) 1.5584\n",
      "4m 56s (- 7m 24s) (8000 40%) 1.4047\n",
      "5m 36s (- 6m 50s) (9000 45%) 1.3019\n",
      "6m 14s (- 6m 14s) (10000 50%) 1.2099\n",
      "6m 52s (- 5m 37s) (11000 55%) 1.0736\n",
      "7m 28s (- 4m 58s) (12000 60%) 0.9735\n",
      "8m 5s (- 4m 21s) (13000 65%) 0.9636\n",
      "8m 45s (- 3m 45s) (14000 70%) 0.9072\n",
      "9m 25s (- 3m 8s) (15000 75%) 0.8515\n",
      "10m 5s (- 2m 31s) (16000 80%) 0.8301\n",
      "10m 44s (- 1m 53s) (17000 85%) 0.7379\n",
      "11m 24s (- 1m 16s) (18000 90%) 0.6642\n",
      "12m 2s (- 0m 38s) (19000 95%) 0.6279\n",
      "12m 38s (- 0m 0s) (20000 100%) 0.6552\n"
     ]
    },
    {
     "data": {
      "text/plain": [
       "<Figure size 432x288 with 0 Axes>"
      ]
     },
     "metadata": {},
     "output_type": "display_data"
    },
    {
     "data": {
      "image/png": "[encoded data removed]",
      "text/plain": [
       "<Figure size 432x288 with 1 Axes>"
      ]
     },
     "metadata": {
      "needs_background": "light"
     },
     "output_type": "display_data"
    }
   ],
   "source": [
    "hidden_size = 256\n",
    "\n",
    "input_lang, output_lang, pairs = prepareAEData('eng', 'fra', False)\n",
    "\n",
    "AE_encoder = EncoderRNN(input_lang.n_words, hidden_size).to(device)\n",
    "AE_decoder = AttnDecoderRNN(hidden_size, output_lang.n_words, dropout_p=0.1).to(device)\n",
    "plot_losses = trainIters(AE_encoder, AE_decoder, 20000, print_every=1000, plot_every=1000)\n",
    "\n",
    "torch.save(AE_encoder.state_dict(), 'AE_encoder.dict')\n",
    "torch.save(AE_decoder.state_dict(), 'AE_decoder.dict')"
   ]
  },
  {
   "cell_type": "code",
   "execution_count": 26,
   "id": "9254e525-a842-49e8-a15b-b7714f1a132b",
   "metadata": {},
   "outputs": [
    {
     "name": "stdout",
     "output_type": "stream",
     "text": [
      "Reading lines...\n",
      "Read 135842 sentence pairs\n",
      "Trimmed to 10599 sentence pairs\n",
      "Counting words...\n",
      "Counted words:\n",
      "eng 2803\n",
      "fra 4345\n",
      "0m 54s (- 17m 8s) (1000 5%) 4.0304\n",
      "1m 47s (- 16m 9s) (2000 10%) 3.5425\n",
      "2m 44s (- 15m 33s) (3000 15%) 3.3571\n",
      "3m 33s (- 14m 14s) (4000 20%) 3.1280\n",
      "4m 27s (- 13m 21s) (5000 25%) 3.0609\n",
      "5m 17s (- 12m 21s) (6000 30%) 2.9662\n",
      "6m 11s (- 11m 29s) (7000 35%) 2.7921\n",
      "7m 7s (- 10m 41s) (8000 40%) 2.7819\n",
      "8m 2s (- 9m 49s) (9000 45%) 2.6988\n",
      "8m 52s (- 8m 52s) (10000 50%) 2.6582\n",
      "9m 43s (- 7m 57s) (11000 55%) 2.5088\n",
      "10m 37s (- 7m 5s) (12000 60%) 2.4530\n",
      "11m 27s (- 6m 10s) (13000 65%) 2.4794\n",
      "12m 18s (- 5m 16s) (14000 70%) 2.4184\n",
      "13m 9s (- 4m 23s) (15000 75%) 2.3603\n",
      "14m 6s (- 3m 31s) (16000 80%) 2.3658\n",
      "15m 5s (- 2m 39s) (17000 85%) 2.2530\n",
      "15m 57s (- 1m 46s) (18000 90%) 2.2155\n",
      "16m 46s (- 0m 52s) (19000 95%) 2.2003\n",
      "17m 39s (- 0m 0s) (20000 100%) 2.2154\n"
     ]
    },
    {
     "data": {
      "text/plain": [
       "<Figure size 432x288 with 0 Axes>"
      ]
     },
     "metadata": {},
     "output_type": "display_data"
    },
    {
     "data": {
      "image/png": "[encoded data removed]",
      "text/plain": [
       "<Figure size 432x288 with 1 Axes>"
      ]
     },
     "metadata": {
      "needs_background": "light"
     },
     "output_type": "display_data"
    }
   ],
   "source": [
    "#use AE_encoder and new decoder for translation\n",
    "input_lang, output_lang, pairs = prepareData('eng', 'fra', False)\n",
    "\n",
    "attn_decoder1 = AttnDecoderRNN(hidden_size, output_lang.n_words, dropout_p=0.1).to(device)\n",
    "plot_losses = trainIters(AE_encoder, attn_decoder1, 20000, print_every=1000, plot_every = 10, enc_learning_rate=0)"
   ]
  },
  {
   "cell_type": "code",
   "execution_count": 27,
   "id": "972f6f10",
   "metadata": {
    "collapsed": true,
    "jupyter": {
     "outputs_hidden": true
    },
    "tags": []
   },
   "outputs": [
    {
     "name": "stdout",
     "output_type": "stream",
     "text": [
      "> i m the youngest child .\n",
      "= je suis la plus jeune enfant .\n",
      "< je suis le meme . <EOS>\n",
      "\n",
      "> she s my first love .\n",
      "= elle est mon premier amour .\n",
      "< elle est est le . . <EOS>\n",
      "\n",
      "> i m writing a book .\n",
      "= je suis en train d ecrire un bouquin .\n",
      "< je suis un train . . <EOS>\n",
      "\n",
      "> i m no longer angry at you .\n",
      "= je ne suis plus en colere apres vous .\n",
      "< je ne suis plus en colere . <EOS>\n",
      "\n",
      "> i m contagious .\n",
      "= je suis contagieuse .\n",
      "< je suis rejouis . <EOS>\n",
      "\n",
      "> i am convinced that he is innocent .\n",
      "= je suis convaincu de son innocence .\n",
      "< je suis certain qu il est <EOS>\n",
      "\n",
      "> i m in way over my head .\n",
      "= j ai des ennuis jusqu au cou .\n",
      "< je suis en . de ma voiture . . <EOS>\n",
      "\n",
      "> i m stubborn .\n",
      "= je suis obstine .\n",
      "< je suis en . <EOS>\n",
      "\n",
      "> they are collecting contributions for the church .\n",
      "= ils collectent des dons pour l eglise .\n",
      "< ils sont en train de la voyage . <EOS>\n",
      "\n",
      "> i m really sleepy .\n",
      "= j ai vraiment sommeil .\n",
      "< je suis vraiment vraiment . <EOS>\n",
      "\n"
     ]
    }
   ],
   "source": [
    "evaluateRandomly(AE_encoder, attn_decoder1)"
   ]
  },
  {
   "cell_type": "markdown",
   "id": "03860cbf-3fb2-4083-be68-be997d221bd3",
   "metadata": {},
   "source": [
    "# Version 3"
   ]
  },
  {
   "cell_type": "code",
   "execution_count": 30,
   "id": "f0c26193",
   "metadata": {},
   "outputs": [
    {
     "name": "stderr",
     "output_type": "stream",
     "text": [
      ".vector_cache/glove.6B.zip: 862MB [03:32, 4.07MB/s]                             \n",
      "100%|███████████████████████████████▉| 399999/400000 [00:07<00:00, 52504.91it/s]\n"
     ]
    }
   ],
   "source": [
    "from torchtext.vocab import GloVe\n",
    "vec = GloVe(name='6B', dim=50)"
   ]
  },
  {
   "cell_type": "code",
   "execution_count": 50,
   "id": "c5995cfc",
   "metadata": {},
   "outputs": [],
   "source": [
    "my_embeddings = torch.nn.Embedding.from_pretrained(vec.vectors,freeze=True)"
   ]
  },
  {
   "cell_type": "code",
   "execution_count": 51,
   "id": "60dab341",
   "metadata": {},
   "outputs": [],
   "source": [
    "class EncoderRNN(nn.Module):\n",
    "    def __init__(self, input_size, hidden_size):\n",
    "        super(EncoderRNN, self).__init__()\n",
    "        self.hidden_size = hidden_size\n",
    "\n",
    "        self.embedding = my_embeddings\n",
    "        self.gru = nn.GRU(hidden_size, hidden_size)\n",
    "\n",
    "    def forward(self, input, hidden):\n",
    "        embedded = self.embedding(input).view(1, 1, -1)\n",
    "        output = embedded\n",
    "        output, hidden = self.gru(output, hidden)\n",
    "        return output, hidden\n",
    "\n",
    "    def initHidden(self):\n",
    "        return torch.zeros(1, 1, self.hidden_size, device=device)"
   ]
  },
  {
   "cell_type": "code",
   "execution_count": null,
   "id": "b24fa9df",
   "metadata": {},
   "outputs": [
    {
     "name": "stdout",
     "output_type": "stream",
     "text": [
      "Reading lines...\n",
      "Read 135842 sentence pairs\n",
      "Trimmed to 10599 sentence pairs\n",
      "Counting words...\n",
      "Counted words:\n",
      "eng 2803\n",
      "fra 4345\n",
      "0m 10s (- 3m 19s) (1000 5%) 4.3112\n",
      "0m 21s (- 3m 13s) (2000 10%) 4.1056\n",
      "0m 32s (- 3m 4s) (3000 15%) 4.0276\n",
      "0m 43s (- 2m 54s) (4000 20%) 3.8823\n",
      "0m 55s (- 2m 45s) (5000 25%) 3.8376\n",
      "1m 6s (- 2m 34s) (6000 30%) 3.7878\n",
      "1m 17s (- 2m 23s) (7000 35%) 3.6717\n",
      "1m 28s (- 2m 13s) (8000 40%) 3.6597\n",
      "1m 40s (- 2m 3s) (9000 45%) 3.5932\n",
      "1m 52s (- 1m 52s) (10000 50%) 3.5514\n",
      "2m 4s (- 1m 41s) (11000 55%) 3.4503\n",
      "2m 17s (- 1m 31s) (12000 60%) 3.4005\n",
      "2m 29s (- 1m 20s) (13000 65%) 3.3915\n"
     ]
    }
   ],
   "source": [
    "hidden_size = 50\n",
    "input_lang, output_lang, pairs = prepareData('eng', 'fra', False)\n",
    "\n",
    "encoder1 = EncoderRNN(input_lang.n_words, hidden_size).to(device)\n",
    "attn_decoder1 = AttnDecoderRNN(hidden_size, output_lang.n_words, dropout_p=0.1).to(device)\n",
    "plot_losses = trainIters(encoder1, attn_decoder1, 20000, print_every=1000, plot_every=1000)"
   ]
  },
  {
   "cell_type": "code",
   "execution_count": null,
   "id": "8ecf16fd",
   "metadata": {},
   "outputs": [],
   "source": [
    "evaluateRandomly(encoder1, attn_decoder1)"
   ]
  }
 ],
 "metadata": {
  "kernelspec": {
   "display_name": "Python 3 (ipykernel)",
   "language": "python",
   "name": "python3"
  },
  "language_info": {
   "codemirror_mode": {
    "name": "ipython",
    "version": 3
   },
   "file_extension": ".py",
   "mimetype": "text/x-python",
   "name": "python",
   "nbconvert_exporter": "python",
   "pygments_lexer": "ipython3",
   "version": "3.9.12"
  }
 },
 "nbformat": 4,
 "nbformat_minor": 5
}
