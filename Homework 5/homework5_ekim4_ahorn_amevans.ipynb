{
  "nbformat": 4,
  "nbformat_minor": 0,
  "metadata": {
    "colab": {
      "provenance": [],
      "collapsed_sections": []
    },
    "kernelspec": {
      "name": "python3",
      "display_name": "Python 3"
    },
    "accelerator": "GPU"
  },
  "cells": [
    {
      "metadata": {
        "id": "r2NPAI4jZZgi"
      },
      "cell_type": "markdown",
      "source": [
        "# Modern Deep Learning: \n",
        "# Classify Fashion-MNIST with a simple CNN in Keras\n",
        "\n",
        "<br> By Margaret Maynard-Reid - 4/24/2018, modified by Aidan Horn, Adeline Evans, Eri Kim - 10/10/2022"
      ]
    },
    {
      "metadata": {
        "id": "LbCigZtNZZgl"
      },
      "cell_type": "markdown",
      "source": [
        "## Download the fashion_mnist data\n",
        "First let's install TensorFlow version 1.8.0 and import Tensorflow. Then we download fashion-mnist which is one of the Keras datasets. "
      ]
    },
    {
      "metadata": {
        "id": "d44TznbgZZgm",
        "colab": {
          "base_uri": "https://localhost:8080/"
        },
        "outputId": "1f5416aa-fcf9-4665-9f72-3ed56463426a"
      },
      "cell_type": "code",
      "source": [
        "!pip install -q -U tensorflow<=1.8.0\n",
        "import tensorflow as tf\n",
        "\n",
        "import numpy as np\n",
        "import matplotlib.pyplot as plt\n",
        "\n",
        "# Load the fashion-mnist pre-shuffled train data and test data\n",
        "(x_train, y_train), (x_test, y_test) = tf.keras.datasets.fashion_mnist.load_data()\n",
        "\n",
        "print(\"x_train shape:\", x_train.shape, \"y_train shape:\", y_train.shape)"
      ],
      "execution_count": null,
      "outputs": [
        {
          "output_type": "stream",
          "name": "stdout",
          "text": [
            "/bin/bash: =1.8.0: No such file or directory\n",
            "x_train shape: (60000, 28, 28) y_train shape: (60000,)\n"
          ]
        }
      ]
    },
    {
      "metadata": {
        "id": "tWORMSC8FDR4"
      },
      "cell_type": "markdown",
      "source": [
        "## Visualize the data"
      ]
    },
    {
      "metadata": {
        "id": "aFe4wHGRFKle",
        "colab": {
          "base_uri": "https://localhost:8080/",
          "height": 354
        },
        "outputId": "1ff68725-11f1-49f3-ef83-874b5f72222b"
      },
      "cell_type": "code",
      "source": [
        "# Print training set shape - note there are 60,000 training data of image size of 28x28, 60,000 train labels)\n",
        "print(\"x_train shape:\", x_train.shape, \"y_train shape:\", y_train.shape)\n",
        "\n",
        "# Print the number of training and test datasets\n",
        "print(x_train.shape[0], 'train set')\n",
        "print(x_test.shape[0], 'test set')\n",
        "\n",
        "# Define the text labels\n",
        "fashion_mnist_labels = [\"T-shirt/top\",  # index 0\n",
        "                        \"Trouser\",      # index 1\n",
        "                        \"Pullover\",     # index 2 \n",
        "                        \"Dress\",        # index 3 \n",
        "                        \"Coat\",         # index 4\n",
        "                        \"Sandal\",       # index 5\n",
        "                        \"Shirt\",        # index 6 \n",
        "                        \"Sneaker\",      # index 7 \n",
        "                        \"Bag\",          # index 8 \n",
        "                        \"Ankle boot\"]   # index 9\n",
        "\n",
        "# Image index, you can pick any number between 0 and 59,999\n",
        "img_index = 5\n",
        "# y_train contains the lables, ranging from 0 to 9\n",
        "label_index = y_train[img_index]\n",
        "# Print the label, for example 2 Pullover\n",
        "print (\"y = \" + str(label_index) + \" \" +(fashion_mnist_labels[label_index]))\n",
        "# # Show one of the images from the training dataset\n",
        "plt.imshow(x_train[img_index])"
      ],
      "execution_count": null,
      "outputs": [
        {
          "output_type": "stream",
          "name": "stdout",
          "text": [
            "x_train shape: (60000, 28, 28) y_train shape: (60000,)\n",
            "60000 train set\n",
            "10000 test set\n",
            "y = 2 Pullover\n"
          ]
        },
        {
          "output_type": "execute_result",
          "data": {
            "text/plain": [
              "<matplotlib.image.AxesImage at 0x7fcb4c2f1910>"
            ]
          },
          "metadata": {},
          "execution_count": 87
        },
        {
          "output_type": "display_data",
          "data": {
            "text/plain": [
              "<Figure size 432x288 with 1 Axes>"
            ],
            "image/png": "[encoded data removed]"
          },
          "metadata": {
            "needs_background": "light"
          }
        }
      ]
    },
    {
      "metadata": {
        "id": "Zx-Ee6LHZZgt"
      },
      "cell_type": "markdown",
      "source": [
        "## Data normalization\n",
        "Normalize the data dimensions so that they are of approximately the same scale."
      ]
    },
    {
      "metadata": {
        "id": "XNh5NIckZZgu"
      },
      "cell_type": "code",
      "source": [
        "x_train = x_train.astype('float32') / 255\n",
        "x_test = x_test.astype('float32') / 255"
      ],
      "execution_count": null,
      "outputs": []
    },
    {
      "metadata": {
        "id": "LMSg53fiZZgx",
        "colab": {
          "base_uri": "https://localhost:8080/"
        },
        "outputId": "45397cc6-65a8-4bca-c36d-d60058a84c56"
      },
      "cell_type": "code",
      "source": [
        "print(\"Number of train data - \" + str(len(x_train)))\n",
        "print(\"Number of test data - \" + str(len(x_test)))"
      ],
      "execution_count": null,
      "outputs": [
        {
          "output_type": "stream",
          "name": "stdout",
          "text": [
            "Number of train data - 60000\n",
            "Number of test data - 10000\n"
          ]
        }
      ]
    },
    {
      "metadata": {
        "id": "CFlNHktHBtru"
      },
      "cell_type": "markdown",
      "source": [
        "## Split the data into train/validation/test data sets\n",
        "\n",
        "\n",
        "*   Training data - used for training the model\n",
        "*   Validation data - used for tuning the hyperparameters and evaluate the models\n",
        "*   Test data - used to test the model after the model has gone through initial vetting by the validation set.\n",
        "\n"
      ]
    },
    {
      "metadata": {
        "id": "1ShU787gZZg0",
        "colab": {
          "base_uri": "https://localhost:8080/"
        },
        "outputId": "1505b217-4b84-4a44-9b61-9c2b40d193a4"
      },
      "cell_type": "code",
      "source": [
        "# Further break training data into train / validation sets (# put 5000 into validation set and keep remaining 55,000 for train)\n",
        "(x_train, x_valid) = x_train[5000:], x_train[:5000] \n",
        "(y_train, y_valid) = y_train[5000:], y_train[:5000]\n",
        "\n",
        "# Reshape input data from (28, 28) to (28, 28, 1)\n",
        "w, h = 28, 28\n",
        "x_train = x_train.reshape(x_train.shape[0], w, h, 1)\n",
        "x_valid = x_valid.reshape(x_valid.shape[0], w, h, 1)\n",
        "x_test = x_test.reshape(x_test.shape[0], w, h, 1)\n",
        "\n",
        "# One-hot encode the labels\n",
        "y_train = tf.keras.utils.to_categorical(y_train, 10)\n",
        "y_valid = tf.keras.utils.to_categorical(y_valid, 10)\n",
        "y_test = tf.keras.utils.to_categorical(y_test, 10)\n",
        "\n",
        "# Print training set shape\n",
        "print(\"x_train shape:\", x_train.shape, \"y_train shape:\", y_train.shape)\n",
        "\n",
        "# Print the number of training, validation, and test datasets\n",
        "print(x_train.shape[0], 'train set')\n",
        "print(x_valid.shape[0], 'validation set')\n",
        "print(x_test.shape[0], 'test set')"
      ],
      "execution_count": null,
      "outputs": [
        {
          "output_type": "stream",
          "name": "stdout",
          "text": [
            "x_train shape: (55000, 28, 28, 1) y_train shape: (55000, 10)\n",
            "55000 train set\n",
            "5000 validation set\n",
            "10000 test set\n"
          ]
        }
      ]
    },
    {
      "metadata": {
        "id": "QgTZ47SsZZg4",
        "colab": {
          "base_uri": "https://localhost:8080/"
        },
        "outputId": "dda5684f-5b42-4054-de16-5c7f71ac2be2"
      },
      "cell_type": "code",
      "source": [
        "model = tf.keras.Sequential()\n",
        "\n",
        "# Must define the input shape in the first layer of the neural network\n",
        "model.add(tf.keras.layers.Conv2D(filters=64, kernel_size=2, padding='same', activation='relu', input_shape=(28,28,1))) \n",
        "model.add(tf.keras.layers.MaxPooling2D(pool_size=2))\n",
        "model.add(tf.keras.layers.Dropout(0.3))\n",
        "\n",
        "model.add(tf.keras.layers.Conv2D(filters=32, kernel_size=2, padding='same', activation='relu'))\n",
        "model.add(tf.keras.layers.MaxPooling2D(pool_size=2))\n",
        "model.add(tf.keras.layers.Dropout(0.3))\n",
        "\n",
        "model.add(tf.keras.layers.Flatten())\n",
        "model.add(tf.keras.layers.Dense(256, activation='relu'))\n",
        "model.add(tf.keras.layers.Dropout(0.5))\n",
        "model.add(tf.keras.layers.Dense(10, activation='softmax'))\n",
        "\n",
        "# Take a look at the model summary\n",
        "model.summary()"
      ],
      "execution_count": null,
      "outputs": [
        {
          "output_type": "stream",
          "name": "stdout",
          "text": [
            "Model: \"sequential_6\"\n",
            "_________________________________________________________________\n",
            " Layer (type)                Output Shape              Param #   \n",
            "=================================================================\n",
            " conv2d_8 (Conv2D)           (None, 28, 28, 64)        320       \n",
            "                                                                 \n",
            " max_pooling2d_8 (MaxPooling  (None, 14, 14, 64)       0         \n",
            " 2D)                                                             \n",
            "                                                                 \n",
            " dropout_6 (Dropout)         (None, 14, 14, 64)        0         \n",
            "                                                                 \n",
            " conv2d_9 (Conv2D)           (None, 14, 14, 32)        8224      \n",
            "                                                                 \n",
            " max_pooling2d_9 (MaxPooling  (None, 7, 7, 32)         0         \n",
            " 2D)                                                             \n",
            "                                                                 \n",
            " dropout_7 (Dropout)         (None, 7, 7, 32)          0         \n",
            "                                                                 \n",
            " flatten_6 (Flatten)         (None, 1568)              0         \n",
            "                                                                 \n",
            " dense_12 (Dense)            (None, 256)               401664    \n",
            "                                                                 \n",
            " dropout_8 (Dropout)         (None, 256)               0         \n",
            "                                                                 \n",
            " dense_13 (Dense)            (None, 10)                2570      \n",
            "                                                                 \n",
            "=================================================================\n",
            "Total params: 412,778\n",
            "Trainable params: 412,778\n",
            "Non-trainable params: 0\n",
            "_________________________________________________________________\n"
          ]
        }
      ]
    },
    {
      "metadata": {
        "id": "FhxJ5dinZZg8"
      },
      "cell_type": "markdown",
      "source": [
        "## Compile the model\n"
      ]
    },
    {
      "metadata": {
        "id": "CQUlOa8cZZg9"
      },
      "cell_type": "code",
      "source": [
        "model.compile(loss='categorical_crossentropy',\n",
        "             optimizer='adam',\n",
        "             metrics=['accuracy'])"
      ],
      "execution_count": null,
      "outputs": []
    },
    {
      "metadata": {
        "id": "DtOvh3YVZZg_"
      },
      "cell_type": "markdown",
      "source": [
        "## Train the model\n"
      ]
    },
    {
      "metadata": {
        "id": "ZTmapAttZZhA",
        "colab": {
          "base_uri": "https://localhost:8080/"
        },
        "outputId": "77f01e55-3cdb-4d32-af2b-eafde87854f5"
      },
      "cell_type": "code",
      "source": [
        "from keras.callbacks import ModelCheckpoint, TensorBoard\n",
        "import datetime\n",
        "\n",
        "log_dir = \"logs/fit/\" + datetime.datetime.now().strftime(\"%Y%m%d-%H%M%S\")\n",
        "\n",
        "callback_tb = TensorBoard(log_dir=log_dir , write_grads = True)\n",
        "checkpointer = ModelCheckpoint(filepath='model.weights.best.hdf5', verbose = 1, save_best_only=True)\n",
        "model.fit(x_train,\n",
        "         y_train,\n",
        "         batch_size=64,\n",
        "         epochs=20,\n",
        "         validation_data=(x_valid, y_valid),\n",
        "         callbacks=[checkpointer])"
      ],
      "execution_count": null,
      "outputs": [
        {
          "metadata": {
            "tags": null
          },
          "name": "stderr",
          "output_type": "stream",
          "text": [
            "WARNING:tensorflow:`write_grads` will be ignored in TensorFlow 2.0 for the `TensorBoard` Callback.\n"
          ]
        },
        {
          "metadata": {
            "tags": null
          },
          "name": "stdout",
          "output_type": "stream",
          "text": [
            "Epoch 1/20\n",
            "849/860 [============================>.] - ETA: 0s - loss: 0.5867 - accuracy: 0.7844\n",
            "Epoch 1: val_loss improved from inf to 0.37082, saving model to model.weights.best.hdf5\n",
            "860/860 [==============================] - 5s 5ms/step - loss: 0.5842 - accuracy: 0.7853 - val_loss: 0.3708 - val_accuracy: 0.8668\n",
            "Epoch 2/20\n",
            "858/860 [============================>.] - ETA: 0s - loss: 0.4059 - accuracy: 0.8531\n",
            "Epoch 2: val_loss improved from 0.37082 to 0.32861, saving model to model.weights.best.hdf5\n",
            "860/860 [==============================] - 4s 5ms/step - loss: 0.4060 - accuracy: 0.8530 - val_loss: 0.3286 - val_accuracy: 0.8850\n",
            "Epoch 3/20\n",
            "859/860 [============================>.] - ETA: 0s - loss: 0.3661 - accuracy: 0.8668\n",
            "Epoch 3: val_loss improved from 0.32861 to 0.28524, saving model to model.weights.best.hdf5\n",
            "860/860 [==============================] - 4s 5ms/step - loss: 0.3660 - accuracy: 0.8668 - val_loss: 0.2852 - val_accuracy: 0.8960\n",
            "Epoch 4/20\n",
            "850/860 [============================>.] - ETA: 0s - loss: 0.3382 - accuracy: 0.8769\n",
            "Epoch 4: val_loss improved from 0.28524 to 0.27706, saving model to model.weights.best.hdf5\n",
            "860/860 [==============================] - 4s 5ms/step - loss: 0.3386 - accuracy: 0.8769 - val_loss: 0.2771 - val_accuracy: 0.8976\n",
            "Epoch 5/20\n",
            "855/860 [============================>.] - ETA: 0s - loss: 0.3224 - accuracy: 0.8819\n",
            "Epoch 5: val_loss did not improve from 0.27706\n",
            "860/860 [==============================] - 4s 5ms/step - loss: 0.3220 - accuracy: 0.8821 - val_loss: 0.2775 - val_accuracy: 0.8968\n",
            "Epoch 6/20\n",
            "853/860 [============================>.] - ETA: 0s - loss: 0.3067 - accuracy: 0.8858\n",
            "Epoch 6: val_loss improved from 0.27706 to 0.25008, saving model to model.weights.best.hdf5\n",
            "860/860 [==============================] - 4s 5ms/step - loss: 0.3067 - accuracy: 0.8859 - val_loss: 0.2501 - val_accuracy: 0.9056\n",
            "Epoch 7/20\n",
            "857/860 [============================>.] - ETA: 0s - loss: 0.2935 - accuracy: 0.8921\n",
            "Epoch 7: val_loss improved from 0.25008 to 0.24127, saving model to model.weights.best.hdf5\n",
            "860/860 [==============================] - 4s 5ms/step - loss: 0.2936 - accuracy: 0.8920 - val_loss: 0.2413 - val_accuracy: 0.9096\n",
            "Epoch 8/20\n",
            "854/860 [============================>.] - ETA: 0s - loss: 0.2839 - accuracy: 0.8942\n",
            "Epoch 8: val_loss improved from 0.24127 to 0.23803, saving model to model.weights.best.hdf5\n",
            "860/860 [==============================] - 4s 5ms/step - loss: 0.2837 - accuracy: 0.8943 - val_loss: 0.2380 - val_accuracy: 0.9098\n",
            "Epoch 9/20\n",
            "860/860 [==============================] - ETA: 0s - loss: 0.2753 - accuracy: 0.8984\n",
            "Epoch 9: val_loss improved from 0.23803 to 0.22850, saving model to model.weights.best.hdf5\n",
            "860/860 [==============================] - 4s 5ms/step - loss: 0.2753 - accuracy: 0.8984 - val_loss: 0.2285 - val_accuracy: 0.9166\n",
            "Epoch 10/20\n",
            "856/860 [============================>.] - ETA: 0s - loss: 0.2664 - accuracy: 0.9005\n",
            "Epoch 10: val_loss improved from 0.22850 to 0.22454, saving model to model.weights.best.hdf5\n",
            "860/860 [==============================] - 4s 5ms/step - loss: 0.2667 - accuracy: 0.9005 - val_loss: 0.2245 - val_accuracy: 0.9144\n",
            "Epoch 11/20\n",
            "857/860 [============================>.] - ETA: 0s - loss: 0.2605 - accuracy: 0.9040\n",
            "Epoch 11: val_loss did not improve from 0.22454\n",
            "860/860 [==============================] - 4s 5ms/step - loss: 0.2606 - accuracy: 0.9039 - val_loss: 0.2292 - val_accuracy: 0.9126\n",
            "Epoch 12/20\n",
            "852/860 [============================>.] - ETA: 0s - loss: 0.2530 - accuracy: 0.9061\n",
            "Epoch 12: val_loss did not improve from 0.22454\n",
            "860/860 [==============================] - 6s 7ms/step - loss: 0.2532 - accuracy: 0.9060 - val_loss: 0.2256 - val_accuracy: 0.9154\n",
            "Epoch 13/20\n",
            "855/860 [============================>.] - ETA: 0s - loss: 0.2513 - accuracy: 0.9070\n",
            "Epoch 13: val_loss improved from 0.22454 to 0.21997, saving model to model.weights.best.hdf5\n",
            "860/860 [==============================] - 4s 5ms/step - loss: 0.2511 - accuracy: 0.9071 - val_loss: 0.2200 - val_accuracy: 0.9186\n",
            "Epoch 14/20\n",
            "858/860 [============================>.] - ETA: 0s - loss: 0.2411 - accuracy: 0.9097\n",
            "Epoch 14: val_loss improved from 0.21997 to 0.20708, saving model to model.weights.best.hdf5\n",
            "860/860 [==============================] - 4s 5ms/step - loss: 0.2413 - accuracy: 0.9096 - val_loss: 0.2071 - val_accuracy: 0.9232\n",
            "Epoch 15/20\n",
            "850/860 [============================>.] - ETA: 0s - loss: 0.2386 - accuracy: 0.9116\n",
            "Epoch 15: val_loss did not improve from 0.20708\n",
            "860/860 [==============================] - 4s 5ms/step - loss: 0.2390 - accuracy: 0.9114 - val_loss: 0.2147 - val_accuracy: 0.9178\n",
            "Epoch 16/20\n",
            "849/860 [============================>.] - ETA: 0s - loss: 0.2342 - accuracy: 0.9126\n",
            "Epoch 16: val_loss did not improve from 0.20708\n",
            "860/860 [==============================] - 4s 5ms/step - loss: 0.2338 - accuracy: 0.9128 - val_loss: 0.2151 - val_accuracy: 0.9182\n",
            "Epoch 17/20\n",
            "859/860 [============================>.] - ETA: 0s - loss: 0.2312 - accuracy: 0.9123\n",
            "Epoch 17: val_loss did not improve from 0.20708\n",
            "860/860 [==============================] - 4s 5ms/step - loss: 0.2312 - accuracy: 0.9123 - val_loss: 0.2111 - val_accuracy: 0.9190\n",
            "Epoch 18/20\n",
            "856/860 [============================>.] - ETA: 0s - loss: 0.2256 - accuracy: 0.9144\n",
            "Epoch 18: val_loss did not improve from 0.20708\n",
            "860/860 [==============================] - 4s 5ms/step - loss: 0.2258 - accuracy: 0.9144 - val_loss: 0.2142 - val_accuracy: 0.9222\n",
            "Epoch 19/20\n",
            "860/860 [==============================] - ETA: 0s - loss: 0.2242 - accuracy: 0.9163\n",
            "Epoch 19: val_loss did not improve from 0.20708\n",
            "860/860 [==============================] - 4s 5ms/step - loss: 0.2242 - accuracy: 0.9163 - val_loss: 0.2116 - val_accuracy: 0.9220\n",
            "Epoch 20/20\n",
            "857/860 [============================>.] - ETA: 0s - loss: 0.2222 - accuracy: 0.9159\n",
            "Epoch 20: val_loss improved from 0.20708 to 0.20681, saving model to model.weights.best.hdf5\n",
            "860/860 [==============================] - 4s 5ms/step - loss: 0.2222 - accuracy: 0.9159 - val_loss: 0.2068 - val_accuracy: 0.9234\n"
          ]
        },
        {
          "output_type": "execute_result",
          "data": {
            "text/plain": [
              "<keras.callbacks.History at 0x7fcb4d26eed0>"
            ]
          },
          "metadata": {},
          "execution_count": 93
        }
      ]
    },
    {
      "metadata": {
        "id": "e-MGLwZQy05d"
      },
      "cell_type": "markdown",
      "source": [
        "## Load Model with the best validation accuracy"
      ]
    },
    {
      "metadata": {
        "id": "UD1tecxUZZhE"
      },
      "cell_type": "code",
      "source": [
        "# Load the weights with the best validation accuracy\n",
        "model.load_weights('model.weights.best.hdf5')"
      ],
      "execution_count": null,
      "outputs": []
    },
    {
      "metadata": {
        "id": "9RTRkan4yq5H"
      },
      "cell_type": "markdown",
      "source": [
        "## Test Accuracy"
      ]
    },
    {
      "metadata": {
        "id": "VZtqBqFFy62R",
        "colab": {
          "base_uri": "https://localhost:8080/"
        },
        "outputId": "8ab3671d-f94b-4418-84d4-4e56ac8114f0"
      },
      "cell_type": "code",
      "source": [
        "# Evaluate the model on test set\n",
        "score = model.evaluate(x_test, y_test, verbose=0)\n",
        "\n",
        "# Print test accuracy\n",
        "print('\\n', 'Test accuracy:', score[1])"
      ],
      "execution_count": null,
      "outputs": [
        {
          "output_type": "stream",
          "name": "stdout",
          "text": [
            "\n",
            " Test accuracy: 0.9210000038146973\n"
          ]
        }
      ]
    },
    {
      "metadata": {
        "id": "oJv7XEk10bOv"
      },
      "cell_type": "markdown",
      "source": [
        "## Visualize prediction\n",
        "Now let's visualize the prediction using the model you just trained. \n",
        "First we get the predictions with the model from the test data.\n",
        "Then we print out 15 images from the test data set, and set the titles with the prediction (and the groud truth label).\n",
        "If the prediction matches the true label, the title will be green; otherwise it's displayed in red."
      ]
    },
    {
      "metadata": {
        "id": "QwNmlfIC0YxM",
        "colab": {
          "base_uri": "https://localhost:8080/",
          "height": 485
        },
        "outputId": "3bc67fe6-5b52-4d98-cf41-4ad7dedae600"
      },
      "cell_type": "code",
      "source": [
        "y_hat = model.predict(x_test)\n",
        "\n",
        "# Plot a random sample of 10 test images, their predicted labels and ground truth\n",
        "figure = plt.figure(figsize=(20, 8))\n",
        "for i, index in enumerate(np.random.choice(x_test.shape[0], size=15, replace=False)):\n",
        "    ax = figure.add_subplot(3, 5, i + 1, xticks=[], yticks=[])\n",
        "    # Display each image\n",
        "    ax.imshow(np.squeeze(x_test[index]))\n",
        "    predict_index = np.argmax(y_hat[index])\n",
        "    true_index = np.argmax(y_test[index])\n",
        "    # Set the title for each image\n",
        "    ax.set_title(\"{} ({})\".format(fashion_mnist_labels[predict_index], \n",
        "                                  fashion_mnist_labels[true_index]),\n",
        "                                  color=(\"green\" if predict_index == true_index else \"red\"))"
      ],
      "execution_count": null,
      "outputs": [
        {
          "output_type": "display_data",
          "data": {
            "text/plain": [
              "<Figure size 1440x576 with 15 Axes>"
            ],
            "image/png": "[encoded data removed]"
          },
          "metadata": {}
        }
      ]
    },
    {
      "cell_type": "markdown",
      "source": [
        "# Representing a Convolutional Neural Network as a Fully-Connected Neural Network \n",
        "\n",
        "### Implement exactly the following architecture using TensorFlow:\n",
        "• Convolution layer with 64 filters, each 3x3, stride of 1 (i.e , apply the filter at all pixel locations), no padding.\n",
        "\n",
        "• Max pool with a pooling width of 2x2, stride of 2, no padding.\n",
        "\n",
        "• ReLU.\n",
        "\n",
        "• Flatten the 64 feature maps into one long vector.\n",
        "\n",
        "• Fully-connected layer to map into a 1024-dimensional vector.\n",
        "\n",
        "• ReLU.\n",
        "\n",
        "• Fully-connected layer to map into a 10-dimensional vector.\n",
        "\n",
        "• Softmax.\n",
        "\n",
        "Then train the network for a few epochs (the exact accuracy doesn’t matter for this problem)."
      ],
      "metadata": {
        "id": "yJ844BKvDeH_"
      }
    },
    {
      "cell_type": "code",
      "source": [
        "model_1 = tf.keras.Sequential()\n",
        "\n",
        "# Must define the input shape in the first layer of the neural network\n",
        "model_1.add(tf.keras.layers.Conv2D(filters=64, kernel_size=3, padding='valid', activation='relu',\n",
        "                                  input_shape=(28, 28, 1)))\n",
        "model_1.add(tf.keras.layers.MaxPooling2D(pool_size=2, strides=2, padding='valid'))\n",
        "model_1.add(tf.keras.layers.ReLU())\n",
        "model_1.add(tf.keras.layers.Flatten())\n",
        "model_1.add(tf.keras.layers.Dense(1024, activation='linear'))\n",
        "model_1.add(tf.keras.layers.ReLU())\n",
        "model_1.add(tf.keras.layers.Dense(10, activation='linear'))\n",
        "model_1.add(tf.keras.layers.Softmax())\n",
        "\n",
        "# # Take a look at the model summary\n",
        "model_1.summary()\n",
        "model_1.compile(loss='categorical_crossentropy',\n",
        "              optimizer='adam',\n",
        "              metrics=['accuracy'])\n",
        "\n",
        "model_1.fit(x_train,\n",
        "          y_train,\n",
        "          batch_size=64,\n",
        "          epochs=10,\n",
        "          validation_data=(x_valid, y_valid))\n",
        "\n",
        "# Evaluate the model on test set\n",
        "score = model_1.evaluate(x_test, y_test, verbose=0)\n",
        "\n",
        "# Print test accuracy\n",
        "print('\\n', 'Test accuracy:', score[1])\n",
        "\n",
        "model_1.summary()\n",
        "model_1.trainable_variables\n",
        "model_1.save(\"cnn_model\")\n"
      ],
      "metadata": {
        "colab": {
          "base_uri": "https://localhost:8080/"
        },
        "id": "9hc1VgGoD8g-",
        "outputId": "f74703de-10e0-415a-eb5e-1e858efd035b"
      },
      "execution_count": null,
      "outputs": [
        {
          "output_type": "stream",
          "name": "stdout",
          "text": [
            "Model: \"sequential_7\"\n",
            "_________________________________________________________________\n",
            " Layer (type)                Output Shape              Param #   \n",
            "=================================================================\n",
            " conv2d_10 (Conv2D)          (None, 26, 26, 64)        640       \n",
            "                                                                 \n",
            " max_pooling2d_10 (MaxPoolin  (None, 13, 13, 64)       0         \n",
            " g2D)                                                            \n",
            "                                                                 \n",
            " re_lu_6 (ReLU)              (None, 13, 13, 64)        0         \n",
            "                                                                 \n",
            " flatten_7 (Flatten)         (None, 10816)             0         \n",
            "                                                                 \n",
            " dense_14 (Dense)            (None, 1024)              11076608  \n",
            "                                                                 \n",
            " re_lu_7 (ReLU)              (None, 1024)              0         \n",
            "                                                                 \n",
            " dense_15 (Dense)            (None, 10)                10250     \n",
            "                                                                 \n",
            " softmax_3 (Softmax)         (None, 10)                0         \n",
            "                                                                 \n",
            "=================================================================\n",
            "Total params: 11,087,498\n",
            "Trainable params: 11,087,498\n",
            "Non-trainable params: 0\n",
            "_________________________________________________________________\n",
            "Epoch 1/10\n",
            "860/860 [==============================] - 7s 7ms/step - loss: 0.3657 - accuracy: 0.8692 - val_loss: 0.2830 - val_accuracy: 0.9016\n",
            "Epoch 2/10\n",
            "860/860 [==============================] - 6s 7ms/step - loss: 0.2409 - accuracy: 0.9109 - val_loss: 0.2515 - val_accuracy: 0.9054\n",
            "Epoch 3/10\n",
            "860/860 [==============================] - 6s 7ms/step - loss: 0.1878 - accuracy: 0.9298 - val_loss: 0.2216 - val_accuracy: 0.9168\n",
            "Epoch 4/10\n",
            "860/860 [==============================] - 6s 7ms/step - loss: 0.1505 - accuracy: 0.9440 - val_loss: 0.2419 - val_accuracy: 0.9146\n",
            "Epoch 5/10\n",
            "860/860 [==============================] - 6s 7ms/step - loss: 0.1197 - accuracy: 0.9550 - val_loss: 0.2635 - val_accuracy: 0.9130\n",
            "Epoch 6/10\n",
            "860/860 [==============================] - 6s 7ms/step - loss: 0.0939 - accuracy: 0.9658 - val_loss: 0.2718 - val_accuracy: 0.9176\n",
            "Epoch 7/10\n",
            "860/860 [==============================] - 6s 7ms/step - loss: 0.0717 - accuracy: 0.9748 - val_loss: 0.2777 - val_accuracy: 0.9216\n",
            "Epoch 8/10\n",
            "860/860 [==============================] - 6s 7ms/step - loss: 0.0562 - accuracy: 0.9799 - val_loss: 0.2882 - val_accuracy: 0.9250\n",
            "Epoch 9/10\n",
            "860/860 [==============================] - 6s 7ms/step - loss: 0.0459 - accuracy: 0.9835 - val_loss: 0.3254 - val_accuracy: 0.9202\n",
            "Epoch 10/10\n",
            "860/860 [==============================] - 6s 7ms/step - loss: 0.0362 - accuracy: 0.9875 - val_loss: 0.3446 - val_accuracy: 0.9222\n",
            "\n",
            " Test accuracy: 0.9190000295639038\n",
            "Model: \"sequential_7\"\n",
            "_________________________________________________________________\n",
            " Layer (type)                Output Shape              Param #   \n",
            "=================================================================\n",
            " conv2d_10 (Conv2D)          (None, 26, 26, 64)        640       \n",
            "                                                                 \n",
            " max_pooling2d_10 (MaxPoolin  (None, 13, 13, 64)       0         \n",
            " g2D)                                                            \n",
            "                                                                 \n",
            " re_lu_6 (ReLU)              (None, 13, 13, 64)        0         \n",
            "                                                                 \n",
            " flatten_7 (Flatten)         (None, 10816)             0         \n",
            "                                                                 \n",
            " dense_14 (Dense)            (None, 1024)              11076608  \n",
            "                                                                 \n",
            " re_lu_7 (ReLU)              (None, 1024)              0         \n",
            "                                                                 \n",
            " dense_15 (Dense)            (None, 10)                10250     \n",
            "                                                                 \n",
            " softmax_3 (Softmax)         (None, 10)                0         \n",
            "                                                                 \n",
            "=================================================================\n",
            "Total params: 11,087,498\n",
            "Trainable params: 11,087,498\n",
            "Non-trainable params: 0\n",
            "_________________________________________________________________\n"
          ]
        }
      ]
    },
    {
      "cell_type": "code",
      "source": [
        "tf.keras.utils.plot_model(model_1)"
      ],
      "metadata": {
        "colab": {
          "base_uri": "https://localhost:8080/",
          "height": 856
        },
        "id": "pE4R4PlXNWaZ",
        "outputId": "cf7e64b3-fccd-43a3-9263-b5d70d497c36"
      },
      "execution_count": null,
      "outputs": [
        {
          "output_type": "execute_result",
          "data": {
            "image/png": "[encoded data removed]",
            "text/plain": [
              "<IPython.core.display.Image object>"
            ]
          },
          "metadata": {},
          "execution_count": 98
        }
      ]
    },
    {
      "cell_type": "code",
      "source": [
        "def maxpool (input):\n",
        "    res = []\n",
        "\n",
        "    # convert (26,26,64) to (64,26,26)\n",
        "    input = np.rollaxis(input, 2) \n",
        "\n",
        "    for x in input:\n",
        "        num_rows = int(x.shape[0]/2)\n",
        "        num_columns = int(x.shape[1]/2)\n",
        "        feature_map = np.zeros((num_rows, num_columns))\n",
        "\n",
        "        for i in range(num_rows):\n",
        "            row = []\n",
        "            for j in range(num_columns):\n",
        "                    pool = []\n",
        "                    for a in range(2):\n",
        "                        for b in range(2):\n",
        "                            pool.append(x[i*2+a, j*2+b])\n",
        "                    feature_map[i, j] = np.max(pool)\n",
        "        res.append(feature_map)\n",
        "    res = np.asarray(res)\n",
        "    res = np.rollaxis(res, 0, 3) # convert (64,13,13) to (13,13,64)\n",
        "    return res\n",
        "\n",
        "def softmax (x):\n",
        "    return np.exp(x)/np.sum(np.exp(x))\n",
        "\n",
        "def relu (x):\n",
        "    return (x > 0) * x\n",
        "\n",
        "def convolution(x,W1,b1):\n",
        "    # print(W1.shape) # (3, 3, 1, 64) -> 3x3 matrix (9 arrays) where each array is a (1x64) vector\n",
        "    filter_width = W1.shape[0] # 3\n",
        "    num_filters = W1.shape[3] # 64\n",
        "    output = []\n",
        "\n",
        "    # loop to convolve all the filters over the image\n",
        "    for k in range(num_filters):\n",
        "        feature_map = np.zeros((x.shape[0] - filter_width + 1, x.shape[1] - filter_width + 1))\n",
        "        filter = W1[:,:,0,k]\n",
        "        # move filter vertically\n",
        "        for i in range(x.shape[0] - filter_width + 1):\n",
        "          # move filter horizontally\n",
        "            for j in range(x.shape[1] - filter_width + 1):\n",
        "                window = np.zeros((filter_width, filter_width))\n",
        "                for m in range(filter_width):\n",
        "                    for n in range(filter_width):\n",
        "                        window[m,n] = x[i + m, j + n]\n",
        "                # filter is multipled element-wise(*) with a section of the input image\n",
        "                # the result is summed to obtain a single val using sum() \n",
        "                # then added with a bias term\n",
        "                feature_map[i,j] = np.sum(window*filter) + b1[k]\n",
        "        output.append(feature_map)\n",
        "    output = np.asarray(output)\n",
        "    output = np.rollaxis(output, 0, 3)\n",
        "    return output\n",
        "\n",
        "def forward_propagation(x, W1, b1, W2, b2, W3, b3):\n",
        "    # convolution layer\n",
        "    tensor = convolution(x, W1, b1)  # (26, 26, 64)\n",
        "    # max pool layer\n",
        "    tensor = maxpool(tensor)\n",
        "    # relu layer\n",
        "    tensor = relu(tensor)\n",
        "    # flatten layer\n",
        "    tensor = tensor.flatten()\n",
        "    # fully connected layer (mapping into a 1024 dimensional vector)\n",
        "    tensor = np.asarray(W2).T.dot(tensor) + np.asarray(b2)\n",
        "    tensor = relu(tensor)\n",
        "    # # fully connected layer (mapping into a 10 dimensional vector)\n",
        "    tensor = np.asarray(W3).T.dot(tensor) + np.asarray(b3)\n",
        "    # softmax layer\n",
        "    yhat = softmax(tensor)\n",
        "\n",
        "    return yhat"
      ],
      "metadata": {
        "id": "0VheXFyGFkPk"
      },
      "execution_count": null,
      "outputs": []
    },
    {
      "cell_type": "code",
      "source": [
        "model = tf.keras.models.load_model(\"cnn_model\")\n",
        "print(model.summary())\n",
        "\n",
        "# Extract the weights from the TensorFlow model\n",
        "k = model.trainable_variables\n",
        "W1, b1, W2, b2, W3, b3 = k[0], k[1], k[2], k[3], k[4], k[5]\n",
        "\n",
        "# Pick an arbitrary Fashion MNIST image, classify it, \n",
        "# and show that you get the exact same predictive distribution\n",
        "x = x_test[0, :, :, :] # input: 28 x 28 x 1\n",
        "fully_connected_yhat = forward_propagation(x, W1, b1, W2, b2, W3, b3)\n",
        "\n",
        "# TensorFlow\n",
        "tensorflow_yhat = model.predict(x_test)[0]\n",
        "print(\"-----TensorFlow Convolutional Neural Network prediction-----\")\n",
        "print(tensorflow_yhat)\n",
        "\n",
        "#  Fully-Connected Neural Network\n",
        "print(\"-----Fully-connected Neural Network prediciton-----\")\n",
        "print(fully_connected_yhat)"
      ],
      "metadata": {
        "id": "K3x6Bo36Fsx5",
        "colab": {
          "base_uri": "https://localhost:8080/"
        },
        "outputId": "24530aa3-2ede-4212-fa41-f6a72f75dad7"
      },
      "execution_count": null,
      "outputs": [
        {
          "output_type": "stream",
          "name": "stdout",
          "text": [
            "Model: \"sequential_7\"\n",
            "_________________________________________________________________\n",
            " Layer (type)                Output Shape              Param #   \n",
            "=================================================================\n",
            " conv2d_10 (Conv2D)          (None, 26, 26, 64)        640       \n",
            "                                                                 \n",
            " max_pooling2d_10 (MaxPoolin  (None, 13, 13, 64)       0         \n",
            " g2D)                                                            \n",
            "                                                                 \n",
            " re_lu_6 (ReLU)              (None, 13, 13, 64)        0         \n",
            "                                                                 \n",
            " flatten_7 (Flatten)         (None, 10816)             0         \n",
            "                                                                 \n",
            " dense_14 (Dense)            (None, 1024)              11076608  \n",
            "                                                                 \n",
            " re_lu_7 (ReLU)              (None, 1024)              0         \n",
            "                                                                 \n",
            " dense_15 (Dense)            (None, 10)                10250     \n",
            "                                                                 \n",
            " softmax_3 (Softmax)         (None, 10)                0         \n",
            "                                                                 \n",
            "=================================================================\n",
            "Total params: 11,087,498\n",
            "Trainable params: 11,087,498\n",
            "Non-trainable params: 0\n",
            "_________________________________________________________________\n",
            "None\n",
            "-----TensorFlow Convolutional Neural Network prediction-----\n",
            "[3.4604136e-10 1.0049199e-09 2.5950242e-10 1.0259938e-09 4.1997542e-10\n",
            " 6.4111720e-09 6.2577227e-10 7.6584308e-07 4.2742197e-15 9.9999917e-01]\n",
            "-----Fully-connected Neural Network prediciton-----\n",
            "[3.46041465e-10 1.00492054e-09 2.59502547e-10 1.02599320e-09\n",
            " 4.19975630e-10 6.41117307e-09 6.25772771e-10 7.65843106e-07\n",
            " 4.27422585e-15 9.99999224e-01]\n"
          ]
        }
      ]
    }
  ]
}