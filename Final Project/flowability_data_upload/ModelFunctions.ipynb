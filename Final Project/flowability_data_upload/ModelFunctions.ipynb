{
 "cells": [
  {
   "cell_type": "code",
   "execution_count": 5,
   "id": "205a24ae",
   "metadata": {},
   "outputs": [],
   "source": [
    "import os\n",
    "import sys\n",
    "module_path = os.path.abspath(os.path.join('..'))\n",
    "if module_path not in sys.path:\n",
    "    sys.path.append(module_path)"
   ]
  },
  {
   "cell_type": "code",
   "execution_count": 17,
   "id": "4b845200",
   "metadata": {},
   "outputs": [],
   "source": [
    "import io, os, sys, types\n",
    "from IPython import get_ipython\n",
    "from nbformat import current\n",
    "from IPython.core.interactiveshell import InteractiveShell"
   ]
  },
  {
   "cell_type": "code",
   "execution_count": 10,
   "id": "aee1581a",
   "metadata": {},
   "outputs": [
    {
     "data": {
      "text/plain": [
       "'C:\\\\Users\\\\eadel\\\\Documents\\\\DDMSTools'"
      ]
     },
     "execution_count": 10,
     "metadata": {},
     "output_type": "execute_result"
    }
   ],
   "source": [
    "module_path"
   ]
  },
  {
   "cell_type": "code",
   "execution_count": 19,
   "id": "002ef9e9",
   "metadata": {},
   "outputs": [],
   "source": [
    "from flowability_data_upload.local.generate_datasets.loaddata import load_data\n",
    "import flowability_data_upload.local.preprocess as preprocess"
   ]
  },
  {
   "cell_type": "code",
   "execution_count": 18,
   "id": "01bd33f1",
   "metadata": {},
   "outputs": [
    {
     "ename": "ModuleNotFoundError",
     "evalue": "No module named 'main'",
     "output_type": "error",
     "traceback": [
      "\u001b[1;31m---------------------------------------------------------------------------\u001b[0m",
      "\u001b[1;31mModuleNotFoundError\u001b[0m                       Traceback (most recent call last)",
      "\u001b[1;32m<ipython-input-18-9da61949e242>\u001b[0m in \u001b[0;36m<module>\u001b[1;34m\u001b[0m\n\u001b[1;32m----> 1\u001b[1;33m \u001b[1;32mfrom\u001b[0m \u001b[0mmain\u001b[0m \u001b[1;32mimport\u001b[0m \u001b[0mvisualize_correlation\u001b[0m\u001b[1;33m\u001b[0m\u001b[1;33m\u001b[0m\u001b[0m\n\u001b[0m",
      "\u001b[1;31mModuleNotFoundError\u001b[0m: No module named 'main'"
     ]
    }
   ],
   "source": [
    "from main import visualize_correlation"
   ]
  },
  {
   "cell_type": "code",
   "execution_count": null,
   "id": "8d8f63fd",
   "metadata": {},
   "outputs": [],
   "source": [
    "from flowability"
   ]
  },
  {
   "cell_type": "code",
   "execution_count": 20,
   "id": "1f087cce",
   "metadata": {},
   "outputs": [
    {
     "ename": "ModuleNotFoundError",
     "evalue": "No module named 'ipynb'",
     "output_type": "error",
     "traceback": [
      "\u001b[1;31m---------------------------------------------------------------------------\u001b[0m",
      "\u001b[1;31mModuleNotFoundError\u001b[0m                       Traceback (most recent call last)",
      "\u001b[1;32m<ipython-input-20-1a26ab04cad7>\u001b[0m in \u001b[0;36m<module>\u001b[1;34m\u001b[0m\n\u001b[1;32m----> 1\u001b[1;33m \u001b[1;32mfrom\u001b[0m \u001b[0mipynb\u001b[0m\u001b[1;33m.\u001b[0m\u001b[0mfs\u001b[0m\u001b[1;33m.\u001b[0m\u001b[0mfull\u001b[0m\u001b[1;33m.\u001b[0m\u001b[0mDataAnalysis\u001b[0m \u001b[1;32mimport\u001b[0m \u001b[0mfactorial\u001b[0m\u001b[1;33m\u001b[0m\u001b[1;33m\u001b[0m\u001b[0m\n\u001b[0m",
      "\u001b[1;31mModuleNotFoundError\u001b[0m: No module named 'ipynb'"
     ]
    }
   ],
   "source": [
    "from ipynb.fs.full.DataAnalysis import factorial"
   ]
  },
  {
   "cell_type": "code",
   "execution_count": 22,
   "id": "aa984295",
   "metadata": {},
   "outputs": [],
   "source": [
    "def makemodel(df, y = \"Flow\"):\n",
    "    #print(df)\n",
    "    \n",
    "    df_features = df.copy()\n",
    "    df_labels = df_features.pop(y)\n",
    "    #print(df_labels)\n",
    "    #df_features = df.drop(columns = y)\n",
    "    df_features = np.array(df_features)\n",
    "    #print(len(df_features))\n",
    "    df_features\n",
    "    \n",
    "    df_model = tf.keras.Sequential([\n",
    "    layers.Dense(64),\n",
    "    layers.Dense(1)\n",
    "    ])\n",
    "\n",
    "    df_model.compile(loss = tf.losses.MeanSquaredError(),\n",
    "                      optimizer = tf.optimizers.Adam())\n",
    "    df_model.fit(df_features, df_labels, epochs=1)\n",
    "    \n",
    "    normalize = preprocessing.Normalization()\n",
    "    \n",
    "    normalize.adapt(df_features)\n",
    "    \n",
    "    norm_df_model = tf.keras.Sequential([\n",
    "    normalize,\n",
    "    layers.Dense(64),\n",
    "    layers.Dense(1)\n",
    "    ])\n",
    "\n",
    "    norm_df_model.compile(loss = tf.losses.MeanSquaredError(),\n",
    "                           optimizer = tf.optimizers.Adam())\n",
    "\n",
    "    norm_df_model.fit(df_features, df_labels, epochs=10)\n",
    "    \n",
    "    return norm_df_model"
   ]
  },
  {
   "cell_type": "code",
   "execution_count": null,
   "id": "84748240",
   "metadata": {},
   "outputs": [],
   "source": [
    "def modeltest(c, r, t = data): #c = classify model, r = regression model, t = test set\n",
    "    rs = [] #r^2 values to return\n",
    "    cps = c.predict(t.drop(columns = [\"Flow\", \"Flow Class\"])) #classify predictions\n",
    "    rps = r.predict(t.drop(columns = [\"Flow\", \"Flow Class\"])) #regression predictions\n",
    "    \n",
    "    cps = pfix(cps) #fixes cps and rps into 1d arrays of floats, instead of 2d arrays of floats\n",
    "    rps = pfix(rps)\n",
    "     \n",
    "    cps = np.where(cps  < .5, 0, 1) #forces predictions into classification of 1 or 0 (flow or no flow) (to be revised later)\n",
    "    \n",
    "    fps = cps * rps #final predictions (0 if no flow and regression prediction otherwise)\n",
    "    \n",
    "    exp = t[\"Flow\"].to_numpy() #expected values\n",
    "    cexp = t[\"Flow Class\"].to_numpy() #classify expected values\n",
    "    \n",
    "    b = exp != 0\n",
    "    rexp = exp[b] #regression expected values\n",
    "    \n",
    "    cstats = (cps * cexp) * 2\n",
    "    cstats = cstats + (cexp - cps) #breaks results into one array of values 0, 1, -1, and 2 (specified below)\n",
    "    cstats = np.where(cstats < 0, 3, cstats)\n",
    "    \n",
    "    csum = np.bincount(cstats.astype(int))\n",
    "    tn = csum[0] #true negative, red\n",
    "    fn = csum[1] #false negative, yellow\n",
    "    fp = csum[3] #false positive, orange\n",
    "    tp = csum[2] #true positive, green\n",
    "    \n",
    "    cp = tn + tp #correct predictions\n",
    "    tot = tn + fn + fp + tp\n",
    "    \n",
    "    \n",
    "    print(\"Classify results:\")\n",
    "    print(\"\\nNegative Predictions: \", (tn + fn)/tot * 100, \"%\\tActual Negative: \", (tn + fp)/tot * 100, \"%\")\n",
    "    print(\"Positive Predicitons: \", (tp + fp)/tot * 100, \"%\\tActual Positive: \", (tp + fn)/tot * 100, \"%\")\n",
    "    print(\"\\nTrue Negatives: \", tn, \"\\t\", tn/tot * 100, \"%\")\n",
    "    print(\"False Negatives: \", fn, \"  \", fn/tot * 100, \"%\")\n",
    "    print(\"False Positives: \", fp, \"\\t\", fp/tot * 100, \"%\")\n",
    "    print(\"True Positives: \", tp, \"\\t\", tp/tot * 100, \"%\")\n",
    "    print(\"\\nNo Flow Predicitons: \", (tn/(tn + fn)) * 100, \"% Correct\")\n",
    "    print(\"Flow Predictions: \", (tp/(tp + fp)) * 100, \"% Correct\")\n",
    "    print(\"\\nCorrect Predictions:\", cp, \"  \", cp/tot * 100, \"%\")\n",
    "    R = np.corrcoef(cps, cexp)[1,0]\n",
    "    R2 = R**2\n",
    "    R = R * 100\n",
    "    R2 = R2 * 100\n",
    "    R = round(R, 4)\n",
    "    R2 = round(R2, 4)\n",
    "    rs.append(R2)\n",
    "    print(\"R: \", R, \"%  R^2: \", R2, \"%\")\n",
    "    \n",
    "    print(\"\\n\\nRegression Visualization and Statistics: \")\n",
    "    \n",
    "    colors = np.where(cstats == 0, \"red\", np.where(cstats == 1, \"yellow\", np.where(cstats == 3, \"orange\", \"green\")))\n",
    "    rcb = colors != \"orange\" #regression color boolean\n",
    "    rcolors = colors[rcb] #colors for flow powders only\n",
    "    rcb = rcolors != \"red\"\n",
    "    rcolors = rcolors[rcb]\n",
    "    \n",
    "    \n",
    "    #scatter = plt.scatter(rps[b], rexp, c = rcolors, label = rcolors)\n",
    "    \n",
    "    cdict = {\"yellow\": \"False Negative\", \"green\": \"True Positive\", \"red\": \"True Negative\", \"orange\": \"False Positive\"}\n",
    "    \n",
    "    cax = np.empty(0)\n",
    "    cay = np.empty(0)\n",
    "    for g in [\"yellow\", \"green\"]:\n",
    "        ix = np.where(colors == g)\n",
    "        plt.scatter(rps[ix], exp[ix], c = colors[ix], label = cdict[g])\n",
    "        cax = np.append(cax, rps[ix])\n",
    "        cay = np.append(cay, exp[ix])\n",
    "    R = np.corrcoef(cax, cay)[1,0]\n",
    "    plt.legend()\n",
    "    plt.xlabel(\"Predicted Flow\")\n",
    "    plt.ylabel(\"Expected Flow\")\n",
    "    plt.title(\"Flow Powders Regression Prediction\")\n",
    "    plt.show()\n",
    "    R2 = R**2\n",
    "    R = R * 100\n",
    "    R2 = R2 * 100\n",
    "    R = round(R, 4)\n",
    "    R2 = round(R2, 4)\n",
    "    rs.append(R2)\n",
    "    print(\"R: \", R, \"%  R^2: \", R2, \"%\")\n",
    "    \n",
    "    cax = np.empty(0)\n",
    "    cay = np.empty(0)\n",
    "    for g in [\"green\", \"orange\"]:\n",
    "        ix = np.where(colors == g)\n",
    "        plt.scatter(fps[ix], exp[ix], c = colors[ix], label = cdict[g]) #some of this can be made more efficient or modularized or something\n",
    "        cax = np.append(cax, fps[ix])\n",
    "        cay = np.append(cay, exp[ix])\n",
    "    \n",
    "    plt.xlabel(\"Predicted Flow\")\n",
    "    plt.ylabel(\"Expected Flow\")\n",
    "    plt.title(\"Predicted Flow Powder Regression Predictions vs Expected Flow\")\n",
    "    plt.legend()\n",
    "    plt.show()\n",
    "    R = np.corrcoef(cax, cay)[1,0]\n",
    "    R2 = R**2\n",
    "    R = R * 100\n",
    "    R2 = R2 * 100\n",
    "    R = round(R, 4)\n",
    "    R2 = round(R2, 4)\n",
    "    rs.append(R2)\n",
    "    print(\"R: \", R, \"%  R^2: \", R2, \"%\")\n",
    "    \n",
    "    cax = np.empty(0)\n",
    "    cay = np.empty(0)\n",
    "    for g in [\"green\", \"orange\", \"yellow\", \"red\"]:\n",
    "        ix = np.where(colors == g)\n",
    "        plt.scatter(fps[ix], exp[ix], c = colors[ix], label = cdict[g])\n",
    "        cax = np.append(cax, fps[ix])\n",
    "        cay = np.append(cay, exp[ix])\n",
    "    R = np.corrcoef(cax, cay)[1,0]\n",
    "    plt.xlabel(\"Predicted Flow\")\n",
    "    plt.ylabel(\"Expected Flow\")\n",
    "    plt.title(\"Final Prediction vs Final Expected\")\n",
    "    plt.legend()\n",
    "    plt.show()\n",
    "    R2 = R**2\n",
    "    R = R * 100\n",
    "    R2 = R2 * 100\n",
    "    R = round(R, 4)\n",
    "    R2 = round(R2, 4)\n",
    "    rs.append(R2)\n",
    "    print(\"R: \", R, \"%  R^2: \", R2, \"%\")\n",
    "    return rs"
   ]
  },
  {
   "cell_type": "code",
   "execution_count": 21,
   "id": "cb35b2e5",
   "metadata": {},
   "outputs": [],
   "source": [
    "def pfix(arr): #it works (flips axes or something)\n",
    "    fppp = np.array(arr)\n",
    "    fppp = np.absolute(fppp)\n",
    "    fpp = fppp > 0\n",
    "    newfp = fppp[fpp]\n",
    "    return newfp"
   ]
  },
  {
   "cell_type": "code",
   "execution_count": null,
   "id": "56c8ea0a",
   "metadata": {},
   "outputs": [],
   "source": [
    "def trymodel(c, r, t = data, visualize = True, ctd = []): #returns 1x4 array containing 4 R^2 values. Classification, Regression, Predicted Regression, and Overall\n",
    "    if len(ctd) != 0:    \n",
    "        c = c.drop(columns = ctd)\n",
    "        r = r.drop(columns = ctd)\n",
    "        t = t.drop(columns = ctd)\n",
    "    cmodel = makemodel(c.drop(columns = \"Flow\"), \"Flow Class\")\n",
    "    rmodel = makemodel(r.drop(columns = \"Flow Class\"))\n",
    "    if visualize:\n",
    "        return modeltest(cmodel, rmodel, t)"
   ]
  },
  {
   "cell_type": "code",
   "execution_count": null,
   "id": "19d15a9d",
   "metadata": {},
   "outputs": [],
   "source": [
    "def coltest(cols, ctd = []): \n",
    "    plist = []\n",
    "    for i in datalist:\n",
    "        plist.append(i.sample(n = 2842))\n",
    "    df = pd.concat(plist)\n",
    "    df = df.sample(frac = 1)\n",
    "    flowdf = df[df[\"Flow Class\"] == 1]\n",
    "    results = []\n",
    "    datar = []\n",
    "    dfr = []\n",
    "    results.append(datar)\n",
    "    results.append(dfr)\n",
    "    for i in ctd:\n",
    "        if i in cols:\n",
    "            cols.remove(i)\n",
    "    for i in cols:\n",
    "        cttd = ctd.copy()\n",
    "        cttd.append(i)\n",
    "        print(\"Feature dropped: \", i)\n",
    "        results[0].append([i, \"Data\", trymodel(df, flowdf, ctd = cttd)])\n",
    "        results[1].append([i, \"Df\", trymodel(df, flowdf, df, ctd = cttd)])\n",
    "        print(\"\\n\\n\\n\\n\\n\\n\\n\\n\\n\")\n",
    "    return results"
   ]
  }
 ],
 "metadata": {
  "kernelspec": {
   "display_name": "Python 3",
   "language": "python",
   "name": "python3"
  },
  "language_info": {
   "codemirror_mode": {
    "name": "ipython",
    "version": 3
   },
   "file_extension": ".py",
   "mimetype": "text/x-python",
   "name": "python",
   "nbconvert_exporter": "python",
   "pygments_lexer": "ipython3",
   "version": "3.8.8"
  }
 },
 "nbformat": 4,
 "nbformat_minor": 5
}
