{
 "cells": [
  {
   "cell_type": "code",
   "execution_count": 18,
   "id": "9dacd65d",
   "metadata": {},
   "outputs": [
    {
     "name": "stdout",
     "output_type": "stream",
     "text": [
      "-3\n",
      "Red:  5.830951894845301\n",
      "Blue:  8.602325267042627\n",
      "Red:  4.58257569495584\n",
      "Red:  4.242640687119285\n",
      "Blue:  7.0\n",
      "Red:  7.0\n",
      "\n",
      "\n",
      "-2\n",
      "Red:  5.0\n",
      "Blue:  7.681145747868608\n",
      "Red:  3.7416573867739413\n",
      "Red:  4.358898943540674\n",
      "Blue:  6.0\n",
      "Red:  6.164414002968976\n",
      "\n",
      "\n",
      "-1\n",
      "Red:  4.242640687119285\n",
      "Blue:  6.782329983125268\n",
      "Red:  3.0\n",
      "Red:  4.69041575982343\n",
      "Blue:  5.0\n",
      "Red:  5.385164807134504\n",
      "\n",
      "\n",
      "0\n",
      "Red:  3.605551275463989\n",
      "Blue:  5.916079783099616\n",
      "Red:  2.449489742783178\n",
      "Red:  5.196152422706632\n",
      "Blue:  4.0\n",
      "Red:  4.69041575982343\n",
      "\n",
      "\n",
      "1\n",
      "Red:  3.1622776601683795\n",
      "Blue:  5.0990195135927845\n",
      "Red:  2.23606797749979\n",
      "Red:  5.830951894845301\n",
      "Blue:  3.0\n",
      "Red:  4.123105625617661\n",
      "\n",
      "\n",
      "2\n",
      "Red:  3.0\n",
      "Blue:  4.358898943540674\n",
      "Red:  2.449489742783178\n",
      "Red:  6.557438524302\n",
      "Blue:  2.0\n",
      "Red:  3.7416573867739413\n",
      "\n",
      "\n",
      "3\n",
      "Red:  3.1622776601683795\n",
      "Blue:  3.7416573867739413\n",
      "Red:  3.0\n",
      "Red:  7.3484692283495345\n",
      "Blue:  1.0\n",
      "Red:  3.605551275463989\n",
      "\n",
      "\n",
      "4\n",
      "Red:  3.605551275463989\n",
      "Blue:  3.3166247903554\n",
      "Red:  3.7416573867739413\n",
      "Red:  8.18535277187245\n",
      "Blue:  0.0\n",
      "Red:  3.7416573867739413\n",
      "\n",
      "\n",
      "5\n",
      "Red:  4.242640687119285\n",
      "Blue:  3.1622776601683795\n",
      "Red:  4.58257569495584\n",
      "Red:  9.055385138137417\n",
      "Blue:  1.0\n",
      "Red:  4.123105625617661\n",
      "\n",
      "\n",
      "6\n",
      "Red:  5.0\n",
      "Blue:  3.3166247903554\n",
      "Red:  5.477225575051661\n",
      "Red:  9.9498743710662\n",
      "Blue:  2.0\n",
      "Red:  4.69041575982343\n",
      "\n",
      "\n",
      "7\n",
      "Red:  5.830951894845301\n",
      "Blue:  3.7416573867739413\n",
      "Red:  6.4031242374328485\n",
      "Red:  10.862780491200215\n",
      "Blue:  3.0\n",
      "Red:  5.385164807134504\n",
      "\n",
      "\n",
      "8\n",
      "Red:  6.708203932499369\n",
      "Blue:  4.358898943540674\n",
      "Red:  7.3484692283495345\n",
      "Red:  11.789826122551595\n",
      "Blue:  4.0\n",
      "Red:  6.164414002968976\n",
      "\n",
      "\n",
      "9\n",
      "Red:  7.615773105863909\n",
      "Blue:  5.0990195135927845\n",
      "Red:  8.306623862918075\n",
      "Red:  12.727922061357855\n",
      "Blue:  5.0\n",
      "Red:  7.0\n",
      "\n",
      "\n"
     ]
    }
   ],
   "source": [
    "from scipy.spatial import distance\n",
    "a = (3, 0, 2)\n",
    "b = (-1, 3, 5)\n",
    "c = (1, 2, 1)\n",
    "d = (3, -3, -3)\n",
    "e = (0, 0, 4)\n",
    "f = (2, 3, 3)\n",
    "abc = [a, b, c, d, e, f]\n",
    "\n",
    "for j in range(-3, 10):\n",
    "    print(j)\n",
    "    for i in abc:\n",
    "        if i == b or i == e:\n",
    "            print(\"Blue: \", distance.euclidean(i, (0, 0, j)))\n",
    "        else:\n",
    "            print(\"Red: \", distance.euclidean(i, (0, 0, j)))\n",
    "    print(\"\\n\")"
   ]
  },
  {
   "cell_type": "code",
   "execution_count": 21,
   "id": "1fd3c314",
   "metadata": {},
   "outputs": [
    {
     "data": {
      "text/plain": [
       "148.4131591025766"
      ]
     },
     "execution_count": 21,
     "metadata": {},
     "output_type": "execute_result"
    }
   ],
   "source": [
    "import math\n",
    "math.exp(1 + 2*2)"
   ]
  },
  {
   "cell_type": "code",
   "execution_count": 23,
   "id": "95fda0b6",
   "metadata": {},
   "outputs": [
    {
     "name": "stdout",
     "output_type": "stream",
     "text": [
      "Mode of given data set is 0.1\n"
     ]
    }
   ],
   "source": [
    "import statistics\n",
    "\n",
    "print(\"Mode of given data set is % s\" % (statistics.mode([.1, .4, .3])))"
   ]
  },
  {
   "cell_type": "code",
   "execution_count": 26,
   "id": "72fe627d",
   "metadata": {},
   "outputs": [],
   "source": [
    "from sklearn.pipeline import make_pipeline\n",
    "from sklearn.preprocessing import StandardScaler\n",
    "from sklearn.svm import SVC\n",
    "from scipy.cluster import hierarchy\n",
    "from scipy.cluster.hierarchy import dendrogram, linkage\n",
    "from sklearn.decomposition import PCA\n",
    "from sklearn.neighbors import KNeighborsClassifier\n",
    "from sklearn.linear_model import LinearRegression\n",
    "import statsmodels.formula.api as smf\n",
    "import statsmodels.api as sm\n",
    "from statsmodels.graphics.regressionplots import abline_plot\n",
    "import math\n",
    "from os import error\n",
    "import pandas as pd\n",
    "import numpy as np\n",
    "import matplotlib.pyplot as plt\n",
    "import statsmodels.api as sm\n",
    "import statsmodels.formula.api as smf\n",
    "import pandas as pd\n",
    "from sklearn.linear_model import LogisticRegression\n",
    "from sklearn.model_selection import train_test_split\n",
    "from sklearn.metrics import confusion_matrix\n",
    "from numpy.random import seed\n",
    "from numpy.random import normal\n",
    "from sklearn.model_selection import LeaveOneOut\n",
    "from sklearn.ensemble import RandomForestClassifier\n",
    "from sklearn.tree import DecisionTreeRegressor\n",
    "from sklearn.metrics import mean_squared_error\n",
    "from sklearn import tree\n",
    "from sklearn.model_selection import KFold\n",
    "from sklearn.ensemble import BaggingRegressor\n",
    "from sklearn.inspection import permutation_importance\n",
    "from sklearn.ensemble import RandomForestRegressor\n",
    "from sklearn.ensemble import GradientBoostingRegressor\n",
    "from sklearn.preprocessing import PolynomialFeatures"
   ]
  },
  {
   "cell_type": "code",
   "execution_count": 31,
   "id": "74cfbe53",
   "metadata": {},
   "outputs": [
    {
     "data": {
      "image/png": "[encoded data removed]",
      "text/plain": [
       "<Figure size 1800x720 with 1 Axes>"
      ]
     },
     "metadata": {
      "needs_background": "light"
     },
     "output_type": "display_data"
    }
   ],
   "source": [
    "a = (3.5, 3.5) #1\n",
    "b = (1.5, 1) #2\n",
    "c = (2, .5) #3\n",
    "d = (2, -.5) #4\n",
    "e = (3, 0) # 5\n",
    "f = (1.5, 2.5) #6\n",
    "g = (3, 1.5) #7\n",
    "\n",
    "data = pd.DataFrame([a, b, c, d, e, f, g])\n",
    "\n",
    "Z = linkage(data, method = \"single\", metric = \"euclidean\")\n",
    "fig = plt.figure(figsize=(25, 10))\n",
    "dn = dendrogram(Z, labels = data.index)"
   ]
  }
 ],
 "metadata": {
  "kernelspec": {
   "display_name": "Python 3",
   "language": "python",
   "name": "python3"
  },
  "language_info": {
   "codemirror_mode": {
    "name": "ipython",
    "version": 3
   },
   "file_extension": ".py",
   "mimetype": "text/x-python",
   "name": "python",
   "nbconvert_exporter": "python",
   "pygments_lexer": "ipython3",
   "version": "3.8.8"
  }
 },
 "nbformat": 4,
 "nbformat_minor": 5
}
