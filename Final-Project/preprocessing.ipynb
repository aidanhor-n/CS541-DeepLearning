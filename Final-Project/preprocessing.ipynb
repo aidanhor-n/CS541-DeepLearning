{
 "cells": [
  {
   "cell_type": "code",
   "execution_count": 1,
   "id": "c60d06c3-6daa-45cf-97cc-2e620379d7ef",
   "metadata": {},
   "outputs": [],
   "source": [
    "import os\n",
    "import pandas as pd\n",
    "import pickle as pkl"
   ]
  },
  {
   "cell_type": "code",
   "execution_count": 2,
   "id": "12f26c97-d036-46b3-b6f1-d400507f2493",
   "metadata": {},
   "outputs": [],
   "source": [
    "def csv2pkl():\n",
    "    \n",
    "    for root, dirs, files in os.walk(\"./data/csv\", topdown=False):\n",
    "        for name in files:\n",
    "            file_path = os.path.join(root, name)\n",
    "            f = open(file_path)  \n",
    "            df = pd.read_csv(f)\n",
    "            label = df['Flow Class'][0]\n",
    "            df.to_pickle(f\"./data/pkl/{name[4:-4]}_{label}.pkl\")\n",
    "\n",
    "csv2pkl()"
   ]
  },
  {
   "cell_type": "code",
   "execution_count": 3,
   "id": "88ba365d-d91d-4f15-b22a-ba83423ec317",
   "metadata": {},
   "outputs": [
    {
     "data": {
      "text/plain": [
       "dict_keys(['B19_1', 'B20_0', 'B18_1', 'B4_0', 'B10_0', 'B12_0', 'B6_0', 'B2_0', 'B16_0', 'B14_1', 'B13_0', 'B5_0', 'B1_0', 'B15_1', 'B17_0'])"
      ]
     },
     "execution_count": 3,
     "metadata": {},
     "output_type": "execute_result"
    }
   ],
   "source": [
    "def pkl_dict():\n",
    "    \n",
    "    pkl_dict = {}\n",
    "    \n",
    "    for root, dirs, files in os.walk(\"./data/pkl\", topdown=False):\n",
    "        for name in files:\n",
    "            file_path = os.path.join(root, name)\n",
    "            df = pd.read_pickle(file_path)\n",
    "            pkl_dict[name[:-4]] = df\n",
    "    \n",
    "    return pkl_dict\n",
    "\n",
    "pkl_dict = pkl_dict()\n",
    "pkl_dict.keys()"
   ]
  }
 ],
 "metadata": {
  "kernelspec": {
   "display_name": "Python 3 (ipykernel)",
   "language": "python",
   "name": "python3"
  },
  "language_info": {
   "codemirror_mode": {
    "name": "ipython",
    "version": 3
   },
   "file_extension": ".py",
   "mimetype": "text/x-python",
   "name": "python",
   "nbconvert_exporter": "python",
   "pygments_lexer": "ipython3",
   "version": "3.9.12"
  }
 },
 "nbformat": 4,
 "nbformat_minor": 5
}
