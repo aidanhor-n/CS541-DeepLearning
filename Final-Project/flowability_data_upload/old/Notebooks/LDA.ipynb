{
 "cells": [
  {
   "cell_type": "code",
   "execution_count": 1,
   "metadata": {
    "pycharm": {
     "is_executing": false
    }
   },
   "outputs": [],
   "source": [
    "import os\n",
    "import sys\n",
    "module_path = os.path.abspath(os.path.join('..'))\n",
    "if module_path not in sys.path:\n",
    "    sys.path.append(module_path)"
   ]
  },
  {
   "cell_type": "code",
   "execution_count": 2,
   "metadata": {
    "pycharm": {
     "is_executing": false
    }
   },
   "outputs": [
    {
     "traceback": [
      "Traceback \u001b[1;36m(most recent call last)\u001b[0m:\n",
      "  File \u001b[0;32m\"c:\\python38\\lib\\site-packages\\IPython\\core\\interactiveshell.py\"\u001b[0m, line \u001b[0;32m3343\u001b[0m, in \u001b[0;35mrun_code\u001b[0m\n    exec(code_obj, self.user_global_ns, self.user_ns)\n",
      "  File \u001b[0;32m\"<ipython-input-2-0b1effb96d04>\"\u001b[0m, line \u001b[0;32m1\u001b[0m, in \u001b[0;35m<module>\u001b[0m\n    from DataPreprocessor import DataPreprocessor\n",
      "\u001b[1;36m  File \u001b[1;32m\"C:\\Users\\aakru\\OneDrive\\Documents\\MS_Research\\DDMSTools\\flowability_data_upload\\old\\DataPreprocessor.py\"\u001b[1;36m, line \u001b[1;32m1\u001b[1;36m, in \u001b[1;35m<module>\u001b[1;36m\u001b[0m\n\u001b[1;33m    from data_preprocessing import preprocess_data, get_data_and_labels, update_flow_classes, compute_correlation\u001b[0m\n",
      "\u001b[1;36m  File \u001b[1;32m\"C:\\Users\\aakru\\OneDrive\\Documents\\MS_Research\\DDMSTools\\flowability_data_upload\\old\\data_preprocessing.py\"\u001b[1;36m, line \u001b[1;32m274\u001b[0m\n\u001b[1;33m    if not os.path.isdir(clean_data_folder):\u001b[0m\n\u001b[1;37m                                            ^\u001b[0m\n\u001b[1;31mIndentationError\u001b[0m\u001b[1;31m:\u001b[0m unindent does not match any outer indentation level\n"
     ],
     "ename": "IndentationError",
     "evalue": "unindent does not match any outer indentation level (data_preprocessing.py, line 274)",
     "output_type": "error"
    }
   ],
   "source": [
    "from DataPreprocessor import DataPreprocessor \n",
    "from TrainTestPipeline import TrainTestPipeline\n",
    "import pandas as pd"
   ]
  },
  {
   "cell_type": "code",
   "execution_count": null,
   "metadata": {
    "pycharm": {
     "is_executing": false
    }
   },
   "outputs": [],
   "source": [
    "data_folder = '../RawData'\n",
    "flow_values_excel = '../TrueFlowValues_.xlsx'\n",
    "dp = DataPreprocessor(data_folder, flow_values_excel)"
   ]
  },
  {
   "cell_type": "code",
   "execution_count": null,
   "metadata": {
    "scrolled": true,
    "pycharm": {
     "is_executing": false
    }
   },
   "outputs": [],
   "source": [
    "success = dp.prepare_df()\n",
    "assert success"
   ]
  },
  {
   "cell_type": "code",
   "execution_count": null,
   "metadata": {
    "pycharm": {
     "is_executing": false
    }
   },
   "outputs": [],
   "source": [
    "import numpy as np"
   ]
  },
  {
   "cell_type": "code",
   "execution_count": null,
   "metadata": {
    "pycharm": {
     "is_executing": false
    }
   },
   "outputs": [],
   "source": [
    "dp.make_histograms()"
   ]
  },
  {
   "cell_type": "code",
   "execution_count": null,
   "metadata": {
    "pycharm": {
     "is_executing": false
    }
   },
   "outputs": [],
   "source": [
    "data = dp.get_data()\n",
    "for col in data.columns:\n",
    "    print(data.loc[:,col].var())"
   ]
  },
  {
   "cell_type": "markdown",
   "metadata": {},
   "source": [
    "LDA Visualizations\n",
    "\n",
    "1. No Shrinkage with SVD solver"
   ]
  },
  {
   "cell_type": "code",
   "execution_count": null,
   "metadata": {
    "pycharm": {
     "is_executing": false
    }
   },
   "outputs": [],
   "source": [
    "data = dp.get_data().columns\n",
    "data"
   ]
  },
  {
   "cell_type": "code",
   "execution_count": null,
   "metadata": {
    "pycharm": {
     "is_executing": false
    }
   },
   "outputs": [],
   "source": [
    "heldout_cols =  [\"MinSize\", \"MaxSize\", \"Density\"]\n",
    "lda = dp.get_lda_x(solver='svd', shrinkage=None, heldout_cols = heldout_cols)\n",
    "lda"
   ]
  },
  {
   "cell_type": "code",
   "execution_count": null,
   "metadata": {
    "scrolled": true,
    "pycharm": {
     "is_executing": false
    }
   },
   "outputs": [],
   "source": [
    "y_regr = dp.get_classification_y()\n",
    "dp.visualize_lda(transformed_data = lda, targs = y_regr, \n",
    "                 out_file_name = \"LDA_Microtrac.pdf\")"
   ]
  },
  {
   "cell_type": "markdown",
   "metadata": {},
   "source": [
    "2. Shrinkage with Eigen Solver"
   ]
  },
  {
   "cell_type": "code",
   "execution_count": 3,
   "metadata": {
    "pycharm": {
     "is_executing": false
    }
   },
   "outputs": [
    {
     "traceback": [
      "\u001b[1;31m---------------------------------------------------------------------------\u001b[0m",
      "\u001b[1;31mNameError\u001b[0m                                 Traceback (most recent call last)",
      "\u001b[1;32m<ipython-input-3-9bc83e144143>\u001b[0m in \u001b[0;36m<module>\u001b[1;34m\u001b[0m\n\u001b[1;32m----> 1\u001b[1;33m \u001b[0mlda\u001b[0m \u001b[1;33m=\u001b[0m \u001b[0mdp\u001b[0m\u001b[1;33m.\u001b[0m\u001b[0mget_lda_x\u001b[0m\u001b[1;33m(\u001b[0m\u001b[0msolver\u001b[0m\u001b[1;33m=\u001b[0m\u001b[1;34m'eigen'\u001b[0m\u001b[1;33m,\u001b[0m \u001b[0mheldout_cols\u001b[0m \u001b[1;33m=\u001b[0m \u001b[0mheldout_cols\u001b[0m\u001b[1;33m)\u001b[0m\u001b[1;33m\u001b[0m\u001b[1;33m\u001b[0m\u001b[0m\n\u001b[0m\u001b[0;32m      2\u001b[0m \u001b[1;33m\u001b[0m\u001b[0m\n",
      "\u001b[1;31mNameError\u001b[0m: name 'dp' is not defined"
     ],
     "ename": "NameError",
     "evalue": "name 'dp' is not defined",
     "output_type": "error"
    }
   ],
   "source": [
    "lda = dp.get_lda_x(solver='eigen', heldout_cols = heldout_cols)"
   ]
  },
  {
   "cell_type": "code",
   "execution_count": null,
   "metadata": {
    "pycharm": {
     "is_executing": false
    }
   },
   "outputs": [],
   "source": [
    "y_regr = dp.get_classification_y()\n",
    "dp.visualize_lda(transformed_data = lda, targs = y_regr, \n",
    "                 out_file_name = \"LDA_Microtrac.pdf\")"
   ]
  },
  {
   "cell_type": "markdown",
   "metadata": {},
   "source": [
    "3. No shrinkage with eigen solver"
   ]
  },
  {
   "cell_type": "code",
   "execution_count": null,
   "metadata": {
    "pycharm": {
     "is_executing": false
    }
   },
   "outputs": [],
   "source": [
    "lda = dp.get_lda_x(solver='eigen', shrinkage=None, heldout_cols = heldout_cols)"
   ]
  },
  {
   "cell_type": "code",
   "execution_count": null,
   "metadata": {
    "pycharm": {
     "is_executing": false
    }
   },
   "outputs": [],
   "source": [
    "y_regr = dp.get_classification_y()\n",
    "dp.visualize_lda(transformed_data = lda, targs = y_regr, \n",
    "                 out_file_name = \"LDA_Microtrac.pdf\")"
   ]
  },
  {
   "cell_type": "code",
   "execution_count": null,
   "metadata": {
    "pycharm": {
     "is_executing": false
    }
   },
   "outputs": [],
   "source": [
    "lda = dp.get_lda_x_fit(heldout_cols = [\"MinSize\", \"MaxSize\", \"Density\"])\n",
    "prediction = lda.predict(dp.get_data(heldout_cols=['MinSize', 'MaxSize', 'Density']))\n",
    "prediction"
   ]
  },
  {
   "cell_type": "code",
   "execution_count": null,
   "metadata": {
    "pycharm": {
     "is_executing": false
    }
   },
   "outputs": [],
   "source": [
    "real = dp.get_classification_y()\n",
    "count = 0\n",
    "\n",
    "for i in range(len(prediction)):\n",
    "    if prediction[i] == real[i]:\n",
    "        count += 1\n",
    "percentage = count / len(prediction)\n",
    "percentage"
   ]
  },
  {
   "cell_type": "code",
   "execution_count": null,
   "metadata": {
    "pycharm": {
     "is_executing": false
    }
   },
   "outputs": [],
   "source": [
    "qda = dp.get_qda_x(heldout_cols=['MinSize', 'MaxSize', 'Density'])\n",
    "qda"
   ]
  },
  {
   "cell_type": "code",
   "execution_count": null,
   "metadata": {
    "pycharm": {
     "is_executing": false
    }
   },
   "outputs": [],
   "source": [
    "dp.get_data(heldout_cols=['MinSize', 'MaxSize', 'Density'])"
   ]
  },
  {
   "cell_type": "code",
   "execution_count": null,
   "metadata": {
    "pycharm": {
     "is_executing": false
    }
   },
   "outputs": [],
   "source": [
    "predict = qda.predict(dp.get_data(heldout_cols=['MinSize', 'MaxSize', 'Density']))\n",
    "predict"
   ]
  },
  {
   "cell_type": "code",
   "execution_count": null,
   "metadata": {
    "pycharm": {
     "is_executing": false
    }
   },
   "outputs": [],
   "source": [
    "all_zero = True\n",
    "for p in predict:\n",
    "    if p != 0:\n",
    "        all_zero = False\n",
    "all_zero\n",
    "        "
   ]
  },
  {
   "cell_type": "code",
   "execution_count": null,
   "metadata": {
    "pycharm": {
     "is_executing": false
    }
   },
   "outputs": [],
   "source": [
    "real = dp.get_classification_y()\n",
    "count = 0\n",
    "\n",
    "for i in range(len(predict)):\n",
    "    if predict[i] == real[i]:\n",
    "        count += 1\n",
    "percentage = count / len(predict)\n",
    "percentage"
   ]
  },
  {
   "cell_type": "code",
   "execution_count": null,
   "metadata": {
    "pycharm": {
     "is_executing": false
    }
   },
   "outputs": [],
   "source": [
    "data = dp.get_data(heldout_cols=['MinSize', 'MaxSize', 'Density'])"
   ]
  },
  {
   "cell_type": "code",
   "execution_count": null,
   "metadata": {
    "pycharm": {
     "is_executing": false
    }
   },
   "outputs": [],
   "source": [
    "all_samples = dp.get_samples()\n",
    "# DecisionTreeRegressor trained on the best train set for augmented data \n",
    "# filtered by Pearson correlation\n",
    "pipeline = TrainTestPipeline(x_data = data, y_data = y_regr, all_samples = all_samples, \n",
    "                             model_name = 'QDAAnalysis', \n",
    "                             heldout_samples = ['SS-17-4 (10-45)', \n",
    "                                                'SS-17-4 (64-150)', \n",
    "                                                'Ti-5Al-5V-5Mo-3Cr (0-75)'])"
   ]
  },
  {
   "cell_type": "code",
   "execution_count": null,
   "metadata": {
    "pycharm": {
     "is_executing": false
    }
   },
   "outputs": [],
   "source": [
    "tr_test_ = pipeline.do_train_test(cv = True)"
   ]
  },
  {
   "cell_type": "code",
   "execution_count": null,
   "metadata": {
    "pycharm": {
     "is_executing": false
    }
   },
   "outputs": [],
   "source": [
    "#visualize results\n",
    "model_ = tr_test_['model']\n",
    "data_split = tr_test_['train_test_split']\n",
    "pipeline.visualize_performance(model = model_, train_test_split = data_split, \n",
    "                               output_file = 'QDAClassifyViz.pdf')"
   ]
  }
 ],
 "metadata": {
  "kernelspec": {
   "display_name": "Python 3",
   "language": "python",
   "name": "python3"
  },
  "language_info": {
   "codemirror_mode": {
    "name": "ipython",
    "version": 3
   },
   "file_extension": ".py",
   "mimetype": "text/x-python",
   "name": "python",
   "nbconvert_exporter": "python",
   "pygments_lexer": "ipython3",
   "version": "3.8.3"
  }
 },
 "nbformat": 4,
 "nbformat_minor": 2
}