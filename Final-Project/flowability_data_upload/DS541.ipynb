{
 "cells": [
  {
   "cell_type": "code",
   "execution_count": 3,
   "id": "2033b814",
   "metadata": {},
   "outputs": [],
   "source": [
    "import os\n",
    "import sys\n",
    "module_path = os.path.abspath(os.path.join('..'))\n",
    "if module_path not in sys.path:\n",
    "    sys.path.append(module_path)\n",
    "    \n",
    "import pandas as pd\n",
    "import numpy as np\n",
    "\n",
    "# Make numpcy values easier to read.\n",
    "np.set_printoptions(precision=3, suppress=True)\n",
    "\n",
    "import tensorflow as tf\n",
    "from tensorflow.keras import layers\n",
    "from tensorflow.keras.layers.experimental import preprocessing"
   ]
  },
  {
   "cell_type": "code",
   "execution_count": 6,
   "id": "a3a2144c",
   "metadata": {},
   "outputs": [],
   "source": [
    "from flowability_data_upload.Research import main\n",
    "from flowability_data_upload.Research.main import trymodel, makemodel, modeltest"
   ]
  },
  {
   "cell_type": "code",
   "execution_count": 7,
   "id": "b8ffa672",
   "metadata": {},
   "outputs": [
    {
     "name": "stdout",
     "output_type": "stream",
     "text": [
      "           Da       Dp  FWidth  FLength  ELength  EWidth      Volume  \\\n",
      "0      91.229  117.002  95.505  108.054   97.930  91.753  397553.759   \n",
      "1      79.035  109.685  83.322   99.700   87.563  80.170  258496.560   \n",
      "2      89.401  137.882  83.101  148.252  165.327  64.848  374138.469   \n",
      "3      85.351   99.931  82.446  101.719   93.084  79.827  325549.588   \n",
      "4      90.169  132.818  81.768  135.631  134.040  69.514  383853.784   \n",
      "...       ...      ...     ...      ...      ...     ...         ...   \n",
      "22088   3.663    4.912   3.014    6.118    5.179   2.556      25.744   \n",
      "22089   3.208    4.221   3.010    5.078    4.035   2.716      17.291   \n",
      "22090   3.160    4.280   3.008    4.673    3.531   2.923      16.520   \n",
      "22091   3.801    4.480   3.003    5.737    5.341   2.714      28.747   \n",
      "22092   3.309    4.191   3.002    4.940    3.898   2.871      18.963   \n",
      "\n",
      "           Area  Perimeter  CHull  Area  ...  Curvature  Surface Area  \\\n",
      "0      6536.643    367.573     7648.185  ...        0.0     26146.570   \n",
      "1      4905.997    344.585     5807.644  ...        0.0     19623.989   \n",
      "2      6277.389    433.168     8808.436  ...        0.0     25109.556   \n",
      "3      5721.399    313.944     6142.652  ...        0.0     22885.595   \n",
      "4      6385.595    417.259     8159.984  ...        0.0     25542.380   \n",
      "...         ...        ...          ...  ...        ...           ...   \n",
      "22088    10.541     15.433       12.690  ...        0.0        42.164   \n",
      "22089     8.084     13.260        9.290  ...        0.0        32.337   \n",
      "22090     7.842     13.447       10.350  ...        0.0        31.368   \n",
      "22091    11.345     14.076       12.337  ...        0.0        45.382   \n",
      "22092     8.597     13.166       10.381  ...        0.0        34.389   \n",
      "\n",
      "       L/W Ratio  W/L Aspect Ratio  CHull Surface Area  Ellipticity  \\\n",
      "0          1.131             0.884           30592.741        1.067   \n",
      "1          1.197             0.836           23230.575        1.092   \n",
      "2          1.784             0.561           35233.743        2.549   \n",
      "3          1.234             0.811           24570.609        1.166   \n",
      "4          1.659             0.603           32639.936        1.928   \n",
      "...          ...               ...                 ...          ...   \n",
      "22088      2.030             0.493              50.761        2.026   \n",
      "22089      1.687             0.593              37.159        1.486   \n",
      "22090      1.553             0.644              41.402        1.208   \n",
      "22091      1.910             0.523              49.349        1.968   \n",
      "22092      1.646             0.608              41.525        1.358   \n",
      "\n",
      "       Fiber Length  Fiber Width       Flow  Flow Class  \n",
      "0           133.457       48.979  18.363333           1  \n",
      "1           134.377       36.509  18.363333           1  \n",
      "2           180.744       34.731  18.363333           1  \n",
      "3            94.980       60.238  18.363333           1  \n",
      "4           169.657       37.638  18.363333           1  \n",
      "...             ...          ...        ...         ...  \n",
      "22088         0.000        0.000   0.000000           0  \n",
      "22089         0.000        0.000   0.000000           0  \n",
      "22090         0.000        0.000   0.000000           0  \n",
      "22091         0.000        0.000   0.000000           0  \n",
      "22092         0.000        0.000   0.000000           0  \n",
      "\n",
      "[144327 rows x 31 columns]\n"
     ]
    }
   ],
   "source": [
    "d = main.Data()\n",
    "d.importpowders()"
   ]
  }
 ],
 "metadata": {
  "kernelspec": {
   "display_name": "Python 3 (ipykernel)",
   "language": "python",
   "name": "python3"
  },
  "language_info": {
   "codemirror_mode": {
    "name": "ipython",
    "version": 3
   },
   "file_extension": ".py",
   "mimetype": "text/x-python",
   "name": "python",
   "nbconvert_exporter": "python",
   "pygments_lexer": "ipython3",
   "version": "3.8.3"
  }
 },
 "nbformat": 4,
 "nbformat_minor": 5
}
