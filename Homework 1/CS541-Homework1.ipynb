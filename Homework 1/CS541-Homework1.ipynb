{
 "cells": [
  {
   "cell_type": "code",
   "execution_count": 1,
   "id": "ddb96350",
   "metadata": {},
   "outputs": [
    {
     "name": "stderr",
     "output_type": "stream",
     "text": [
      "/Users/aidan.horn/opt/anaconda3/lib/python3.9/site-packages/scipy/__init__.py:146: UserWarning: A NumPy version >=1.16.5 and <1.23.0 is required for this version of SciPy (detected version 1.23.2\n",
      "  warnings.warn(f\"A NumPy version >={np_minversion} and <{np_maxversion}\"\n"
     ]
    }
   ],
   "source": [
    "import numpy as np\n",
    "import matplotlib.pyplot as plt\n",
    "from scipy.stats import poisson"
   ]
  },
  {
   "cell_type": "code",
   "execution_count": 2,
   "id": "d8bd6db4",
   "metadata": {},
   "outputs": [],
   "source": [
    "#Problem 1-A: Given matrices A and B, compute and return an expression for A + B.\n",
    "\n",
    "def problem_1a(A,B):\n",
    "    return A + B"
   ]
  },
  {
   "cell_type": "code",
   "execution_count": 3,
   "id": "e938ed1c",
   "metadata": {},
   "outputs": [],
   "source": [
    "#Problem 1-B: Given matrices A, B, and C, compute and return AB −C\n",
    "\n",
    "def problem_1b(A,B,C):\n",
    "    return A@B - C"
   ]
  },
  {
   "cell_type": "code",
   "execution_count": 4,
   "id": "1e9498e8",
   "metadata": {},
   "outputs": [],
   "source": [
    "#Problem 1-C: Given matrices A, B, and C, return A⊙B+C⊤, where ⊙represents the element-wise (Hadamard)\n",
    "#             product and ⊤represents matrix transpose\n",
    "\n",
    "def problem_1c(A,B,C):\n",
    "    return A*B + C.T"
   ]
  },
  {
   "cell_type": "code",
   "execution_count": 5,
   "id": "07027d39",
   "metadata": {},
   "outputs": [],
   "source": [
    "#Probelm 1-D: Given column vectors x and y, compute the inner product of x and y\n",
    "\n",
    "def problem_1d(x,y):\n",
    "    return x.T * y"
   ]
  },
  {
   "cell_type": "code",
   "execution_count": 6,
   "id": "fbbf22f8",
   "metadata": {},
   "outputs": [],
   "source": [
    "#Problem 1-E: Given square matrix A and column vector x, use np.linalg.solve to compute A−1x. Do\n",
    "#             not explicitly calculate the matrix inverse itself\n",
    "\n",
    "def problem_1e(A,x):\n",
    "    #x = A^-1 @ b\n",
    "    #np.linalg.solve(A,b) = x = A^-1 @ b\n",
    "    #solve for b using linalg.solve\n",
    "    return np.linalg.solve(A,x)"
   ]
  },
  {
   "cell_type": "code",
   "execution_count": 7,
   "id": "ab5aa874",
   "metadata": {},
   "outputs": [],
   "source": [
    "#Problem 1-F: Given square matrix A and row vector x, use np.linalg.solve to compute xA−1\n",
    "#             Hint: AB = (B⊤A⊤)⊤\n",
    "def problem_1f(A,x):\n",
    "    #assume b = A-1x = AB\n",
    "    #assume x is already transposed becuase x was a column vector in problem 1e\n",
    "    #use problem 1e and the identity above\n",
    "    return np.linalg.solve(A.T,x).T"
   ]
  },
  {
   "cell_type": "code",
   "execution_count": 8,
   "id": "447ff0c8",
   "metadata": {},
   "outputs": [],
   "source": [
    "#Problem 1-G: Given matrix A and integer i, return the sum of all the entries in the ith row whose column index\n",
    "#             is even, i.e., Sum j:j is even  Aij .\n",
    "def problem_1g(A, i):\n",
    "    #This works for the most up to date version of numpy but for some reason in this jupyter notebook it will not :(\n",
    "    return np.sum(A[i], where = [j % 2 == 0 for j in range(len(A[i]))])"
   ]
  },
  {
   "cell_type": "code",
   "execution_count": 9,
   "id": "155ef224",
   "metadata": {},
   "outputs": [],
   "source": [
    "#Problem 1-H: Given matrix A and scalars c,d, compute the arithmetic mean over all entries of A that are\n",
    "#             between c and d (inclusive).\n",
    "def problem_1h(A, c, d):\n",
    "    A_greater = A[np.nonzero(A >= c)]\n",
    "    A_less = A_greater[np.nonzero(A_greater <= d)]\n",
    "    return np.mean(A_less)"
   ]
  },
  {
   "cell_type": "code",
   "execution_count": 10,
   "id": "62c50e55",
   "metadata": {},
   "outputs": [],
   "source": [
    "#Problem 1-I: Given an (n×n) matrix A and integer k, return an (n×k) matrix containing the right-eigenvectors\n",
    "#.            of A corresponding to the k largest eigenvalues of A.\n",
    "def problem_1i(A, k):\n",
    "    #assume k <= n\n",
    "    w,v = np.linalg.eig(A)\n",
    "    return v[:,:k]"
   ]
  },
  {
   "cell_type": "code",
   "execution_count": 11,
   "id": "42e2938b",
   "metadata": {},
   "outputs": [],
   "source": [
    "#Problem 1-J: Given a column vector (with n components) x, an integer k, and positive scalars m,s, return an\n",
    "#.            (n ×k) matrix, each of whose columns is a sample from multidimensional Gaussian distribution\n",
    "#.            N(x + mz,sI), where z is column vector (with n components) containing all ones and I is the\n",
    "#             identity matrix.\n",
    "def problem_1j(x, k, m, s):\n",
    "    n = len(x)\n",
    "    z = np.matrix([1]*n).T\n",
    "    mu = np.ravel((x+m*z))\n",
    "    I = np.identity(n)\n",
    "    cov = s*I\n",
    "    row = np.random.multivariate_normal(mu, cov, size = k)\n",
    "    return np.matrix(row.T)"
   ]
  },
  {
   "cell_type": "code",
   "execution_count": 12,
   "id": "eff7f1cd",
   "metadata": {},
   "outputs": [],
   "source": [
    "#Problem 1-K: Given a matrix A with n rows, return a matrix that results from randomly permuting the\n",
    "#.            rows (but not the columns) in A.\n",
    "def problem_1k(A):\n",
    "    return np.random.permutation(A)"
   ]
  },
  {
   "cell_type": "code",
   "execution_count": 13,
   "id": "afa85350",
   "metadata": {},
   "outputs": [],
   "source": [
    "#Problem 1-L: Given a vector x, return a vector y such that each yi = (xi −x)/σ, where x is the\n",
    "#.            mean (use np.mean) of the elements of x and σ is the standard deviation \n",
    "def problem_1l(x):\n",
    "    return (x - np.mean(x))/np.std(x)"
   ]
  },
  {
   "cell_type": "code",
   "execution_count": 14,
   "id": "b4902f04",
   "metadata": {},
   "outputs": [],
   "source": [
    "#Problem 1-M: Given an n-vector x and a non-negative integer k, return a n ×k matrix consisting of k copies\n",
    "#.            of x.\n",
    "def problem_1m(x, k):\n",
    "    return np.tile(x,k)"
   ]
  },
  {
   "cell_type": "code",
   "execution_count": 15,
   "id": "7e9bc82b",
   "metadata": {},
   "outputs": [],
   "source": [
    "#Problem 1-N: Given an m×n matrix X, compute an n×n matrix D consisting of all pairwise L2 distances\n",
    "def problem_1n(X):\n",
    "    return abs(np.tile(X,len(X)) - np.tile(X.T,len(X)))"
   ]
  },
  {
   "cell_type": "code",
   "execution_count": 16,
   "id": "460a7a67",
   "metadata": {},
   "outputs": [
    {
     "name": "stdout",
     "output_type": "stream",
     "text": [
      "Problem 1-A: Passed\n",
      "Problem 1-B: Passed\n",
      "Problem 1-C: Passed\n",
      "Problem 1-D: Passed\n",
      "Problem 1-E: Passed\n",
      "Problem 1-F: Passed\n",
      "Manual Review Required: Problem 1-G\n",
      "Problem 1-H: Passed\n",
      "Problem 1-I: Passed\n",
      "Problem 1-J: Passed\n",
      "Problem 1-K: Passed\n",
      "Problem 1-L: Passed\n",
      "Problem 1-M: Passed\n",
      "Problem 1-N: Passed\n"
     ]
    }
   ],
   "source": [
    "def test_problem1():\n",
    "    \n",
    "    A = np.matrix([[1, 2], [3, 4]])\n",
    "    B = np.matrix([[1, 1], [2, 2]])\n",
    "    C = np.matrix([[1, 1], [1, 1]])\n",
    "    \n",
    "    x = np.matrix([[1], [2]])\n",
    "    y = np.matrix([[3], [6]])\n",
    "    \n",
    "    i = 1\n",
    "    \n",
    "    c = 2\n",
    "    d = 4\n",
    "    \n",
    "    k = 1\n",
    "    \n",
    "    m = 2\n",
    "    s = 0.5\n",
    "    \n",
    "    X = np.matrix([[1, 2, 3]])\n",
    "    \n",
    "    #Problem 1-A\n",
    "    try: \n",
    "        assert np.allclose(problem_1a(A,B),np.matrix([[2, 3], [5, 6]])), \"Problem 1-A: Failed\"\n",
    "        print(\"Problem 1-A: Passed\")\n",
    "    except:\n",
    "        print(\"Manual Review Required: Problem 1-A\")\n",
    "    #Problem 1-B\n",
    "    try:\n",
    "        assert np.allclose(problem_1b(A,B,C),np.matrix([[4, 4], [10, 10]])), \"Problem 1-B: Failed\"\n",
    "        print(\"Problem 1-B: Passed\")\n",
    "    except:\n",
    "        print(\"Manual Review Required: Problem 1-B\")\n",
    "    #Problem 1-C\n",
    "    try: \n",
    "        assert np.allclose(problem_1c(A,B,C),np.matrix([[6, 6], [12, 12]])), \"Problem 1-C: Failed\"\n",
    "        print(\"Problem 1-C: Passed\")\n",
    "    except:\n",
    "        print(\"Manual Review Required: Problem 1-C\")\n",
    "    #Problem 1-D\n",
    "    try:\n",
    "        assert np.allclose(problem_1d(x,y), np.matrix([[15]])), \"Problem 1-D: Failed\"\n",
    "        print(\"Problem 1-D: Passed\")\n",
    "    except:\n",
    "        print(\"Manual Review Required: Problem 1-D\")\n",
    "    #Problem 1-E\n",
    "    try:\n",
    "        assert np.allclose(problem_1e(A,x), A ** -1 @ x, 0.01), \"Problem 1-E: Failed\"\n",
    "        print(\"Problem 1-E: Passed\")\n",
    "    except:\n",
    "        print(\"Manual Review Required: Problem 1-E\")\n",
    "    #Problem 1-F\n",
    "    try:\n",
    "        assert np.allclose(problem_1f(A,x), x.T @ A ** -1, 0.01), \"Problem 1-F: Failed\"\n",
    "        print(\"Problem 1-F: Passed\")\n",
    "    except:\n",
    "        print(\"Manual Review Required: Problem 1-F\")\n",
    "    #Problem 1-G\n",
    "    try:\n",
    "        assert np.allclose(problem_1g(A,i), 3), \"Problem 1-G: Failed\"\n",
    "        print(\"Problem 1-G: Passed\")\n",
    "    except:\n",
    "        print(\"Manual Review Required: Problem 1-G\")\n",
    "    #Problem 1-H\n",
    "    try:\n",
    "        assert np.allclose(problem_1h(A,c,d), 3), \"Problem 1-H: Failed\"\n",
    "        print(\"Problem 1-H: Passed\")\n",
    "    except:\n",
    "        print(\"Manual Review Required: Problem 1-H\")\n",
    "    #Problem 1-I\n",
    "    try:\n",
    "        assert np.allclose(problem_1i(A,k), np.matrix([[-0.82456484], [ 0.56576746]])), \"Problem 1-I: Failed\"\n",
    "        print(\"Problem 1-I: Passed\")\n",
    "    except:\n",
    "        print(\"Manual Review Required: Problem 1-I\")\n",
    "    #Problem 1-J\n",
    "    try:\n",
    "        #Assumes that result will usually be within 2 standard deviations (sigma = 0.5) of mean (mu = 2) + x (x = 1,2)\n",
    "        assert np.allclose(problem_1j(x,k,m,s), np.matrix([[3],[4]]), 1), \"Problem 1-J: Failed\"\n",
    "        print(\"Problem 1-J: Passed\")\n",
    "    except:\n",
    "        print(\"Manual Review Required: Problem 1-J\")\n",
    "    #Problem 1-K\n",
    "    try:\n",
    "        A_perm = problem_1k(A)\n",
    "        assert np.array_equal(A_perm, A) or np.array_equal(A_perm, np.matrix([[3, 4], [1, 2]])), \"Problem 1-K: Failed\"\n",
    "        print(\"Problem 1-K: Passed\")\n",
    "    except:\n",
    "        print(\"Manual Review Required: Problem 1-K\")\n",
    "    #Problem 1-L\n",
    "    try:\n",
    "        assert np.allclose(problem_1l(x),np.matrix([[-1], [1]])), \"Problem 1-L: Failed\"\n",
    "        print(\"Problem 1-L: Passed\")\n",
    "    except:\n",
    "        print(\"Manual Review Required: Problem 1-L\")\n",
    "    #Problem 1-M\n",
    "    try:\n",
    "        assert np.allclose(problem_1m(x,k),np.matrix([[1], [2]])), \"Problem 1-M: Failed\"\n",
    "        print(\"Problem 1-M: Passed\")\n",
    "    except:\n",
    "        print(\"Manual Review Required: Problem 1-M\")\n",
    "    #Problem 1-N\n",
    "    try:\n",
    "        assert np.allclose(problem_1n(X),np.matrix([[0, 1, 2], [1, 0, 1], [2, 1, 0]])), \"Problem 1-N: Failed\"\n",
    "        print(\"Problem 1-N: Passed\")\n",
    "    except:\n",
    "        print(\"Manual Review Required: Problem 1-N\")\n",
    "        \n",
    "        \n",
    "test_problem1()"
   ]
  },
  {
   "cell_type": "markdown",
   "id": "8b47ff8d",
   "metadata": {},
   "source": [
    "## Problem 2"
   ]
  },
  {
   "cell_type": "code",
   "execution_count": 17,
   "id": "a3f4969c",
   "metadata": {},
   "outputs": [],
   "source": [
    "def linear_regression (X_tr, y_tr):\n",
    "\n",
    "    ss_inv = ((X_tr.T @ X_tr) ** -1)\n",
    "\n",
    "    w = ss_inv @ X_tr.T @ y_tr\n",
    "    \n",
    "    return w"
   ]
  },
  {
   "cell_type": "code",
   "execution_count": 18,
   "id": "30208307",
   "metadata": {},
   "outputs": [],
   "source": [
    "def fMSE(y_hat, ytr):\n",
    "    n = len(y_hat)\n",
    "    return 1/(2*n) * np.sum(y_hat - ytr)**2"
   ]
  },
  {
   "cell_type": "code",
   "execution_count": 19,
   "id": "00ff34b6",
   "metadata": {},
   "outputs": [],
   "source": [
    "def train_age_regressor():\n",
    "    # Load data\n",
    "    X_tr = np.reshape(np.load(\"age_regression_Xtr.npy\"), (-1, 48*48))\n",
    "\n",
    "    ytr = np.load(\"age_regression_ytr.npy\")\n",
    "\n",
    "    X_te = np.reshape(np.load(\"age_regression_Xte.npy\"), (-1, 48*48))\n",
    "\n",
    "    yte = np.load(\"age_regression_yte.npy\")\n",
    "\n",
    "    w = linear_regression(X_tr, ytr)\n",
    "    # Report fMSE cost on the training and testing data (separately)\n",
    "    ytr_hat = w @ X_tr.T\n",
    "    \n",
    "    fMSE_train = fMSE(ytr_hat, ytr)\n",
    "    \n",
    "    yte_hat = w @ X_te.T\n",
    "    \n",
    "    fMSE_test = fMSE(yte_hat, yte)\n",
    "    \n",
    "    return fMSE_train, fMSE_test"
   ]
  },
  {
   "cell_type": "code",
   "execution_count": 20,
   "id": "64b9e5cb",
   "metadata": {},
   "outputs": [
    {
     "data": {
      "text/plain": [
       "(1.014775365100438e+20, 5.107376262943038e+19)"
      ]
     },
     "execution_count": 20,
     "metadata": {},
     "output_type": "execute_result"
    }
   ],
   "source": [
    "train_age_regressor()"
   ]
  },
  {
   "cell_type": "markdown",
   "id": "3d9232ec",
   "metadata": {},
   "source": [
    "## Problem 3\n",
    "\n",
    "### a)  Estimating the Parameters of a Probability Distribution"
   ]
  },
  {
   "cell_type": "code",
   "execution_count": 21,
   "id": "e4d21c37",
   "metadata": {},
   "outputs": [],
   "source": [
    "data = np.load(\"PoissonX.npy\")"
   ]
  },
  {
   "cell_type": "code",
   "execution_count": 22,
   "id": "ae8c5b38",
   "metadata": {},
   "outputs": [
    {
     "data": {
      "text/plain": [
       "(array([0.09958333, 0.13908333, 0.17216667, 0.16083333, 0.12075   ,\n",
       "        0.11141667, 0.019     , 0.00691667, 0.00241667, 0.00116667]),\n",
       " array([ 0. ,  1.2,  2.4,  3.6,  4.8,  6. ,  7.2,  8.4,  9.6, 10.8, 12. ]),\n",
       " <BarContainer object of 10 artists>)"
      ]
     },
     "execution_count": 22,
     "metadata": {},
     "output_type": "execute_result"
    },
    {
     "data": {
      "image/png": "[encoded data removed]",
      "text/plain": [
       "<Figure size 432x288 with 1 Axes>"
      ]
     },
     "metadata": {
      "needs_background": "light"
     },
     "output_type": "display_data"
    }
   ],
   "source": [
    "plt.hist(data, density = True)"
   ]
  },
  {
   "cell_type": "code",
   "execution_count": 23,
   "id": "9ecfa85e",
   "metadata": {},
   "outputs": [
    {
     "data": {
      "image/png": "[encoded data removed]",
      "text/plain": [
       "<Figure size 432x288 with 1 Axes>"
      ]
     },
     "metadata": {
      "needs_background": "light"
     },
     "output_type": "display_data"
    },
    {
     "data": {
      "image/png": "[encoded data removed]",
      "text/plain": [
       "<Figure size 432x288 with 1 Axes>"
      ]
     },
     "metadata": {
      "needs_background": "light"
     },
     "output_type": "display_data"
    },
    {
     "data": {
      "image/png": "[encoded data removed]",
      "text/plain": [
       "<Figure size 432x288 with 1 Axes>"
      ]
     },
     "metadata": {
      "needs_background": "light"
     },
     "output_type": "display_data"
    },
    {
     "data": {
      "image/png": "[encoded data removed]",
      "text/plain": [
       "<Figure size 432x288 with 1 Axes>"
      ]
     },
     "metadata": {
      "needs_background": "light"
     },
     "output_type": "display_data"
    }
   ],
   "source": [
    "rate_params = [2.5, 3.1, 3.7, 4.3]\n",
    "\n",
    "for r in rate_params:\n",
    "    plt.figure()\n",
    "    x = np.random.poisson(lam = r, size = 10000)\n",
    "    plt.hist(x, density = True)"
   ]
  },
  {
   "cell_type": "markdown",
   "id": "a4ab7f34",
   "metadata": {},
   "source": [
    "***From visual inspection, true rate paramter (lambda) is closest to 3.1***"
   ]
  },
  {
   "cell_type": "markdown",
   "id": "a6a18d4e",
   "metadata": {},
   "source": [
    "### b) Conditional Probability Distributions to Represent the Uncertainty of Functions\n",
    "\n",
    "    i. For which values of x – those with small magnitude, or those with large magnitude – does the corresponding value of y tend to be larger? \n"
   ]
  },
  {
   "cell_type": "markdown",
   "id": "03b88168",
   "metadata": {},
   "source": [
    "    Examining the normal distribution equation after plugging in the values from our conditional probability distribution:\n",
    "$f(x)= {\\frac{1}{\\sigma\\sqrt{2\\pi}}}e^{- {\\frac {1}{2}} (\\frac {x-\\mu}{\\sigma})^2}$\n",
    "\n",
    "$f(x)= {\\frac{1}{2 - \\frac{1}{1+e^{-x^2}}\\sqrt{2\\pi}}}e^{- {\\frac {1}{2}} (\\frac {x-x}{2 - \\frac{1}{1+e^{-x^2}}})^2}$\n",
    "  \n",
    "    We see that the exponent becomes zero, leaving us with:\n",
    "$f(x)= {\\frac{1}{2 - \\frac{1}{1+e^{-x^2}}\\sqrt{2\\pi}}}$\n",
    "\n",
    "    For values of x with larger magnitude, the corresponding y value is larger."
   ]
  },
  {
   "cell_type": "markdown",
   "id": "814425ca",
   "metadata": {},
   "source": [
    "    ii. For which values of x – those with small magnitude, or those with large magnitude – does the uncertainty in the corresponding value of y tend to be larger?\n",
    "    \n",
    "    The uncertainty for a normal distribution is expressed at the level of the standard deviation. In this case, the value of our stdev input has a direct relationship with magnitude of x, such that when x has a higher magnitude, the uncertainty in the coresponding value of y also tends to be larger."
   ]
  },
  {
   "cell_type": "markdown",
   "id": "edb66f32",
   "metadata": {},
   "source": [
    "## Problem 4\n",
    "\n",
    "### a)\n",
    "\n",
    "![alt text](Problem4a.jpg \"Title\")\n",
    "\n",
    "### b)\n",
    "\n",
    "![alt text](Problem4b-1.png \"Title\")\n",
    "![alt text](Problem4b-2.png \"Title\")\n",
    "![alt text](Problem4b-3.png \"Title\")"
   ]
  }
 ],
 "metadata": {
  "kernelspec": {
   "display_name": "Python 3 (ipykernel)",
   "language": "python",
   "name": "python3"
  },
  "language_info": {
   "codemirror_mode": {
    "name": "ipython",
    "version": 3
   },
   "file_extension": ".py",
   "mimetype": "text/x-python",
   "name": "python",
   "nbconvert_exporter": "python",
   "pygments_lexer": "ipython3",
   "version": "3.9.12"
  }
 },
 "nbformat": 4,
 "nbformat_minor": 5
}
