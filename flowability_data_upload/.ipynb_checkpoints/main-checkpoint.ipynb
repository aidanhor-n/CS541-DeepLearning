{
 "cells": [
  {
   "cell_type": "code",
   "execution_count": 1,
   "metadata": {},
   "outputs": [],
   "source": [
    "import os\n",
    "import sys\n",
    "module_path = os.path.abspath(os.path.join('..'))\n",
    "if module_path not in sys.path:\n",
    "    sys.path.append(module_path)"
   ]
  },
  {
   "cell_type": "code",
   "execution_count": 2,
   "metadata": {},
   "outputs": [],
   "source": [
    "from flowability_data_upload.local.generate_datasets.loaddata import load_data\n",
    "import flowability_data_upload.local.preprocess as preprocess\n",
    "from flowability_data_upload.local.generate_datasets import VirtualPowderMixing as powderMixer\n",
    "from flowability_data_upload.local.generate_datasets import TrainAndTestSetGenerator as testSetGenerator\n",
    "import pandas as pd\n",
    "import numpy as np\n",
    "import matplotlib.pyplot as plt"
   ]
  },
  {
   "cell_type": "code",
   "execution_count": 3,
   "metadata": {},
   "outputs": [
    {
     "name": "stdout",
     "output_type": "stream",
     "text": [
      "Sync Info:\t\n",
      "Last Sync Time (Server Time): 2021-06-09 16:15:44.605398\t\n",
      "Upload Time of Last Added File: 2020-12-07 20:44:26.554000\n",
      "Data Sync Status:  True\n",
      "__________________________________________________________________\n",
      "Loading Local Data...\n"
     ]
    }
   ],
   "source": [
    "#Load normal data\n",
    "data = load_data()"
   ]
  },
  {
   "cell_type": "code",
   "execution_count": 4,
   "metadata": {},
   "outputs": [
    {
     "name": "stdout",
     "output_type": "stream",
     "text": [
      "NAME:  HC Starck C103H (10-45) Particles FLOW: 0.0 ID: 125833a9-89a2-41bd-ab49-cff7c1600ce1\n",
      "NAME:  HC Starck C103N 1st (10-45) Particles FLOW: 0.0 ID: faa13c82-0847-4652-aefd-d08862f38250\n",
      "NAME:  HC Starck C103N 2nd (10-45) Particles FLOW: 0.0 ID: b92d4987-436a-469e-9e78-67e4e2d00648\n",
      "NAME:  HC Starck TaH (170-230) Particles.xls FLOW: 4.1666 ID: 72b9824a-3d86-4557-9bb7-a22c34f74b5f\n",
      "NAME:  I-718 (63-150) Particles FLOW: 16.29 ID: c1adc55e-0821-4408-b379-2d51b8e5c9ef\n",
      "NAME:  Inconel 718 (0-63) Particles FLOW: 14.12 ID: 2fe1c429-aae7-406a-9178-4cae6716cc96\n",
      "NAME:  SS-17-4 (10-45) Particles FLOW: 14.3 ID: f28c1c6a-43d5-41cd-bd8b-10df1e639381\n",
      "NAME:  SS-17-4 (64-150) Particles FLOW: 16.1 ID: 7a1edf53-720b-4c9c-8516-d8ebdd038571\n",
      "NAME:  Ti-5Al-5V-5Mo-3Cr (0-75) Particles FLOW: 3.78 ID: a19b8ce3-991e-4961-b7ea-5c4b9c1a6253\n",
      "NAME:  Ti-64 (150-350) Particles FLOW: 56.12 ID: acb2f55f-3cf4-4c85-ad51-6637a21dcad4\n",
      "NAME:  Ti-Nb (0-63) Particles FLOW: 2.54 ID: 4d9d565d-98b4-4d5c-bb60-82a8d0c45abf\n",
      "NAME:  Ti-Nb (64-150) Particles FLOW: 2.38 ID: df7f73a6-f7b7-4b7d-b6e8-e99a5447143f\n",
      "NAME:  Ti-Nb-Zr (0-63) Particles FLOW: 34.0 ID: e14b6e01-c678-4a9e-ac78-46870c8f94bb\n",
      "NAME:  Ti-Nb-Zr (64-150) Particles FLOW: 26.1 ID: ff2a6b4a-daeb-4ef1-b747-edc81a23d0bd\n",
      "NAME:  Valimet 1 Al F357.2 (25-75) Particles FLOW: 60.1 ID: e00d84bd-e660-4fe3-84b5-2c8ad1b4fcd1\n",
      "NAME:  Valimet 3 AA4047 (50-110) Particles.xls FLOW: 52.6 ID: 8472637c-d011-4f2f-8731-6c93ffa64e13\n",
      "NAME:  Valimet 4 Al P1015 (50-110) Particles FLOW: 46.0 ID: bdb9311b-4dc0-4f20-ac1d-9b6ccafe80c8\n",
      "NAME:  Valimet 5 Al P1015 (50-110) Particles FLOW: 53.3 ID: a8d9aa6f-b3f7-4340-9b43-871485969067\n",
      "NAME:  S7B1_3720_Excel FLOW: 27.37 ID: 36ff19bd-051a-4a02-ab66-400a9205f2da\n",
      "NAME:  S8B1_3720_Excel FLOW: 17.74 ID: 5e4c99a5-ee34-4f80-ad5a-286bf5897d1c\n",
      "NAME:  S9B1_3720_Excel FLOW: 15.88 ID: a1d71e74-7dc7-47c4-a6d7-b28f0089cb95\n",
      "NAME:  S10B1_3720_Excel FLOW: 21.55 ID: a5051d68-1f93-4d5a-9044-8f49cbed332d\n",
      "NAME:  S11B1_3720_Excel FLOW: 19.02 ID: fad449cb-5d3c-4051-9d68-ba811fe0a17f\n",
      "NAME:  S6B1_3720_Excel FLOW: 0.0 ID: 0f863bd7-5d76-49dd-bc7b-5231e12a6b68\n",
      "NAME:  S5B2_4120_Excel FLOW: 49.46 ID: a532cffa-1e9e-44e4-acbf-30d59f3a080c\n",
      "NAME:  S6B1_3720_Excel FLOW: 0.0 ID: a49bd468-9e35-4929-9cd2-6cc7096f2de9\n",
      "NAME:  S11B2_4120_Excel FLOW: 16.53 ID: b4512fec-0088-4a46-bed3-35b431b9293c\n",
      "NAME:  S10B2_4120_Excel FLOW: 0.0 ID: ec20d06a-9f8a-412a-b166-5e66797e4f20\n",
      "NAME:  S6B1_3720_Excel FLOW: 0.0 ID: 5c0f79fa-1cc8-4306-bbc0-200b2c31f65a\n",
      "NAME:  S1B2_4120_Excel FLOW: 14.23 ID: b8d9ec23-2615-4b73-89e2-2ac13a7ef6ea\n",
      "NAME:  S3B2_4120_Excel FLOW: 21.42 ID: 94d6d959-cb8e-4cad-8006-5a8f806a342a\n",
      "NAME:  S6B1_3720_Excel FLOW: 0.0 ID: c475a145-ad84-4489-aa88-0838da7b23bb\n",
      "NAME:  S14B3_4420_Excel FLOW: 35.51 ID: 0c37c0c3-ebbb-4076-a032-c3baab8d21aa\n",
      "NAME:  S14B3_4420_Excel FLOW: 35.51 ID: 618ac67c-e1de-4d55-8ba6-639f582406bb\n",
      "NAME:  S14B3_4420_Excel FLOW: 35.51 ID: 3714e4ba-0cc3-4d32-8514-3d654ae60319\n"
     ]
    }
   ],
   "source": [
    "sample_ids = data['sample_id'].unique()\n",
    "for sample_id in sample_ids:\n",
    "    flowability = data[data.sample_id == sample_id].iloc[0].flowability\n",
    "    name = data[data.sample_id == sample_id].iloc[0][data.columns[1]]\n",
    "    number_of_particles = len(data[data.sample_id == sample_id])\n",
    "    print(\"NAME: \", name, \"FLOW:\", flowability, \"ID:\", sample_id)"
   ]
  },
  {
   "cell_type": "code",
   "execution_count": 4,
   "metadata": {},
   "outputs": [],
   "source": [
    "#Clean and preprocess data\n",
    "data = preprocess.clean(data)\n",
    "data = preprocess.remove_duplicate_powders(data)"
   ]
  },
  {
   "cell_type": "code",
   "execution_count": 6,
   "metadata": {},
   "outputs": [],
   "source": [
    "# One testing and one training set\n",
    "test_set, train_set = testSetGenerator.separate_train_test_powders_index_reverse(data)"
   ]
  },
  {
   "cell_type": "code",
   "execution_count": 7,
   "metadata": {},
   "outputs": [
    {
     "name": "stdout",
     "output_type": "stream",
     "text": [
      "Starting...\n"
     ]
    },
    {
     "data": {
      "text/plain": [
       "True"
      ]
     },
     "execution_count": 7,
     "metadata": {},
     "output_type": "execute_result"
    }
   ],
   "source": [
    "#Mix powders\n",
    "print(\"Starting...\")\n",
    "powderMixer.generate_virtually_mixed_powders(train_set, \"train\")\n",
    "powderMixer.generate_virtually_mixed_powders(test_set, \"test\")"
   ]
  },
  {
   "cell_type": "code",
   "execution_count": 8,
   "metadata": {},
   "outputs": [
    {
     "name": "stdout",
     "output_type": "stream",
     "text": [
      "Averaging data has already been generated.\n",
      "Averaging data has already been generated.\n"
     ]
    }
   ],
   "source": [
    "preprocess.average_powders(\"train\")\n",
    "preprocess.average_powders(\"test\")"
   ]
  }
 ],
 "metadata": {
  "interpreter": {
   "hash": "4a68f848759a31ffa24ee92575e2fd6258c54b460179f0689b3becdc4f63d35d"
  },
  "kernelspec": {
   "display_name": "Python 3",
   "language": "python",
   "name": "python3"
  },
  "language_info": {
   "codemirror_mode": {
    "name": "ipython",
    "version": 3
   },
   "file_extension": ".py",
   "mimetype": "text/x-python",
   "name": "python",
   "nbconvert_exporter": "python",
   "pygments_lexer": "ipython3",
   "version": "3.8.8"
  }
 },
 "nbformat": 4,
 "nbformat_minor": 2
}
