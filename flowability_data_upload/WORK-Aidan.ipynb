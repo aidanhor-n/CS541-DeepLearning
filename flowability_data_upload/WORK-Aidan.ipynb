{
 "cells": [
  {
   "cell_type": "code",
   "execution_count": 1,
   "id": "e47d207a",
   "metadata": {},
   "outputs": [],
   "source": [
    "import os\n",
    "import sys\n",
    "module_path = os.path.abspath(os.path.join('..'))\n",
    "if module_path not in sys.path:\n",
    "    sys.path.append(module_path)\n",
    "\n",
    "import IPython\n",
    "import IPython.display\n",
    "import pandas as pd\n",
    "import numpy as np\n",
    "import math\n",
    "import scipy\n",
    "import tempfile\n",
    "import statsmodels.formula.api as smf\n",
    "import statsmodels.api as sm\n",
    "import sklearn\n",
    "from sklearn.metrics import confusion_matrix\n",
    "from sklearn.model_selection import train_test_split\n",
    "from sklearn.preprocessing import StandardScaler, LabelEncoder, OneHotEncoder\n",
    "\n",
    "# Make numpcy values easier to read.\n",
    "np.set_printoptions(precision=3, suppress=True)\n",
    "\n",
    "import tensorflow as tf\n",
    "from tensorflow import keras\n",
    "from tensorflow.python.keras import layers\n",
    "from tensorflow.keras.utils import to_categorical #type: ignore\n",
    "import matplotlib.pyplot as plt\n",
    "import matplotlib as mat\n",
    "#import colordict as cd\n",
    "import seaborn as sns\n",
    "\n",
    "from flowability_data_upload.Research import main\n",
    "from flowability_data_upload.Research.main import trymodel, makemodel, modeltest\n",
    "\n",
    "from statsmodels.graphics.regressionplots import abline_plot\n",
    "\n",
    "from flowability_data_upload.Research.main import trymodel, makemodel, modeltest, Data"
   ]
  },
  {
   "cell_type": "code",
   "execution_count": 2,
   "id": "36fe1cae",
   "metadata": {},
   "outputs": [],
   "source": [
    "%%capture\n",
    "\n",
    "def load_data():\n",
    "    x = Data()\n",
    "    x.importnewpowders()\n",
    "    df_data = pd.DataFrame(x.data)\n",
    "    df_flow = pd.DataFrame(x.flow)\n",
    "    df_noflow = pd.DataFrame(x.noflow)\n",
    "\n",
    "    return df_data, df_flow, df_noflow\n",
    "\n",
    "df_data, df_flow, df_noflow = load_data()"
   ]
  },
  {
   "cell_type": "code",
   "execution_count": 3,
   "id": "ab4fabc1",
   "metadata": {},
   "outputs": [
    {
     "data": {
      "text/html": [
       "<div>\n",
       "<style scoped>\n",
       "    .dataframe tbody tr th:only-of-type {\n",
       "        vertical-align: middle;\n",
       "    }\n",
       "\n",
       "    .dataframe tbody tr th {\n",
       "        vertical-align: top;\n",
       "    }\n",
       "\n",
       "    .dataframe thead th {\n",
       "        text-align: right;\n",
       "    }\n",
       "</style>\n",
       "<table border=\"1\" class=\"dataframe\">\n",
       "  <thead>\n",
       "    <tr style=\"text-align: right;\">\n",
       "      <th></th>\n",
       "      <th>Da</th>\n",
       "      <th>Dp</th>\n",
       "      <th>FWidth</th>\n",
       "      <th>FLength</th>\n",
       "      <th>ELength</th>\n",
       "      <th>EWidth</th>\n",
       "      <th>Volume</th>\n",
       "      <th>Area</th>\n",
       "      <th>Perimeter</th>\n",
       "      <th>CHull  Area</th>\n",
       "      <th>CHull Perimeter</th>\n",
       "      <th>Sphericity</th>\n",
       "      <th>Compactness</th>\n",
       "      <th>Roundness</th>\n",
       "      <th>Ellipse Ratio</th>\n",
       "      <th>Circularity</th>\n",
       "      <th>Solidity</th>\n",
       "      <th>Concavity</th>\n",
       "      <th>Convexity</th>\n",
       "      <th>Extent</th>\n",
       "      <th>Transparency</th>\n",
       "      <th>Curvature</th>\n",
       "      <th>Surface Area</th>\n",
       "      <th>L/W Ratio</th>\n",
       "      <th>W/L Aspect Ratio</th>\n",
       "      <th>CHull Surface Area</th>\n",
       "      <th>Ellipticity</th>\n",
       "      <th>Flow</th>\n",
       "      <th>Flow Class</th>\n",
       "    </tr>\n",
       "  </thead>\n",
       "  <tbody>\n",
       "    <tr>\n",
       "      <th>count</th>\n",
       "      <td>271433.000000</td>\n",
       "      <td>271433.000000</td>\n",
       "      <td>271433.000000</td>\n",
       "      <td>271433.000000</td>\n",
       "      <td>271433.000000</td>\n",
       "      <td>271433.000000</td>\n",
       "      <td>2.714330e+05</td>\n",
       "      <td>271433.000000</td>\n",
       "      <td>271433.000000</td>\n",
       "      <td>271433.000000</td>\n",
       "      <td>271433.000000</td>\n",
       "      <td>271433.000000</td>\n",
       "      <td>271433.000000</td>\n",
       "      <td>271433.000000</td>\n",
       "      <td>271433.000000</td>\n",
       "      <td>271433.000000</td>\n",
       "      <td>271433.000000</td>\n",
       "      <td>271433.000000</td>\n",
       "      <td>271433.000000</td>\n",
       "      <td>271433.000000</td>\n",
       "      <td>271433.000000</td>\n",
       "      <td>271433.000000</td>\n",
       "      <td>271433.000000</td>\n",
       "      <td>271433.000000</td>\n",
       "      <td>271433.000000</td>\n",
       "      <td>271433.000000</td>\n",
       "      <td>271433.000000</td>\n",
       "      <td>271433.000000</td>\n",
       "      <td>271433.000000</td>\n",
       "    </tr>\n",
       "    <tr>\n",
       "      <th>mean</th>\n",
       "      <td>17.437426</td>\n",
       "      <td>19.584505</td>\n",
       "      <td>16.006094</td>\n",
       "      <td>20.989617</td>\n",
       "      <td>20.064784</td>\n",
       "      <td>15.574809</td>\n",
       "      <td>1.194712e+04</td>\n",
       "      <td>394.803286</td>\n",
       "      <td>61.526533</td>\n",
       "      <td>417.306852</td>\n",
       "      <td>58.768829</td>\n",
       "      <td>0.899650</td>\n",
       "      <td>0.831908</td>\n",
       "      <td>0.699995</td>\n",
       "      <td>0.794656</td>\n",
       "      <td>0.813635</td>\n",
       "      <td>0.944927</td>\n",
       "      <td>0.055073</td>\n",
       "      <td>0.969058</td>\n",
       "      <td>0.711475</td>\n",
       "      <td>0.369702</td>\n",
       "      <td>0.030291</td>\n",
       "      <td>1579.213144</td>\n",
       "      <td>1.348371</td>\n",
       "      <td>0.769345</td>\n",
       "      <td>1669.227407</td>\n",
       "      <td>1.321048</td>\n",
       "      <td>17.321739</td>\n",
       "      <td>0.557965</td>\n",
       "    </tr>\n",
       "    <tr>\n",
       "      <th>std</th>\n",
       "      <td>14.093120</td>\n",
       "      <td>16.539802</td>\n",
       "      <td>12.996290</td>\n",
       "      <td>17.264877</td>\n",
       "      <td>17.008509</td>\n",
       "      <td>12.737594</td>\n",
       "      <td>8.588047e+04</td>\n",
       "      <td>897.617276</td>\n",
       "      <td>51.961316</td>\n",
       "      <td>966.819265</td>\n",
       "      <td>47.467115</td>\n",
       "      <td>0.065308</td>\n",
       "      <td>0.089029</td>\n",
       "      <td>0.141272</td>\n",
       "      <td>0.148346</td>\n",
       "      <td>0.112077</td>\n",
       "      <td>0.046066</td>\n",
       "      <td>0.046066</td>\n",
       "      <td>0.034497</td>\n",
       "      <td>0.052250</td>\n",
       "      <td>0.059026</td>\n",
       "      <td>0.205644</td>\n",
       "      <td>3590.469105</td>\n",
       "      <td>0.303105</td>\n",
       "      <td>0.129415</td>\n",
       "      <td>3867.277062</td>\n",
       "      <td>0.359398</td>\n",
       "      <td>19.867035</td>\n",
       "      <td>0.496630</td>\n",
       "    </tr>\n",
       "    <tr>\n",
       "      <th>min</th>\n",
       "      <td>2.579000</td>\n",
       "      <td>3.620000</td>\n",
       "      <td>3.000000</td>\n",
       "      <td>3.840000</td>\n",
       "      <td>2.950000</td>\n",
       "      <td>2.067000</td>\n",
       "      <td>8.985000e+00</td>\n",
       "      <td>5.225000</td>\n",
       "      <td>11.373000</td>\n",
       "      <td>7.423000</td>\n",
       "      <td>11.046000</td>\n",
       "      <td>0.435000</td>\n",
       "      <td>0.291000</td>\n",
       "      <td>0.084000</td>\n",
       "      <td>0.098000</td>\n",
       "      <td>0.189000</td>\n",
       "      <td>0.700000</td>\n",
       "      <td>0.000000</td>\n",
       "      <td>0.548000</td>\n",
       "      <td>0.380000</td>\n",
       "      <td>0.000000</td>\n",
       "      <td>0.000000</td>\n",
       "      <td>20.900000</td>\n",
       "      <td>1.015000</td>\n",
       "      <td>0.124000</td>\n",
       "      <td>29.692000</td>\n",
       "      <td>1.000000</td>\n",
       "      <td>0.000000</td>\n",
       "      <td>0.000000</td>\n",
       "    </tr>\n",
       "    <tr>\n",
       "      <th>25%</th>\n",
       "      <td>8.120000</td>\n",
       "      <td>8.978000</td>\n",
       "      <td>7.462000</td>\n",
       "      <td>9.802000</td>\n",
       "      <td>9.166000</td>\n",
       "      <td>7.170000</td>\n",
       "      <td>2.803440e+02</td>\n",
       "      <td>51.787000</td>\n",
       "      <td>28.206000</td>\n",
       "      <td>54.896000</td>\n",
       "      <td>27.675000</td>\n",
       "      <td>0.867000</td>\n",
       "      <td>0.780000</td>\n",
       "      <td>0.608000</td>\n",
       "      <td>0.709000</td>\n",
       "      <td>0.752000</td>\n",
       "      <td>0.928000</td>\n",
       "      <td>0.024000</td>\n",
       "      <td>0.959000</td>\n",
       "      <td>0.686000</td>\n",
       "      <td>0.333000</td>\n",
       "      <td>0.000000</td>\n",
       "      <td>207.147000</td>\n",
       "      <td>1.150000</td>\n",
       "      <td>0.693000</td>\n",
       "      <td>219.583000</td>\n",
       "      <td>1.097000</td>\n",
       "      <td>0.000000</td>\n",
       "      <td>0.000000</td>\n",
       "    </tr>\n",
       "    <tr>\n",
       "      <th>50%</th>\n",
       "      <td>12.486000</td>\n",
       "      <td>13.765000</td>\n",
       "      <td>11.378000</td>\n",
       "      <td>14.978000</td>\n",
       "      <td>14.183000</td>\n",
       "      <td>11.128000</td>\n",
       "      <td>1.019258e+03</td>\n",
       "      <td>122.447000</td>\n",
       "      <td>43.244000</td>\n",
       "      <td>129.397000</td>\n",
       "      <td>42.106000</td>\n",
       "      <td>0.917000</td>\n",
       "      <td>0.850000</td>\n",
       "      <td>0.722000</td>\n",
       "      <td>0.832000</td>\n",
       "      <td>0.841000</td>\n",
       "      <td>0.958000</td>\n",
       "      <td>0.042000</td>\n",
       "      <td>0.982000</td>\n",
       "      <td>0.722000</td>\n",
       "      <td>0.383000</td>\n",
       "      <td>0.000000</td>\n",
       "      <td>489.787000</td>\n",
       "      <td>1.255000</td>\n",
       "      <td>0.797000</td>\n",
       "      <td>517.590000</td>\n",
       "      <td>1.201000</td>\n",
       "      <td>14.430000</td>\n",
       "      <td>1.000000</td>\n",
       "    </tr>\n",
       "    <tr>\n",
       "      <th>75%</th>\n",
       "      <td>22.466000</td>\n",
       "      <td>24.995000</td>\n",
       "      <td>20.670000</td>\n",
       "      <td>26.623000</td>\n",
       "      <td>25.589000</td>\n",
       "      <td>20.080000</td>\n",
       "      <td>5.936972e+03</td>\n",
       "      <td>396.400000</td>\n",
       "      <td>78.524000</td>\n",
       "      <td>419.254000</td>\n",
       "      <td>75.287000</td>\n",
       "      <td>0.949000</td>\n",
       "      <td>0.900000</td>\n",
       "      <td>0.810000</td>\n",
       "      <td>0.911000</td>\n",
       "      <td>0.900000</td>\n",
       "      <td>0.976000</td>\n",
       "      <td>0.072000</td>\n",
       "      <td>0.992000</td>\n",
       "      <td>0.748000</td>\n",
       "      <td>0.416000</td>\n",
       "      <td>0.000000</td>\n",
       "      <td>1585.602000</td>\n",
       "      <td>1.442000</td>\n",
       "      <td>0.869000</td>\n",
       "      <td>1677.015000</td>\n",
       "      <td>1.410000</td>\n",
       "      <td>34.310000</td>\n",
       "      <td>1.000000</td>\n",
       "    </tr>\n",
       "    <tr>\n",
       "      <th>max</th>\n",
       "      <td>395.289000</td>\n",
       "      <td>841.622000</td>\n",
       "      <td>375.143000</td>\n",
       "      <td>514.872000</td>\n",
       "      <td>473.644000</td>\n",
       "      <td>371.279000</td>\n",
       "      <td>3.234010e+07</td>\n",
       "      <td>122720.860000</td>\n",
       "      <td>2644.034000</td>\n",
       "      <td>145923.674000</td>\n",
       "      <td>1448.384000</td>\n",
       "      <td>0.993000</td>\n",
       "      <td>0.987000</td>\n",
       "      <td>0.974000</td>\n",
       "      <td>1.000000</td>\n",
       "      <td>0.986000</td>\n",
       "      <td>1.000000</td>\n",
       "      <td>0.300000</td>\n",
       "      <td>1.000000</td>\n",
       "      <td>0.894000</td>\n",
       "      <td>0.674000</td>\n",
       "      <td>6.250000</td>\n",
       "      <td>490883.440000</td>\n",
       "      <td>8.085000</td>\n",
       "      <td>0.985000</td>\n",
       "      <td>583694.696000</td>\n",
       "      <td>10.246000</td>\n",
       "      <td>64.303333</td>\n",
       "      <td>1.000000</td>\n",
       "    </tr>\n",
       "  </tbody>\n",
       "</table>\n",
       "</div>"
      ],
      "text/plain": [
       "                  Da             Dp         FWidth        FLength  \\\n",
       "count  271433.000000  271433.000000  271433.000000  271433.000000   \n",
       "mean       17.437426      19.584505      16.006094      20.989617   \n",
       "std        14.093120      16.539802      12.996290      17.264877   \n",
       "min         2.579000       3.620000       3.000000       3.840000   \n",
       "25%         8.120000       8.978000       7.462000       9.802000   \n",
       "50%        12.486000      13.765000      11.378000      14.978000   \n",
       "75%        22.466000      24.995000      20.670000      26.623000   \n",
       "max       395.289000     841.622000     375.143000     514.872000   \n",
       "\n",
       "             ELength         EWidth        Volume           Area  \\\n",
       "count  271433.000000  271433.000000  2.714330e+05  271433.000000   \n",
       "mean       20.064784      15.574809  1.194712e+04     394.803286   \n",
       "std        17.008509      12.737594  8.588047e+04     897.617276   \n",
       "min         2.950000       2.067000  8.985000e+00       5.225000   \n",
       "25%         9.166000       7.170000  2.803440e+02      51.787000   \n",
       "50%        14.183000      11.128000  1.019258e+03     122.447000   \n",
       "75%        25.589000      20.080000  5.936972e+03     396.400000   \n",
       "max       473.644000     371.279000  3.234010e+07  122720.860000   \n",
       "\n",
       "           Perimeter    CHull  Area  CHull Perimeter     Sphericity  \\\n",
       "count  271433.000000  271433.000000    271433.000000  271433.000000   \n",
       "mean       61.526533     417.306852        58.768829       0.899650   \n",
       "std        51.961316     966.819265        47.467115       0.065308   \n",
       "min        11.373000       7.423000        11.046000       0.435000   \n",
       "25%        28.206000      54.896000        27.675000       0.867000   \n",
       "50%        43.244000     129.397000        42.106000       0.917000   \n",
       "75%        78.524000     419.254000        75.287000       0.949000   \n",
       "max      2644.034000  145923.674000      1448.384000       0.993000   \n",
       "\n",
       "         Compactness      Roundness  Ellipse Ratio    Circularity  \\\n",
       "count  271433.000000  271433.000000  271433.000000  271433.000000   \n",
       "mean        0.831908       0.699995       0.794656       0.813635   \n",
       "std         0.089029       0.141272       0.148346       0.112077   \n",
       "min         0.291000       0.084000       0.098000       0.189000   \n",
       "25%         0.780000       0.608000       0.709000       0.752000   \n",
       "50%         0.850000       0.722000       0.832000       0.841000   \n",
       "75%         0.900000       0.810000       0.911000       0.900000   \n",
       "max         0.987000       0.974000       1.000000       0.986000   \n",
       "\n",
       "            Solidity      Concavity      Convexity         Extent  \\\n",
       "count  271433.000000  271433.000000  271433.000000  271433.000000   \n",
       "mean        0.944927       0.055073       0.969058       0.711475   \n",
       "std         0.046066       0.046066       0.034497       0.052250   \n",
       "min         0.700000       0.000000       0.548000       0.380000   \n",
       "25%         0.928000       0.024000       0.959000       0.686000   \n",
       "50%         0.958000       0.042000       0.982000       0.722000   \n",
       "75%         0.976000       0.072000       0.992000       0.748000   \n",
       "max         1.000000       0.300000       1.000000       0.894000   \n",
       "\n",
       "        Transparency      Curvature   Surface Area      L/W Ratio  \\\n",
       "count  271433.000000  271433.000000  271433.000000  271433.000000   \n",
       "mean        0.369702       0.030291    1579.213144       1.348371   \n",
       "std         0.059026       0.205644    3590.469105       0.303105   \n",
       "min         0.000000       0.000000      20.900000       1.015000   \n",
       "25%         0.333000       0.000000     207.147000       1.150000   \n",
       "50%         0.383000       0.000000     489.787000       1.255000   \n",
       "75%         0.416000       0.000000    1585.602000       1.442000   \n",
       "max         0.674000       6.250000  490883.440000       8.085000   \n",
       "\n",
       "       W/L Aspect Ratio  CHull Surface Area    Ellipticity           Flow  \\\n",
       "count     271433.000000       271433.000000  271433.000000  271433.000000   \n",
       "mean           0.769345         1669.227407       1.321048      17.321739   \n",
       "std            0.129415         3867.277062       0.359398      19.867035   \n",
       "min            0.124000           29.692000       1.000000       0.000000   \n",
       "25%            0.693000          219.583000       1.097000       0.000000   \n",
       "50%            0.797000          517.590000       1.201000      14.430000   \n",
       "75%            0.869000         1677.015000       1.410000      34.310000   \n",
       "max            0.985000       583694.696000      10.246000      64.303333   \n",
       "\n",
       "          Flow Class  \n",
       "count  271433.000000  \n",
       "mean        0.557965  \n",
       "std         0.496630  \n",
       "min         0.000000  \n",
       "25%         0.000000  \n",
       "50%         1.000000  \n",
       "75%         1.000000  \n",
       "max         1.000000  "
      ]
     },
     "execution_count": 3,
     "metadata": {},
     "output_type": "execute_result"
    }
   ],
   "source": [
    "pd.set_option('display.max_columns', None)\n",
    "df_data.describe()"
   ]
  },
  {
   "cell_type": "markdown",
   "id": "8f8a718c",
   "metadata": {},
   "source": [
    "# Training Classifiers"
   ]
  },
  {
   "cell_type": "markdown",
   "id": "a51c2f92",
   "metadata": {},
   "source": [
    "## Flow Class Prediction"
   ]
  },
  {
   "cell_type": "code",
   "execution_count": 4,
   "id": "377fd52d",
   "metadata": {},
   "outputs": [
    {
     "name": "stdout",
     "output_type": "stream",
     "text": [
      "Examples:\n",
      "    Total: 271433\n",
      "    Positive: 151450 (55.80% of total)\n",
      "\n"
     ]
    }
   ],
   "source": [
    "#Flow Class Imbalance\n",
    "\n",
    "neg, pos = np.bincount(df_data['Flow Class']) #type: ignore\n",
    "total = neg + pos\n",
    "print('Examples:\\n    Total: {}\\n    Positive: {} ({:.2f}% of total)\\n'.format(\n",
    "    total, pos, 100 * pos / total))"
   ]
  },
  {
   "cell_type": "markdown",
   "id": "de58c63c",
   "metadata": {},
   "source": [
    "### Data Cleaning"
   ]
  },
  {
   "cell_type": "code",
   "execution_count": 48,
   "id": "258a88b7",
   "metadata": {},
   "outputs": [],
   "source": [
    "cleaned_df = df_data.copy().reset_index(drop = True)\n",
    "\n",
    "powder = cleaned_df.pop('Flow')\n",
    "powder = cleaned_df.pop('Powder')"
   ]
  },
  {
   "cell_type": "markdown",
   "id": "331769bc",
   "metadata": {},
   "source": [
    "## Model Class"
   ]
  },
  {
   "cell_type": "code",
   "execution_count": 49,
   "id": "296ad5e7",
   "metadata": {},
   "outputs": [],
   "source": [
    "class Model:\n",
    "    def __init__(self, name, num_classes = 2):\n",
    "        self.name = name\n",
    "        self.num_classes = num_classes\n",
    "\n",
    "        self.EPOCHS = 100\n",
    "        self.BATCH_SIZE = 2048\n",
    "        "
   ]
  },
  {
   "cell_type": "code",
   "execution_count": 50,
   "id": "6a41d5e8",
   "metadata": {},
   "outputs": [],
   "source": [
    "regular_model = Model(name = \"Regular\")\n",
    "boxcox_model = Model(name=\"Boxcox Transform\")"
   ]
  },
  {
   "cell_type": "markdown",
   "id": "4115a118",
   "metadata": {},
   "source": [
    "### Train Test Split"
   ]
  },
  {
   "cell_type": "code",
   "execution_count": 51,
   "id": "9f52c1e3",
   "metadata": {},
   "outputs": [],
   "source": [
    "def split_transform_data(self, cleaned_df, target = 'Flow Class', use_boxcox = False):\n",
    "    # Use a utility from sklearn to split and shuffle your dataset.\n",
    "    train_df, self.test_df = train_test_split(cleaned_df, test_size=0.2)\n",
    "\n",
    "    if use_boxcox:\n",
    "        for col in train_df.columns[:-1]: #all except last (assuming target)\n",
    "            fit_values, fit_lambda = scipy.stats.boxcox(train_df[col].values + 0.0001)\n",
    "            train_df[col] = fit_values\n",
    "            self.test_df[col] = scipy.stats.boxcox(self.test_df[col].values + 0.0001, fit_lambda)\n",
    "\n",
    "    self.train_df, self.val_df = train_test_split(train_df, test_size=0.2)\n",
    "\n",
    "    # Form np arrays of labels and features.\n",
    "    self.train_labels = np.array(self.train_df.pop(target))\n",
    "    self.bool_train_labels = self.train_labels != 0\n",
    "    self.val_labels = np.array(self.val_df.pop(target))\n",
    "    self.test_labels = np.array(self.test_df.pop(target))\n",
    "\n",
    "    self.train_features = np.array(self.train_df)\n",
    "    self.val_features = np.array(self.val_df)\n",
    "    self.test_features = np.array(self.test_df)\n",
    "      \n",
    "\n",
    "Model.split_transform_data = split_transform_data"
   ]
  },
  {
   "cell_type": "code",
   "execution_count": 52,
   "id": "2bd7e554",
   "metadata": {},
   "outputs": [],
   "source": [
    "regular_model.split_transform_data(cleaned_df, use_boxcox=False)\n",
    "boxcox_model.split_transform_data(cleaned_df, use_boxcox=True)"
   ]
  },
  {
   "cell_type": "markdown",
   "id": "44cb8ec5",
   "metadata": {},
   "source": [
    "### Apply Standard Scaling"
   ]
  },
  {
   "cell_type": "code",
   "execution_count": 53,
   "id": "f6b257fc",
   "metadata": {},
   "outputs": [],
   "source": [
    "def apply_StandardScaler(self):\n",
    "    scaler = StandardScaler()\n",
    "    self.train_features = scaler.fit_transform(self.train_features)\n",
    "\n",
    "    self.val_features = scaler.transform(self.val_features)\n",
    "    self.test_features = scaler.transform(self.test_features)\n",
    "\n",
    "    self.train_features = np.clip(self.train_features, -5, 5)\n",
    "    self.val_features = np.clip(self.val_features, -5, 5)\n",
    "    self.test_features = np.clip(self.test_features, -5, 5)\n",
    "\n",
    "\n",
    "    print('Training labels shape:', self.train_labels.shape)\n",
    "    print('Validation labels shape:', self.val_labels.shape)\n",
    "    print('Test labels shape:', self.test_labels.shape)\n",
    "\n",
    "    print('Training features shape:', self.train_features.shape)\n",
    "    print('Validation features shape:', self.val_features.shape)\n",
    "    print('Test features shape:', self.test_features.shape)\n",
    "\n",
    "Model.apply_StandardScaler = apply_StandardScaler"
   ]
  },
  {
   "cell_type": "code",
   "execution_count": 54,
   "id": "f5ab66b5",
   "metadata": {},
   "outputs": [
    {
     "name": "stdout",
     "output_type": "stream",
     "text": [
      "Training labels shape: (173716,)\n",
      "Validation labels shape: (43430,)\n",
      "Test labels shape: (54287,)\n",
      "Training features shape: (173716, 27)\n",
      "Validation features shape: (43430, 27)\n",
      "Test features shape: (54287, 27)\n",
      "Training labels shape: (173716,)\n",
      "Validation labels shape: (43430,)\n",
      "Test labels shape: (54287,)\n",
      "Training features shape: (173716, 27)\n",
      "Validation features shape: (43430, 27)\n",
      "Test features shape: (54287, 27)\n"
     ]
    }
   ],
   "source": [
    "regular_model.apply_StandardScaler()\n",
    "boxcox_model.apply_StandardScaler()"
   ]
  },
  {
   "cell_type": "markdown",
   "id": "196807c8",
   "metadata": {},
   "source": [
    "### Define Model and Metrics"
   ]
  },
  {
   "cell_type": "code",
   "execution_count": 55,
   "id": "a4a9caa9",
   "metadata": {},
   "outputs": [],
   "source": [
    "METRICS = [\n",
    "      keras.metrics.TruePositives(name='tp'),\n",
    "      keras.metrics.FalsePositives(name='fp'),\n",
    "      keras.metrics.TrueNegatives(name='tn'),\n",
    "      keras.metrics.FalseNegatives(name='fn'), \n",
    "      keras.metrics.BinaryAccuracy(name='accuracy'),\n",
    "      keras.metrics.Precision(name='precision'),\n",
    "      keras.metrics.Recall(name='recall'),\n",
    "      keras.metrics.AUC(name='auc'),\n",
    "      keras.metrics.AUC(name='prc', curve='PR'), # precision-recall curve\n",
    "]\n",
    "\n",
    "Model.METRICS = METRICS\n",
    "\n",
    "def make_model(self, output_bias=None):\n",
    "  if output_bias is not None:\n",
    "    output_bias = tf.keras.initializers.Constant(output_bias)\n",
    "  self.model = keras.Sequential([\n",
    "      keras.layers.Dense(\n",
    "          16, activation='relu',\n",
    "          input_shape=(self.train_features.shape[-1],)),\n",
    "      keras.layers.Dropout(0.5),\n",
    "      keras.layers.Dense(1, activation='sigmoid',\n",
    "                         bias_initializer=output_bias),\n",
    "  ])\n",
    "\n",
    "  self.model.compile(\n",
    "      optimizer=keras.optimizers.Adam(learning_rate=1e-3),\n",
    "      loss=keras.losses.BinaryCrossentropy(),\n",
    "      metrics=self.METRICS)\n",
    "\n",
    "  return self.model\n",
    "\n",
    "Model.make_model = make_model\n",
    "\n",
    "def evaluate_model(self):\n",
    "  results = self.model.evaluate(self.train_features, self.train_labels, batch_size = self.BATCH_SIZE, verbose=0)\n",
    "  print(\"Loss: {:0.4f}\".format(results[0]))\n",
    "\n",
    "Model.evaluate_model = evaluate_model\n",
    "\n",
    "def fit_model(self):\n",
    "\n",
    "  early_stopping = tf.keras.callbacks.EarlyStopping(\n",
    "    monitor='val_prc', \n",
    "    verbose=1,\n",
    "    patience=10,\n",
    "    mode='max',\n",
    "    restore_best_weights=True)\n",
    "\n",
    "  self.history = self.model.fit(\n",
    "    self.train_features,\n",
    "    self.train_labels,\n",
    "    batch_size=self.BATCH_SIZE,\n",
    "    epochs=self.EPOCHS,\n",
    "    callbacks=[early_stopping],\n",
    "    validation_data=(self.val_features, self.val_labels))\n",
    "\n",
    "  return self.history\n",
    "\n",
    "Model.fit_model = fit_model\n",
    "\n",
    "def predict(self, input):\n",
    "    # make predictions on the input data using the model\n",
    "    scaler = StandardScaler()\n",
    "    scaled_input = scaler.fit_transform(input)\n",
    "\n",
    "    predictions = self.model.predict(scaled_input)\n",
    "    \n",
    "    return predictions\n",
    "\n",
    "Model.predict = predict\n",
    "  "
   ]
  },
  {
   "cell_type": "markdown",
   "id": "1104e9e0",
   "metadata": {},
   "source": [
    "### Visualization"
   ]
  },
  {
   "cell_type": "code",
   "execution_count": 100,
   "id": "4deeef96",
   "metadata": {},
   "outputs": [],
   "source": [
    "def visualize(self):\n",
    "    pos_df = pd.DataFrame(self.train_features[self.bool_train_labels], columns=self.train_df.columns)\n",
    "    neg_df = pd.DataFrame(self.train_features[~self.bool_train_labels], columns=self.train_df.columns)\n",
    "\n",
    "    f1,f2 = np.random.choice(self.train_df.columns, 2, replace=False)\n",
    "\n",
    "    sns.jointplot(x=pos_df[f1], y=pos_df[f2],\n",
    "                kind='hex', xlim=(-5,5), ylim=(-5,5))\n",
    "    plt.suptitle(\"Positive distribution\")\n",
    "\n",
    "    sns.jointplot(x=neg_df[f1], y=neg_df[f2],\n",
    "                kind='hex', xlim=(-5,5), ylim=(-5,5))\n",
    "    _ = plt.suptitle(\"Negative distribution\")\n",
    "\n",
    "Model.visualize = visualize\n",
    "\n",
    "def plot_metrics(self):\n",
    "\n",
    "  colors = plt.rcParams['axes.prop_cycle'].by_key()['color']\n",
    "\n",
    "  metrics = ['loss', 'prc', 'precision', 'recall']\n",
    "  for n, metric in enumerate(metrics):\n",
    "    name = metric.replace(\"_\",\" \").capitalize()\n",
    "    plt.subplot(2,2,n+1)\n",
    "    plt.plot(self.history.epoch, self.history.history[metric], color=colors[0], label='Train')\n",
    "    plt.plot(self.history.epoch, self.history.history['val_'+metric],\n",
    "             color=colors[0], linestyle=\"--\", label='Val')\n",
    "    plt.xlabel('Epoch')\n",
    "    plt.ylabel(name)\n",
    "    if metric == 'loss':\n",
    "      plt.ylim([0, plt.ylim()[1]])\n",
    "    elif metric == 'auc':\n",
    "      plt.ylim([0.8,1])\n",
    "    else:\n",
    "      plt.ylim([0,1])\n",
    "\n",
    "    plt.legend()\n",
    "\n",
    "Model.plot_metrics = plot_metrics\n",
    "\n",
    "def plot_cm(self, p=0.5):\n",
    "  predictions = self.model.predict(self.test_features)\n",
    "  cm = confusion_matrix(self.test_labels, predictions > p)\n",
    "  plt.figure(figsize=(5,5))\n",
    "  sns.heatmap(cm, annot=True, fmt=\"d\")\n",
    "  plt.title('Confusion matrix @{:.2f}'.format(p))\n",
    "  plt.ylabel('Actual label')\n",
    "  plt.xlabel('Predicted label')\n",
    "\n",
    "  print('No Flow Detected (True Negatives): ', cm[0][0])\n",
    "  print('Flow Incorrectly Detected (False Positives): ', cm[0][1])\n",
    "  print('No Flow Incorrectly Detected (False Negatives): ', cm[1][0])\n",
    "  print('Flow Detected (True Positives): ', cm[1][1])\n",
    "  print('Total Flow Detected: ', np.sum(cm[1]))\n",
    "\n",
    "Model.plot_cm = plot_cm"
   ]
  },
  {
   "cell_type": "markdown",
   "id": "addecb39",
   "metadata": {},
   "source": [
    "### Plot Model Training History"
   ]
  },
  {
   "cell_type": "markdown",
   "id": "9ab2611d",
   "metadata": {},
   "source": [
    "#### Regular"
   ]
  },
  {
   "cell_type": "code",
   "execution_count": 56,
   "id": "ba3ee2a0",
   "metadata": {},
   "outputs": [
    {
     "name": "stdout",
     "output_type": "stream",
     "text": [
      "Loss: 0.5600\n"
     ]
    }
   ],
   "source": [
    "model = regular_model.make_model()\n",
    "history = regular_model.fit_model()\n",
    "IPython.display.clear_output()\n",
    "regular_model.evaluate_model()"
   ]
  },
  {
   "cell_type": "code",
   "execution_count": 15,
   "id": "3ac745d5",
   "metadata": {},
   "outputs": [
    {
     "data": {
      "image/png": "[encoded data removed]",
      "text/plain": [
       "<Figure size 640x480 with 4 Axes>"
      ]
     },
     "metadata": {},
     "output_type": "display_data"
    }
   ],
   "source": [
    "regular_model.plot_metrics()"
   ]
  },
  {
   "cell_type": "code",
   "execution_count": 16,
   "id": "e65f65d7",
   "metadata": {},
   "outputs": [
    {
     "name": "stdout",
     "output_type": "stream",
     "text": [
      "1697/1697 [==============================] - 1s 444us/step\n",
      "No Flow Detected (True Negatives):  17036\n",
      "Flow Incorrectly Detected (False Positives):  6797\n",
      "No Flow Incorrectly Detected (False Negatives):  8020\n",
      "Flow Detected (True Positives):  22434\n",
      "Total Flow Detected:  30454\n"
     ]
    },
    {
     "data": {
      "image/png": "[encoded data removed]",
      "text/plain": [
       "<Figure size 500x500 with 2 Axes>"
      ]
     },
     "metadata": {},
     "output_type": "display_data"
    }
   ],
   "source": [
    "regular_model.plot_cm()"
   ]
  },
  {
   "cell_type": "markdown",
   "id": "c204c870",
   "metadata": {},
   "source": [
    "#### Boxcox Transform"
   ]
  },
  {
   "cell_type": "code",
   "execution_count": 17,
   "id": "51519d33",
   "metadata": {},
   "outputs": [
    {
     "name": "stdout",
     "output_type": "stream",
     "text": [
      "Loss: 0.5631\n"
     ]
    }
   ],
   "source": [
    "model = boxcox_model.make_model()\n",
    "history = boxcox_model.fit_model()\n",
    "IPython.display.clear_output()\n",
    "boxcox_model.evaluate_model()"
   ]
  },
  {
   "cell_type": "code",
   "execution_count": 18,
   "id": "f7687d98",
   "metadata": {},
   "outputs": [
    {
     "data": {
      "image/png": "[encoded data removed]",
      "text/plain": [
       "<Figure size 640x480 with 4 Axes>"
      ]
     },
     "metadata": {},
     "output_type": "display_data"
    }
   ],
   "source": [
    "boxcox_model.plot_metrics()"
   ]
  },
  {
   "cell_type": "code",
   "execution_count": 19,
   "id": "aff75b98",
   "metadata": {},
   "outputs": [
    {
     "name": "stdout",
     "output_type": "stream",
     "text": [
      "1697/1697 [==============================] - 1s 438us/step\n",
      "No Flow Detected (True Negatives):  17294\n",
      "Flow Incorrectly Detected (False Positives):  6742\n",
      "No Flow Incorrectly Detected (False Negatives):  8227\n",
      "Flow Detected (True Positives):  22024\n",
      "Total Flow Detected:  30251\n"
     ]
    },
    {
     "data": {
      "image/png": "[encoded data removed]",
      "text/plain": [
       "<Figure size 500x500 with 2 Axes>"
      ]
     },
     "metadata": {},
     "output_type": "display_data"
    }
   ],
   "source": [
    "boxcox_model.plot_cm()"
   ]
  },
  {
   "cell_type": "markdown",
   "id": "aa7e241b",
   "metadata": {},
   "source": [
    "## Powder Class Prediction"
   ]
  },
  {
   "cell_type": "code",
   "execution_count": 20,
   "id": "8abb539d",
   "metadata": {},
   "outputs": [
    {
     "name": "stdout",
     "output_type": "stream",
     "text": [
      "Label AEE_WP-301_1-5_AA_3-7.txt : 8659 (3.19% of total)\n"
     ]
    }
   ],
   "source": [
    "#Powder Class Imbalance\n",
    "encoded_df = df_data.copy().reset_index(drop = True)\n",
    "\n",
    "encoded_df.pop('Flow Class')\n",
    "encoded_df.pop('Flow')\n",
    "\n",
    "le = LabelEncoder()\n",
    "encoded_df['Powder Class'] = le.fit_transform(encoded_df['Powder'])#type: ignore\n",
    "num_classes = len(le.classes_)\n",
    "counts = np.bincount(encoded_df['Powder Class']) \n",
    "total = sum(counts)\n",
    "\n",
    "for label,count in zip(le.classes_,counts):\n",
    "    print(f\"Label {label} : {count} ({count/total * 100:.2f}% of total)\")\n",
    "    break\n",
    "\n",
    "encoded_df.pop('Powder')\n",
    "class_labels = encoded_df.pop('Powder Class')\n"
   ]
  },
  {
   "cell_type": "code",
   "execution_count": 21,
   "id": "1c9ef60d",
   "metadata": {},
   "outputs": [],
   "source": [
    "powder_class_model = Model(name=\"Powder Class Models\", num_classes = num_classes)"
   ]
  },
  {
   "cell_type": "markdown",
   "id": "a3319daf",
   "metadata": {},
   "source": [
    "### Use Flow Class Model predictions"
   ]
  },
  {
   "cell_type": "code",
   "execution_count": 22,
   "id": "e29c04a9",
   "metadata": {},
   "outputs": [
    {
     "name": "stdout",
     "output_type": "stream",
     "text": [
      "8483/8483 [==============================] - 3s 402us/step\n"
     ]
    }
   ],
   "source": [
    "predictions = regular_model.predict(encoded_df)\n",
    "encoded_df['Predicted Flow Class'] = predictions\n",
    "encoded_df['Powder Class'] = class_labels"
   ]
  },
  {
   "cell_type": "code",
   "execution_count": 23,
   "id": "3ca5c194",
   "metadata": {},
   "outputs": [],
   "source": [
    "powder_class_model.split_transform_data(encoded_df, target = \"Powder Class\")"
   ]
  },
  {
   "cell_type": "code",
   "execution_count": 24,
   "id": "476ffb7b",
   "metadata": {},
   "outputs": [
    {
     "name": "stdout",
     "output_type": "stream",
     "text": [
      "Training labels shape: (173716,)\n",
      "Validation labels shape: (43430,)\n",
      "Test labels shape: (54287,)\n",
      "Training features shape: (173716, 28)\n",
      "Validation features shape: (43430, 28)\n",
      "Test features shape: (54287, 28)\n"
     ]
    }
   ],
   "source": [
    "powder_class_model.apply_StandardScaler()"
   ]
  },
  {
   "cell_type": "markdown",
   "id": "13677a11",
   "metadata": {},
   "source": [
    "### Define Multiclass Model and Metrics"
   ]
  },
  {
   "cell_type": "code",
   "execution_count": 86,
   "id": "b1c3b7a0",
   "metadata": {},
   "outputs": [],
   "source": [
    "MC_METRICS = [\n",
    "    #keras.metrics.Accuracy(name='accuracy'),\n",
    "    keras.metrics.TopKCategoricalAccuracy(name='top_k_accuracy'),\n",
    "    keras.metrics.CategoricalCrossentropy(name='crossentropy'),\n",
    "    #keras.metrics.CategoricalHinge(name='hinge'),\n",
    "    keras.metrics.CategoricalAccuracy(name='categorical_accuracy'),\n",
    "    #keras.metrics.SparseCategoricalAccuracy(name='sparse_categorical_accuracy'),\n",
    "]\n",
    "\n",
    "Model.MC_METRICS = MC_METRICS\n",
    "\n",
    "def make_multiclass_model(self):\n",
    "  self.train_labels_onehot = to_categorical(self.train_labels)\n",
    "  self.val_labels_onehot = to_categorical(self.val_labels)\n",
    "  self.test_labels_onehot = to_categorical(self.test_labels)\n",
    "\n",
    "  # define the model\n",
    "  model = keras.Sequential()\n",
    "  model.add(keras.layers.Dense(128, input_dim=self.train_features.shape[1], activation='relu'))\n",
    "  model.add(keras.layers.Dense(64, activation='relu'))\n",
    "  model.add(keras.layers.Dense(self.num_classes, activation='softmax'))\n",
    "\n",
    "  # compile the model\n",
    "  model.compile(loss='categorical_crossentropy',\n",
    "                optimizer='adam',\n",
    "                metrics=self.MC_METRICS)\n",
    "\n",
    "  # store the model in the class\n",
    "  self.multiclass_model = model\n",
    "\n",
    "  # return the model\n",
    "  return model\n",
    "\n",
    "Model.make_multiclass_model = make_multiclass_model\n",
    "\n",
    "def evaluate_multiclass_model(self):\n",
    "  results = self.multiclass_model.evaluate(self.train_features, self.train_labels_onehot, batch_size = self.BATCH_SIZE, verbose=0)\n",
    "  print(\"Loss: {:0.4f}\".format(results[0]))\n",
    "  return results\n",
    "\n",
    "Model.evaluate_multiclass_model = evaluate_multiclass_model\n",
    "\n",
    "def fit_multiclass_model(self):\n",
    "\n",
    "  early_stopping = tf.keras.callbacks.EarlyStopping(\n",
    "    monitor='val_categorical_accuracy', \n",
    "    verbose=1,\n",
    "    patience=10,\n",
    "    mode='max',\n",
    "    restore_best_weights=True)\n",
    "\n",
    "  self.history = self.multiclass_model.fit(\n",
    "    self.train_features,\n",
    "    self.train_labels_onehot,\n",
    "    batch_size=self.BATCH_SIZE,\n",
    "    epochs=self.EPOCHS,\n",
    "    callbacks=[early_stopping],\n",
    "    validation_data=(self.val_features, self.val_labels_onehot))\n",
    "\n",
    "  return self.history\n",
    "\n",
    "Model.fit_multiclass_model = fit_multiclass_model"
   ]
  },
  {
   "cell_type": "markdown",
   "id": "f5d688e5",
   "metadata": {},
   "source": [
    "### Fit Multiclass Model"
   ]
  },
  {
   "cell_type": "code",
   "execution_count": 26,
   "id": "c9b6e34e",
   "metadata": {},
   "outputs": [
    {
     "name": "stdout",
     "output_type": "stream",
     "text": [
      "Loss: 2.0322\n"
     ]
    }
   ],
   "source": [
    "model = powder_class_model.make_multiclass_model()\n",
    "history = powder_class_model.fit_multiclass_model()\n",
    "IPython.display.clear_output()\n",
    "powder_class_model.evaluate_multiclass_model()"
   ]
  },
  {
   "cell_type": "markdown",
   "id": "38220a3b",
   "metadata": {},
   "source": [
    "### Evaluate on Test Set"
   ]
  },
  {
   "cell_type": "code",
   "execution_count": 74,
   "id": "092cba9a",
   "metadata": {},
   "outputs": [],
   "source": [
    "def multiclass_predict(self):\n",
    "\n",
    "    # make predictions on the input data using the model\n",
    "    \n",
    "\n",
    "    pred = self.multiclass_model.predict(self.test_features)\n",
    "    \n",
    "    self.pred = pred\n",
    "\n",
    "    self.class_predictions = tf.math.argmax(pred, axis = 1)\n",
    "\n",
    "    return pred\n",
    "\n",
    "Model.multiclass_predict = multiclass_predict"
   ]
  },
  {
   "cell_type": "code",
   "execution_count": 28,
   "id": "02ce563a",
   "metadata": {},
   "outputs": [
    {
     "name": "stdout",
     "output_type": "stream",
     "text": [
      "1697/1697 [==============================] - 1s 449us/step\n"
     ]
    }
   ],
   "source": [
    "predictions = powder_class_model.multiclass_predict()"
   ]
  },
  {
   "cell_type": "code",
   "execution_count": 69,
   "id": "4cd19ae7",
   "metadata": {},
   "outputs": [],
   "source": [
    "def plot_multiclass_cm(self):\n",
    "    cm = confusion_matrix(self.test_labels, self.class_predictions)\n",
    "    cm_df = pd.DataFrame(cm)\n",
    "    plt.figure(figsize=(5,4))\n",
    "    sns.heatmap(cm_df, annot=False)\n",
    "    plt.title(\"Confusion Matrix\")\n",
    "    plt.ylabel('Actal Values')\n",
    "    plt.xlabel('Predicted Values')\n",
    "    plt.show()\n",
    "    \n",
    "Model.plot_multiclass_cm = plot_multiclass_cm"
   ]
  },
  {
   "cell_type": "code",
   "execution_count": 30,
   "id": "61ffadac",
   "metadata": {},
   "outputs": [
    {
     "data": {
      "image/png": "[encoded data removed]",
      "text/plain": [
       "<Figure size 500x400 with 2 Axes>"
      ]
     },
     "metadata": {},
     "output_type": "display_data"
    }
   ],
   "source": [
    "powder_class_model.plot_multiclass_cm()"
   ]
  },
  {
   "cell_type": "markdown",
   "id": "6c228078",
   "metadata": {},
   "source": [
    "## Multiclass with Resampling"
   ]
  },
  {
   "cell_type": "code",
   "execution_count": 88,
   "id": "b60815f5",
   "metadata": {},
   "outputs": [],
   "source": [
    "def resample(df_data, target = \"Powder\", n = 10000):\n",
    "    grouped_df = df_data.groupby('Powder')\n",
    "    # create a new dataframe to hold the resampled rows\n",
    "    resampled_df = pd.DataFrame()\n",
    "\n",
    "    # for each group in the grouped dataframe\n",
    "    for name, group in grouped_df:\n",
    "        # if the number of rows in the group is greater than n\n",
    "        if len(group) > n:\n",
    "            # undersample the group without replacement\n",
    "            resampled_group = group.sample(n=n, replace=False)\n",
    "        else:\n",
    "            # oversample the group with replacement\n",
    "            resampled_group = group.sample(n=n, replace=True)\n",
    "        # append the resampled group to the resampled dataframe\n",
    "        resampled_df = pd.concat([resampled_df, resampled_group], axis = 0)\n",
    "\n",
    "    # print the resampled dataframe\n",
    "    resampled_df = resampled_df.reset_index(drop = True)\n",
    "\n",
    "    return resampled_df"
   ]
  },
  {
   "cell_type": "code",
   "execution_count": 89,
   "id": "ee90bb99",
   "metadata": {},
   "outputs": [
    {
     "name": "stdout",
     "output_type": "stream",
     "text": [
      "Label AEE_WP-301_1-5_AA_3-7.txt : 10000 (3.03% of total)\n"
     ]
    }
   ],
   "source": [
    "resampled_df = resample(df_data)\n",
    "\n",
    "\n",
    "le = LabelEncoder()\n",
    "resampled_df['Powder Class'] = le.fit_transform(resampled_df['Powder'])#type: ignore\n",
    "num_classes = len(le.classes_)\n",
    "counts = np.bincount(resampled_df['Powder Class']) \n",
    "total = sum(counts)\n",
    "\n",
    "for label,count in zip(le.classes_,counts):\n",
    "    print(f\"Label {label} : {count} ({count/total * 100:.2f}% of total)\")\n",
    "    break\n",
    "\n",
    "resampled_df.pop('Powder')\n",
    "resampled_df.pop('Flow Class')\n",
    "resampled_df.pop('Flow')\n",
    "\n",
    "class_labels = resampled_df.pop('Powder Class')"
   ]
  },
  {
   "cell_type": "code",
   "execution_count": 79,
   "id": "e30aa609",
   "metadata": {},
   "outputs": [],
   "source": [
    "pc_resample_model = Model(name=\"Powder Class Resample Model\", num_classes = num_classes)"
   ]
  },
  {
   "cell_type": "code",
   "execution_count": 80,
   "id": "55de6914",
   "metadata": {},
   "outputs": [
    {
     "name": "stdout",
     "output_type": "stream",
     "text": [
      "10313/10313 [==============================] - 4s 397us/step\n"
     ]
    }
   ],
   "source": [
    "predictions = regular_model.predict(resampled_df)\n",
    "resampled_df['Predicted Flow Class'] = predictions\n",
    "resampled_df['Powder Class'] = class_labels"
   ]
  },
  {
   "cell_type": "code",
   "execution_count": 81,
   "id": "cbb5eeea",
   "metadata": {},
   "outputs": [],
   "source": [
    "pc_resample_model.split_transform_data(resampled_df, target = \"Powder Class\")"
   ]
  },
  {
   "cell_type": "code",
   "execution_count": 82,
   "id": "63c2cb44",
   "metadata": {},
   "outputs": [
    {
     "name": "stdout",
     "output_type": "stream",
     "text": [
      "Training labels shape: (211200,)\n",
      "Validation labels shape: (52800,)\n",
      "Test labels shape: (66000,)\n",
      "Training features shape: (211200, 28)\n",
      "Validation features shape: (52800, 28)\n",
      "Test features shape: (66000, 28)\n"
     ]
    }
   ],
   "source": [
    "pc_resample_model.apply_StandardScaler()"
   ]
  },
  {
   "cell_type": "code",
   "execution_count": 83,
   "id": "2ea559a6",
   "metadata": {},
   "outputs": [
    {
     "name": "stdout",
     "output_type": "stream",
     "text": [
      "Loss: 2.3018\n"
     ]
    }
   ],
   "source": [
    "model = pc_resample_model.make_multiclass_model()\n",
    "history = pc_resample_model.fit_multiclass_model()\n",
    "IPython.display.clear_output()\n",
    "pc_resample_model.evaluate_multiclass_model()"
   ]
  },
  {
   "cell_type": "code",
   "execution_count": 87,
   "id": "c299e756",
   "metadata": {},
   "outputs": [
    {
     "name": "stdout",
     "output_type": "stream",
     "text": [
      "Loss: 2.3018\n"
     ]
    },
    {
     "data": {
      "text/plain": [
       "[2.3018014430999756,\n",
       " 0.663375973701477,\n",
       " 2.3018014430999756,\n",
       " 0.27999526262283325]"
      ]
     },
     "execution_count": 87,
     "metadata": {},
     "output_type": "execute_result"
    }
   ],
   "source": [
    "pc_resample_model.evaluate_multiclass_model()"
   ]
  },
  {
   "cell_type": "code",
   "execution_count": 84,
   "id": "8e1d792a",
   "metadata": {},
   "outputs": [
    {
     "name": "stdout",
     "output_type": "stream",
     "text": [
      "2063/2063 [==============================] - 1s 447us/step\n"
     ]
    }
   ],
   "source": [
    "predictions = pc_resample_model.multiclass_predict()"
   ]
  },
  {
   "cell_type": "code",
   "execution_count": 85,
   "id": "c39c6828",
   "metadata": {},
   "outputs": [
    {
     "data": {
      "image/png": "[encoded data removed]",
      "text/plain": [
       "<Figure size 500x400 with 2 Axes>"
      ]
     },
     "metadata": {},
     "output_type": "display_data"
    }
   ],
   "source": [
    "pc_resample_model.plot_multiclass_cm()"
   ]
  },
  {
   "cell_type": "markdown",
   "id": "9061c63b",
   "metadata": {},
   "source": [
    "## Flow Class Resample"
   ]
  },
  {
   "cell_type": "code",
   "execution_count": 93,
   "id": "83de643b",
   "metadata": {},
   "outputs": [
    {
     "name": "stdout",
     "output_type": "stream",
     "text": [
      "Examples:\n",
      "    Total: 330000\n",
      "    Positive: 240000 (72.73% of total)\n",
      "\n"
     ]
    }
   ],
   "source": [
    "powder_balanced_df = resample(df_data)\n",
    "\n",
    "powder_balanced_df.pop(\"Powder\")\n",
    "\n",
    "neg, pos = np.bincount(powder_balanced_df['Flow Class']) #type: ignore\n",
    "total = neg + pos\n",
    "print('Examples:\\n    Total: {}\\n    Positive: {} ({:.2f}% of total)\\n'.format(\n",
    "    total, pos, 100 * pos / total))"
   ]
  },
  {
   "cell_type": "code",
   "execution_count": 97,
   "id": "985891e7",
   "metadata": {},
   "outputs": [
    {
     "name": "stdout",
     "output_type": "stream",
     "text": [
      "Training labels shape: (211200,)\n",
      "Validation labels shape: (52800,)\n",
      "Test labels shape: (66000,)\n",
      "Training features shape: (211200, 28)\n",
      "Validation features shape: (52800, 28)\n",
      "Test features shape: (66000, 28)\n"
     ]
    }
   ],
   "source": [
    "balanced_model = Model(name = \"Balanced Model\", num_classes= 2)\n",
    "\n",
    "balanced_model.split_transform_data(powder_balanced_df)\n",
    "\n",
    "balanced_model.apply_StandardScaler()"
   ]
  },
  {
   "cell_type": "code",
   "execution_count": 99,
   "id": "e31159e0",
   "metadata": {},
   "outputs": [
    {
     "name": "stdout",
     "output_type": "stream",
     "text": [
      "Loss: 0.0016\n"
     ]
    }
   ],
   "source": [
    "model = balanced_model.make_model()\n",
    "history = balanced_model.fit_model()\n",
    "IPython.display.clear_output()\n",
    "balanced_model.evaluate_model()"
   ]
  },
  {
   "cell_type": "code",
   "execution_count": 101,
   "id": "1a8fcb6f",
   "metadata": {},
   "outputs": [
    {
     "name": "stdout",
     "output_type": "stream",
     "text": [
      "2063/2063 [==============================] - 1s 395us/step\n",
      "No Flow Detected (True Negatives):  17975\n",
      "Flow Incorrectly Detected (False Positives):  4\n",
      "No Flow Incorrectly Detected (False Negatives):  0\n",
      "Flow Detected (True Positives):  48021\n",
      "Total Flow Detected:  48021\n"
     ]
    },
    {
     "data": {
      "image/png": "[encoded data removed]",
      "text/plain": [
       "<Figure size 500x500 with 2 Axes>"
      ]
     },
     "metadata": {},
     "output_type": "display_data"
    }
   ],
   "source": [
    "balanced_model.plot_cm()"
   ]
  },
  {
   "cell_type": "markdown",
   "id": "e89c2580",
   "metadata": {},
   "source": [
    "# Training Encoders"
   ]
  },
  {
   "cell_type": "code",
   "execution_count": null,
   "id": "150e65c7",
   "metadata": {},
   "outputs": [],
   "source": []
  }
 ],
 "metadata": {
  "kernelspec": {
   "display_name": "Python 3.9.15 ('PowderFlow')",
   "language": "python",
   "name": "python3"
  },
  "language_info": {
   "codemirror_mode": {
    "name": "ipython",
    "version": 3
   },
   "file_extension": ".py",
   "mimetype": "text/x-python",
   "name": "python",
   "nbconvert_exporter": "python",
   "pygments_lexer": "ipython3",
   "version": "3.10.8"
  },
  "vscode": {
   "interpreter": {
    "hash": "af39255d0033cb571965acf37fa0e98acd08cdc79809997039b8a0dd1e45d8cb"
   }
  }
 },
 "nbformat": 4,
 "nbformat_minor": 5
}
