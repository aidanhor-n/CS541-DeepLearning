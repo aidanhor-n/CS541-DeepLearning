{
 "cells": [
  {
   "cell_type": "code",
   "execution_count": 3,
   "id": "739795c8",
   "metadata": {},
   "outputs": [],
   "source": [
    "import os\n",
    "import sys\n",
    "module_path = os.path.abspath(os.path.join('..'))\n",
    "if module_path not in sys.path:\n",
    "    sys.path.append(module_path)\n",
    "\n",
    "import IPython\n",
    "import IPython.display\n",
    "import pandas as pd\n",
    "import numpy as np\n",
    "import matplotlib.pyplot as plt\n",
    "import sklearn\n",
    "import tensorflow as tf\n",
    "from tensorflow import keras\n",
    "from tensorflow.keras import layers\n",
    "\n",
    "from flowability_data_upload.Research.main import Data"
   ]
  },
  {
   "cell_type": "markdown",
   "id": "f7703077",
   "metadata": {},
   "source": [
    "# Data Prep"
   ]
  },
  {
   "cell_type": "code",
   "execution_count": 4,
   "id": "399e86c2",
   "metadata": {},
   "outputs": [],
   "source": [
    "%%capture\n",
    "\n",
    "def load_data():\n",
    "    x = Data()\n",
    "    x.importnewpowders()\n",
    "    df_data = pd.DataFrame(x.data)\n",
    "    df_flow = pd.DataFrame(x.flow)\n",
    "    df_noflow = pd.DataFrame(x.noflow)\n",
    "\n",
    "    return df_data, df_flow, df_noflow\n",
    "\n",
    "df_data, df_flow, df_noflow = load_data()\n",
    "\n",
    "df_all = df_data.copy()\n",
    "\n",
    "pd.set_option('display.max_columns', None)"
   ]
  },
  {
   "cell_type": "code",
   "execution_count": 5,
   "id": "c085716c",
   "metadata": {},
   "outputs": [
    {
     "data": {
      "text/plain": [
       "array(['MW_I_718_0-10.txt', 'S1VRC0706-5_Excel.txt',\n",
       "       'HCS_C103H_+10,-45.txt', 'S1VRC0706-4_Excel.txt',\n",
       "       'AEE_WP-301_1-5_AA_3-7.txt', 'HCS_C103N2_+10,-45.txt',\n",
       "       'HCS_C103N1_+10,-45.txt', 'S1VRC0706-6_Excel.txt',\n",
       "       'Valimet_6061_SPE.txt'], dtype=object)"
      ]
     },
     "execution_count": 5,
     "metadata": {},
     "output_type": "execute_result"
    }
   ],
   "source": [
    "df_noflow['Powder'].unique()"
   ]
  },
  {
   "cell_type": "code",
   "execution_count": 6,
   "id": "e340b8d1",
   "metadata": {},
   "outputs": [],
   "source": [
    "df_noflow = df_noflow.reset_index(drop = True)\n",
    "\n",
    "train_noflow_powders = ['MW_I_718_0-10.txt', 'S1VRC0706-5_Excel.txt',\n",
    "       'HCS_C103H_+10,-45.txt', 'S1VRC0706-4_Excel.txt',\n",
    "       'AEE_WP-301_1-5_AA_3-7.txt']\n",
    "test_noflow_powders = ['HCS_C103N2_+10,-45.txt',\n",
    "       'HCS_C103N1_+10,-45.txt', 'S1VRC0706-6_Excel.txt',\n",
    "       'Valimet_6061_SPE.txt']\n",
    "\n",
    "train_df_noflow = df_noflow.drop(df_noflow[df_noflow['Powder'].isin(test_noflow_powders)].index)\n",
    "test_df_noflow = df_noflow.drop(df_noflow[df_noflow['Powder'].isin(train_noflow_powders)].index)\n",
    "\n",
    "train_powder_noflow = train_df_noflow.pop(\"Powder\")\n",
    "train_df_noflow.pop(\"Flow\")\n",
    "train_target_noflow = train_df_noflow.pop(\"Flow Class\")\n",
    "\n",
    "test_powder_noflow = test_df_noflow.pop(\"Powder\")\n",
    "test_df_noflow.pop(\"Flow\")\n",
    "test_target_noflow = test_df_noflow.pop(\"Flow Class\")"
   ]
  },
  {
   "cell_type": "code",
   "execution_count": 7,
   "id": "aaaf70eb",
   "metadata": {},
   "outputs": [],
   "source": [
    "from sklearn.preprocessing import StandardScaler\n",
    "noflow_scaler = StandardScaler()\n",
    "\n",
    "X_valid_noflow = train_df_noflow.sample(int(len(train_df_noflow) * 0.2))\n",
    "X_train_noflow = train_df_noflow.drop(X_valid_noflow.index)\n",
    "\n",
    "X_train_noflow = noflow_scaler.fit_transform(X_train_noflow)\n",
    "X_valid_noflow = noflow_scaler.transform(X_valid_noflow)\n",
    "X_test_noflow = noflow_scaler.transform(test_df_noflow)"
   ]
  },
  {
   "cell_type": "code",
   "execution_count": 8,
   "id": "e2632e85",
   "metadata": {},
   "outputs": [
    {
     "data": {
      "text/plain": [
       "array(['S1VRC0706-3_Excel.txt', 'WIP-C1.txt', 'WIP-W1.txt',\n",
       "       'MW_Ti-Nb-Zr_0-63.txt', 'WIP-W2.txt', 'MW_Ti-Nb-Zr_64-150.txt',\n",
       "       'V5_Al-P1015_99.8%-Al.txt', 'MW_Ti-Nb_64-150.txt',\n",
       "       'S1VRC0706-2_Excel.txt', 'MW_SS-17-4_64-150.txt',\n",
       "       'Lincoln_SHS_7574HV.txt', 'Lincoln_SHS_9172HV.txt',\n",
       "       'Al-Cr_75-Percent_6061_1.1.txt', 'MW_SS-17-4_10-45.txt',\n",
       "       'MW_Ti-Nb_0-63.txt', 'S1VRC0706-1_Excel.txt',\n",
       "       'Lincoln_SHS_8000HV.txt', 'V_AA-4047.txt', 'V_AA-2024.txt',\n",
       "       'WIP-BC1.txt', 'HCS_TaH_-230+PAN.txt', 'V_Al-P1015_99.8%-Al.txt',\n",
       "       'V6_Al-P1015_99.8%-Al.txt', 'MW_FeMnAl-C_0-45.txt'], dtype=object)"
      ]
     },
     "execution_count": 8,
     "metadata": {},
     "output_type": "execute_result"
    }
   ],
   "source": [
    "df_flow['Powder'].unique()"
   ]
  },
  {
   "cell_type": "code",
   "execution_count": 9,
   "id": "1be25bc9",
   "metadata": {},
   "outputs": [],
   "source": [
    "df_flow = df_flow.reset_index(drop = True)\n",
    "\n",
    "train_flow_powders = ['S1VRC0706-3_Excel.txt', 'WIP-C1.txt', 'WIP-W1.txt',\n",
    "       'MW_Ti-Nb-Zr_0-63.txt', 'WIP-W2.txt', 'MW_Ti-Nb-Zr_64-150.txt',\n",
    "       'V5_Al-P1015_99.8%-Al.txt', 'MW_Ti-Nb_64-150.txt',\n",
    "       'S1VRC0706-2_Excel.txt', 'MW_SS-17-4_64-150.txt',\n",
    "       'Lincoln_SHS_7574HV.txt', 'Lincoln_SHS_9172HV.txt',\n",
    "       'Al-Cr_75-Percent_6061_1.1.txt', \n",
    "       'MW_Ti-Nb_0-63.txt', 'S1VRC0706-1_Excel.txt',\n",
    "       'Lincoln_SHS_8000HV.txt', 'V_AA-4047.txt', 'V_AA-2024.txt', 'V6_Al-P1015_99.8%-Al.txt']\n",
    "test_flow_powders = ['WIP-BC1.txt', 'HCS_TaH_-230+PAN.txt', 'V_Al-P1015_99.8%-Al.txt',\n",
    "       'MW_SS-17-4_10-45.txt', 'MW_FeMnAl-C_0-45.txt']\n",
    "\n",
    "train_df_flow = df_flow.drop(df_flow[df_flow['Powder'].isin(test_flow_powders)].index)\n",
    "test_df_flow = df_flow.drop(df_flow[df_flow['Powder'].isin(train_flow_powders)].index)\n",
    "\n",
    "train_powder_flow = train_df_flow.pop(\"Powder\")\n",
    "train_flow = train_df_flow.pop(\"Flow\")\n",
    "train_target_flow = train_df_flow.pop(\"Flow Class\")\n",
    "\n",
    "test_powder_flow = test_df_flow.pop(\"Powder\")\n",
    "test_flow = test_df_flow.pop(\"Flow\")\n",
    "test_target_flow = test_df_flow.pop(\"Flow Class\")"
   ]
  },
  {
   "cell_type": "code",
   "execution_count": 10,
   "id": "685111e2",
   "metadata": {},
   "outputs": [],
   "source": [
    "from sklearn.preprocessing import StandardScaler\n",
    "flow_scaler = StandardScaler()\n",
    "\n",
    "X_valid_flow = train_df_flow.sample(int(len(train_df_flow) * 0.2))\n",
    "X_train_flow = train_df_flow.drop(X_valid_flow.index)\n",
    "\n",
    "X_train_flow = flow_scaler.fit_transform(X_train_flow)\n",
    "X_valid_flow = flow_scaler.transform(X_valid_flow)\n",
    "X_test_flow = flow_scaler.transform(test_df_flow)"
   ]
  },
  {
   "cell_type": "markdown",
   "id": "df7498a4",
   "metadata": {},
   "source": [
    "# Auto Encoder"
   ]
  },
  {
   "cell_type": "markdown",
   "id": "7df80792",
   "metadata": {},
   "source": [
    "## Flow AutoEncoder"
   ]
  },
  {
   "cell_type": "code",
   "execution_count": 11,
   "id": "84801d5a",
   "metadata": {},
   "outputs": [
    {
     "name": "stderr",
     "output_type": "stream",
     "text": [
      "2022-12-18 18:56:33.987930: I tensorflow/core/platform/cpu_feature_guard.cc:193] This TensorFlow binary is optimized with oneAPI Deep Neural Network Library (oneDNN) to use the following CPU instructions in performance-critical operations:  SSE4.1 SSE4.2\n",
      "To enable them in other operations, rebuild TensorFlow with the appropriate compiler flags.\n"
     ]
    }
   ],
   "source": [
    "# data dimensions // hyperparameters \n",
    "input_dim = X_train_flow.shape[1]\n",
    "BATCH_SIZE = 256\n",
    "EPOCHS = 100\n",
    "\n",
    "# https://keras.io/layers/core/\n",
    "flow_autoencoder = tf.keras.models.Sequential([\n",
    "    \n",
    "    # deconstruct / encode\n",
    "    tf.keras.layers.Dense(input_dim, activation='elu', input_shape=(input_dim, )), \n",
    "    tf.keras.layers.Dense(16, activation='elu'),\n",
    "    tf.keras.layers.Dense(8, activation='elu'),\n",
    "    tf.keras.layers.Dense(4, activation='elu'),\n",
    "    tf.keras.layers.Dense(3, activation='elu'),\n",
    "    \n",
    "    # reconstruction / decode\n",
    "    tf.keras.layers.Dense(4, activation='elu'),\n",
    "    tf.keras.layers.Dense(8, activation='elu'),\n",
    "    tf.keras.layers.Dense(16, activation='elu'),\n",
    "    tf.keras.layers.Dense(input_dim, activation='elu')\n",
    "    \n",
    "])\n",
    "\n",
    "# https://keras.io/api/models/model_training_apis/\n",
    "flow_autoencoder.compile(optimizer=\"adam\", \n",
    "                    loss=\"mse\",\n",
    "                    metrics=[\"acc\"])\n"
   ]
  },
  {
   "cell_type": "code",
   "execution_count": 12,
   "id": "33667044",
   "metadata": {},
   "outputs": [
    {
     "name": "stdout",
     "output_type": "stream",
     "text": [
      "WARNING:tensorflow:`batch_size` is no longer needed in the `TensorBoard` Callback and will be ignored in TensorFlow 2.0.\n"
     ]
    }
   ],
   "source": [
    "from datetime import datetime\n",
    "\n",
    "# current date and time\n",
    "yyyymmddHHMM = datetime.now().strftime('%Y%m%d%H%M')\n",
    "\n",
    "# new folder for a new run\n",
    "log_subdir = f'{yyyymmddHHMM}_batch{BATCH_SIZE}_layers{len(flow_autoencoder.layers)}'\n",
    "\n",
    "# define our early stopping\n",
    "early_stop = tf.keras.callbacks.EarlyStopping(\n",
    "    monitor='val_loss',\n",
    "    min_delta=0.0001,\n",
    "    patience=10,\n",
    "    verbose=1, \n",
    "    mode='min',\n",
    "    restore_best_weights=True\n",
    ")\n",
    "\n",
    "save_model = tf.keras.callbacks.ModelCheckpoint(\n",
    "    filepath='autoencoder_best_weights.hdf5',\n",
    "    save_best_only=True,\n",
    "    monitor='val_loss',\n",
    "    verbose=0,\n",
    "    mode='min'\n",
    ")\n",
    "\n",
    "tensorboard = tf.keras.callbacks.TensorBoard(\n",
    "    f'logs/{log_subdir}',\n",
    "    batch_size=BATCH_SIZE,\n",
    "    update_freq='batch'\n",
    ")\n",
    "\n",
    "# callbacks argument only takes a list\n",
    "cb = [early_stop, save_model, tensorboard]\n"
   ]
  },
  {
   "cell_type": "code",
   "execution_count": 13,
   "id": "be8dd1fb",
   "metadata": {},
   "outputs": [
    {
     "name": "stdout",
     "output_type": "stream",
     "text": [
      "Epoch 1/100\n",
      "354/354 [==============================] - 1s 2ms/step - loss: 0.4268 - acc: 0.2626 - val_loss: 0.2065 - val_acc: 0.3652\n",
      "Epoch 2/100\n",
      "354/354 [==============================] - 1s 2ms/step - loss: 0.1743 - acc: 0.4602 - val_loss: 0.1479 - val_acc: 0.5040\n",
      "Epoch 3/100\n",
      "354/354 [==============================] - 1s 2ms/step - loss: 0.1418 - acc: 0.5164 - val_loss: 0.1320 - val_acc: 0.5455\n",
      "Epoch 4/100\n",
      "354/354 [==============================] - 1s 2ms/step - loss: 0.1257 - acc: 0.5618 - val_loss: 0.1158 - val_acc: 0.5852\n",
      "Epoch 5/100\n",
      "354/354 [==============================] - 1s 2ms/step - loss: 0.1118 - acc: 0.5899 - val_loss: 0.1089 - val_acc: 0.5895\n",
      "Epoch 6/100\n",
      "354/354 [==============================] - 1s 2ms/step - loss: 0.1070 - acc: 0.5917 - val_loss: 0.1060 - val_acc: 0.5880\n",
      "Epoch 7/100\n",
      "354/354 [==============================] - 1s 2ms/step - loss: 0.1049 - acc: 0.5934 - val_loss: 0.1045 - val_acc: 0.5972\n",
      "Epoch 8/100\n",
      "354/354 [==============================] - 1s 2ms/step - loss: 0.1033 - acc: 0.5935 - val_loss: 0.1030 - val_acc: 0.5991\n",
      "Epoch 9/100\n",
      "354/354 [==============================] - 1s 2ms/step - loss: 0.1022 - acc: 0.5935 - val_loss: 0.1026 - val_acc: 0.5847\n",
      "Epoch 10/100\n",
      "354/354 [==============================] - 1s 2ms/step - loss: 0.1013 - acc: 0.5934 - val_loss: 0.1010 - val_acc: 0.5960\n",
      "Epoch 11/100\n",
      "354/354 [==============================] - 1s 1ms/step - loss: 0.1003 - acc: 0.5945 - val_loss: 0.1004 - val_acc: 0.5969\n",
      "Epoch 12/100\n",
      "354/354 [==============================] - 1s 2ms/step - loss: 0.0992 - acc: 0.5975 - val_loss: 0.0991 - val_acc: 0.6011\n",
      "Epoch 13/100\n",
      "354/354 [==============================] - 1s 2ms/step - loss: 0.0982 - acc: 0.5989 - val_loss: 0.0983 - val_acc: 0.6037\n",
      "Epoch 14/100\n",
      "354/354 [==============================] - 1s 2ms/step - loss: 0.0972 - acc: 0.6001 - val_loss: 0.0970 - val_acc: 0.6066\n",
      "Epoch 15/100\n",
      "354/354 [==============================] - 1s 2ms/step - loss: 0.0961 - acc: 0.6015 - val_loss: 0.0964 - val_acc: 0.6102\n",
      "Epoch 16/100\n",
      "354/354 [==============================] - 1s 2ms/step - loss: 0.0953 - acc: 0.6045 - val_loss: 0.0957 - val_acc: 0.6054\n",
      "Epoch 17/100\n",
      "354/354 [==============================] - 1s 2ms/step - loss: 0.0944 - acc: 0.6088 - val_loss: 0.0953 - val_acc: 0.6122\n",
      "Epoch 18/100\n",
      "354/354 [==============================] - 1s 2ms/step - loss: 0.0939 - acc: 0.6141 - val_loss: 0.0945 - val_acc: 0.6249\n",
      "Epoch 19/100\n",
      "354/354 [==============================] - 1s 1ms/step - loss: 0.0934 - acc: 0.6176 - val_loss: 0.0944 - val_acc: 0.6238\n",
      "Epoch 20/100\n",
      "354/354 [==============================] - 1s 2ms/step - loss: 0.0929 - acc: 0.6204 - val_loss: 0.0932 - val_acc: 0.6241\n",
      "Epoch 21/100\n",
      "354/354 [==============================] - 1s 2ms/step - loss: 0.0926 - acc: 0.6214 - val_loss: 0.0930 - val_acc: 0.6304\n",
      "Epoch 22/100\n",
      "354/354 [==============================] - 1s 1ms/step - loss: 0.0923 - acc: 0.6246 - val_loss: 0.0933 - val_acc: 0.6312\n",
      "Epoch 23/100\n",
      "354/354 [==============================] - 1s 2ms/step - loss: 0.0920 - acc: 0.6265 - val_loss: 0.0925 - val_acc: 0.6343\n",
      "Epoch 24/100\n",
      "354/354 [==============================] - 1s 2ms/step - loss: 0.0916 - acc: 0.6272 - val_loss: 0.0921 - val_acc: 0.6320\n",
      "Epoch 25/100\n",
      "354/354 [==============================] - 1s 1ms/step - loss: 0.0914 - acc: 0.6278 - val_loss: 0.0922 - val_acc: 0.6334\n",
      "Epoch 26/100\n",
      "354/354 [==============================] - 1s 2ms/step - loss: 0.0912 - acc: 0.6281 - val_loss: 0.0922 - val_acc: 0.6307\n",
      "Epoch 27/100\n",
      "354/354 [==============================] - 1s 1ms/step - loss: 0.0910 - acc: 0.6296 - val_loss: 0.0924 - val_acc: 0.6352\n",
      "Epoch 28/100\n",
      "354/354 [==============================] - 1s 2ms/step - loss: 0.0908 - acc: 0.6290 - val_loss: 0.0914 - val_acc: 0.6320\n",
      "Epoch 29/100\n",
      "354/354 [==============================] - 1s 1ms/step - loss: 0.0906 - acc: 0.6316 - val_loss: 0.0919 - val_acc: 0.6363\n",
      "Epoch 30/100\n",
      "354/354 [==============================] - 1s 1ms/step - loss: 0.0905 - acc: 0.6322 - val_loss: 0.0923 - val_acc: 0.6368\n",
      "Epoch 31/100\n",
      "354/354 [==============================] - 1s 1ms/step - loss: 0.0903 - acc: 0.6312 - val_loss: 0.0914 - val_acc: 0.6395\n",
      "Epoch 32/100\n",
      "354/354 [==============================] - 1s 1ms/step - loss: 0.0902 - acc: 0.6320 - val_loss: 0.0909 - val_acc: 0.6398\n",
      "Epoch 33/100\n",
      "354/354 [==============================] - 1s 1ms/step - loss: 0.0899 - acc: 0.6320 - val_loss: 0.0919 - val_acc: 0.6382\n",
      "Epoch 34/100\n",
      "354/354 [==============================] - 1s 1ms/step - loss: 0.0901 - acc: 0.6322 - val_loss: 0.0910 - val_acc: 0.6379\n",
      "Epoch 35/100\n",
      "354/354 [==============================] - 1s 2ms/step - loss: 0.0898 - acc: 0.6329 - val_loss: 0.0908 - val_acc: 0.6407\n",
      "Epoch 36/100\n",
      "354/354 [==============================] - 1s 2ms/step - loss: 0.0897 - acc: 0.6341 - val_loss: 0.0904 - val_acc: 0.6385\n",
      "Epoch 37/100\n",
      "354/354 [==============================] - 1s 1ms/step - loss: 0.0896 - acc: 0.6348 - val_loss: 0.0910 - val_acc: 0.6246\n",
      "Epoch 38/100\n",
      "354/354 [==============================] - 1s 2ms/step - loss: 0.0895 - acc: 0.6347 - val_loss: 0.0919 - val_acc: 0.6359\n",
      "Epoch 39/100\n",
      "354/354 [==============================] - 1s 2ms/step - loss: 0.0894 - acc: 0.6344 - val_loss: 0.0900 - val_acc: 0.6400\n",
      "Epoch 40/100\n",
      "354/354 [==============================] - 1s 1ms/step - loss: 0.0892 - acc: 0.6359 - val_loss: 0.0908 - val_acc: 0.6394\n",
      "Epoch 41/100\n",
      "354/354 [==============================] - 1s 2ms/step - loss: 0.0893 - acc: 0.6354 - val_loss: 0.0899 - val_acc: 0.6358\n",
      "Epoch 42/100\n",
      "354/354 [==============================] - 1s 2ms/step - loss: 0.0891 - acc: 0.6351 - val_loss: 0.0904 - val_acc: 0.6403\n",
      "Epoch 43/100\n",
      "354/354 [==============================] - 1s 2ms/step - loss: 0.0889 - acc: 0.6363 - val_loss: 0.0899 - val_acc: 0.6359\n",
      "Epoch 44/100\n",
      "354/354 [==============================] - 1s 2ms/step - loss: 0.0889 - acc: 0.6353 - val_loss: 0.0900 - val_acc: 0.6369\n",
      "Epoch 45/100\n",
      "354/354 [==============================] - 1s 2ms/step - loss: 0.0888 - acc: 0.6356 - val_loss: 0.0901 - val_acc: 0.6355\n",
      "Epoch 46/100\n",
      "354/354 [==============================] - 1s 1ms/step - loss: 0.0890 - acc: 0.6354 - val_loss: 0.0901 - val_acc: 0.6361\n",
      "Epoch 47/100\n",
      "354/354 [==============================] - 1s 2ms/step - loss: 0.0887 - acc: 0.6357 - val_loss: 0.0897 - val_acc: 0.6393\n",
      "Epoch 48/100\n",
      "354/354 [==============================] - 1s 2ms/step - loss: 0.0886 - acc: 0.6367 - val_loss: 0.0896 - val_acc: 0.6450\n",
      "Epoch 49/100\n",
      "354/354 [==============================] - 1s 2ms/step - loss: 0.0886 - acc: 0.6360 - val_loss: 0.0897 - val_acc: 0.6370\n",
      "Epoch 50/100\n",
      "354/354 [==============================] - 1s 1ms/step - loss: 0.0886 - acc: 0.6365 - val_loss: 0.0898 - val_acc: 0.6426\n",
      "Epoch 51/100\n",
      "354/354 [==============================] - 1s 1ms/step - loss: 0.0885 - acc: 0.6360 - val_loss: 0.0898 - val_acc: 0.6385\n",
      "Epoch 52/100\n",
      "354/354 [==============================] - 1s 2ms/step - loss: 0.0885 - acc: 0.6366 - val_loss: 0.0896 - val_acc: 0.6399\n",
      "Epoch 53/100\n",
      "354/354 [==============================] - 1s 2ms/step - loss: 0.0886 - acc: 0.6362 - val_loss: 0.0895 - val_acc: 0.6378\n",
      "Epoch 54/100\n",
      "354/354 [==============================] - 1s 2ms/step - loss: 0.0882 - acc: 0.6374 - val_loss: 0.0894 - val_acc: 0.6403\n",
      "Epoch 55/100\n",
      "354/354 [==============================] - 1s 2ms/step - loss: 0.0883 - acc: 0.6360 - val_loss: 0.0892 - val_acc: 0.6390\n",
      "Epoch 56/100\n",
      "354/354 [==============================] - 1s 1ms/step - loss: 0.0883 - acc: 0.6362 - val_loss: 0.0895 - val_acc: 0.6360\n",
      "Epoch 57/100\n",
      "354/354 [==============================] - 1s 1ms/step - loss: 0.0881 - acc: 0.6362 - val_loss: 0.0893 - val_acc: 0.6371\n",
      "Epoch 58/100\n",
      "354/354 [==============================] - 1s 1ms/step - loss: 0.0881 - acc: 0.6373 - val_loss: 0.0893 - val_acc: 0.6402\n",
      "Epoch 59/100\n",
      "354/354 [==============================] - 1s 1ms/step - loss: 0.0880 - acc: 0.6362 - val_loss: 0.0895 - val_acc: 0.6351\n",
      "Epoch 60/100\n",
      "354/354 [==============================] - 1s 1ms/step - loss: 0.0880 - acc: 0.6362 - val_loss: 0.0892 - val_acc: 0.6391\n",
      "Epoch 61/100\n",
      "354/354 [==============================] - 1s 2ms/step - loss: 0.0880 - acc: 0.6364 - val_loss: 0.0889 - val_acc: 0.6391\n",
      "Epoch 62/100\n",
      "354/354 [==============================] - 1s 2ms/step - loss: 0.0879 - acc: 0.6375 - val_loss: 0.0887 - val_acc: 0.6404\n",
      "Epoch 63/100\n",
      "354/354 [==============================] - 1s 1ms/step - loss: 0.0879 - acc: 0.6363 - val_loss: 0.0890 - val_acc: 0.6362\n",
      "Epoch 64/100\n",
      "354/354 [==============================] - 1s 1ms/step - loss: 0.0879 - acc: 0.6357 - val_loss: 0.0893 - val_acc: 0.6345\n",
      "Epoch 65/100\n",
      "354/354 [==============================] - 1s 1ms/step - loss: 0.0878 - acc: 0.6365 - val_loss: 0.0889 - val_acc: 0.6404\n",
      "Epoch 66/100\n",
      "354/354 [==============================] - 1s 1ms/step - loss: 0.0878 - acc: 0.6376 - val_loss: 0.0903 - val_acc: 0.6392\n",
      "Epoch 67/100\n",
      "354/354 [==============================] - 1s 2ms/step - loss: 0.0879 - acc: 0.6370 - val_loss: 0.0887 - val_acc: 0.6424\n",
      "Epoch 68/100\n",
      "354/354 [==============================] - 1s 1ms/step - loss: 0.0877 - acc: 0.6366 - val_loss: 0.0888 - val_acc: 0.6342\n",
      "Epoch 69/100\n",
      "354/354 [==============================] - 1s 1ms/step - loss: 0.0877 - acc: 0.6362 - val_loss: 0.0887 - val_acc: 0.6391\n",
      "Epoch 70/100\n",
      "354/354 [==============================] - 1s 2ms/step - loss: 0.0876 - acc: 0.6367 - val_loss: 0.0885 - val_acc: 0.6422\n",
      "Epoch 71/100\n",
      "354/354 [==============================] - 1s 1ms/step - loss: 0.0876 - acc: 0.6375 - val_loss: 0.0888 - val_acc: 0.6416\n",
      "Epoch 72/100\n",
      "354/354 [==============================] - 1s 1ms/step - loss: 0.0875 - acc: 0.6379 - val_loss: 0.0885 - val_acc: 0.6441\n",
      "Epoch 73/100\n",
      "354/354 [==============================] - 1s 1ms/step - loss: 0.0876 - acc: 0.6373 - val_loss: 0.0889 - val_acc: 0.6385\n",
      "Epoch 74/100\n",
      "354/354 [==============================] - 1s 2ms/step - loss: 0.0875 - acc: 0.6375 - val_loss: 0.0884 - val_acc: 0.6397\n",
      "Epoch 75/100\n",
      "354/354 [==============================] - 1s 1ms/step - loss: 0.0874 - acc: 0.6371 - val_loss: 0.0886 - val_acc: 0.6395\n",
      "Epoch 76/100\n",
      "354/354 [==============================] - 1s 1ms/step - loss: 0.0874 - acc: 0.6371 - val_loss: 0.0887 - val_acc: 0.6387\n",
      "Epoch 77/100\n",
      "354/354 [==============================] - 1s 1ms/step - loss: 0.0875 - acc: 0.6374 - val_loss: 0.0885 - val_acc: 0.6389\n",
      "Epoch 78/100\n",
      "354/354 [==============================] - 1s 2ms/step - loss: 0.0874 - acc: 0.6381 - val_loss: 0.0882 - val_acc: 0.6422\n",
      "Epoch 79/100\n",
      "354/354 [==============================] - 1s 1ms/step - loss: 0.0873 - acc: 0.6388 - val_loss: 0.0887 - val_acc: 0.6424\n",
      "Epoch 80/100\n",
      "354/354 [==============================] - 1s 1ms/step - loss: 0.0873 - acc: 0.6388 - val_loss: 0.0884 - val_acc: 0.6467\n",
      "Epoch 81/100\n",
      "354/354 [==============================] - 1s 1ms/step - loss: 0.0873 - acc: 0.6394 - val_loss: 0.0883 - val_acc: 0.6423\n",
      "Epoch 82/100\n",
      "354/354 [==============================] - 1s 1ms/step - loss: 0.0872 - acc: 0.6392 - val_loss: 0.0883 - val_acc: 0.6428\n",
      "Epoch 83/100\n",
      "354/354 [==============================] - 1s 1ms/step - loss: 0.0872 - acc: 0.6388 - val_loss: 0.0885 - val_acc: 0.6401\n",
      "Epoch 84/100\n",
      "354/354 [==============================] - 1s 1ms/step - loss: 0.0872 - acc: 0.6403 - val_loss: 0.0884 - val_acc: 0.6455\n",
      "Epoch 85/100\n",
      "354/354 [==============================] - 1s 1ms/step - loss: 0.0872 - acc: 0.6402 - val_loss: 0.0882 - val_acc: 0.6422\n",
      "Epoch 86/100\n",
      "354/354 [==============================] - 1s 2ms/step - loss: 0.0872 - acc: 0.6396 - val_loss: 0.0880 - val_acc: 0.6454\n",
      "Epoch 87/100\n",
      "354/354 [==============================] - 1s 1ms/step - loss: 0.0871 - acc: 0.6401 - val_loss: 0.0885 - val_acc: 0.6463\n",
      "Epoch 88/100\n",
      "354/354 [==============================] - 1s 1ms/step - loss: 0.0871 - acc: 0.6398 - val_loss: 0.0881 - val_acc: 0.6426\n",
      "Epoch 89/100\n",
      "354/354 [==============================] - 1s 1ms/step - loss: 0.0871 - acc: 0.6404 - val_loss: 0.0880 - val_acc: 0.6429\n",
      "Epoch 90/100\n",
      "354/354 [==============================] - 1s 1ms/step - loss: 0.0870 - acc: 0.6412 - val_loss: 0.0882 - val_acc: 0.6468\n",
      "Epoch 91/100\n",
      "354/354 [==============================] - 1s 1ms/step - loss: 0.0871 - acc: 0.6404 - val_loss: 0.0884 - val_acc: 0.6445\n",
      "Epoch 92/100\n",
      "354/354 [==============================] - 1s 2ms/step - loss: 0.0870 - acc: 0.6401 - val_loss: 0.0879 - val_acc: 0.6464\n",
      "Epoch 93/100\n",
      "354/354 [==============================] - 1s 2ms/step - loss: 0.0869 - acc: 0.6411 - val_loss: 0.0877 - val_acc: 0.6462\n",
      "Epoch 94/100\n",
      "354/354 [==============================] - 1s 1ms/step - loss: 0.0870 - acc: 0.6410 - val_loss: 0.0886 - val_acc: 0.6392\n",
      "Epoch 95/100\n",
      "354/354 [==============================] - 1s 1ms/step - loss: 0.0869 - acc: 0.6415 - val_loss: 0.0880 - val_acc: 0.6397\n",
      "Epoch 96/100\n",
      "354/354 [==============================] - 1s 2ms/step - loss: 0.0870 - acc: 0.6408 - val_loss: 0.0877 - val_acc: 0.6490\n",
      "Epoch 97/100\n",
      "354/354 [==============================] - 1s 2ms/step - loss: 0.0868 - acc: 0.6418 - val_loss: 0.0880 - val_acc: 0.6456\n",
      "Epoch 98/100\n",
      "354/354 [==============================] - 1s 2ms/step - loss: 0.0869 - acc: 0.6413 - val_loss: 0.0879 - val_acc: 0.6394\n",
      "Epoch 99/100\n",
      "354/354 [==============================] - 1s 2ms/step - loss: 0.0868 - acc: 0.6413 - val_loss: 0.0879 - val_acc: 0.6495\n",
      "Epoch 100/100\n",
      "354/354 [==============================] - 1s 2ms/step - loss: 0.0869 - acc: 0.6410 - val_loss: 0.0877 - val_acc: 0.6460\n"
     ]
    }
   ],
   "source": [
    "history = flow_autoencoder.fit(\n",
    "    X_train_flow, X_train_flow,\n",
    "    shuffle=True,\n",
    "    epochs=EPOCHS,\n",
    "    batch_size=BATCH_SIZE,\n",
    "    callbacks=cb,\n",
    "    validation_data=(X_valid_flow, X_valid_flow)\n",
    ")"
   ]
  },
  {
   "cell_type": "code",
   "execution_count": 19,
   "id": "51ef04ef",
   "metadata": {},
   "outputs": [
    {
     "name": "stdout",
     "output_type": "stream",
     "text": [
      "1202/1202 [==============================] - 1s 529us/step\n"
     ]
    },
    {
     "data": {
      "text/plain": [
       "array([0.133, 0.375, 0.318, ..., 0.905, 1.455, 1.178])"
      ]
     },
     "execution_count": 19,
     "metadata": {},
     "output_type": "execute_result"
    }
   ],
   "source": [
    "reconstructions = flow_autoencoder.predict(X_test_flow)\n",
    "# calculating the mean squared error reconstruction loss per row in the numpy array\n",
    "flow_mse = np.mean(np.power(X_test_flow - reconstructions, 2), axis=1)\n",
    "flow_mse"
   ]
  },
  {
   "cell_type": "code",
   "execution_count": 20,
   "id": "e35e2cd0",
   "metadata": {},
   "outputs": [
    {
     "name": "stdout",
     "output_type": "stream",
     "text": [
      "FLOW POWDER | RECONSTRUCTION LOSS\n",
      "HCS_TaH_-230+PAN | 0.123\n",
      "MW_FeMnAl-C_0-45 | 0.055\n",
      "MW_SS-17-4_10-45 | 0.048\n",
      "V_Al-P1015_99.8%-Al | 0.123\n",
      "WIP-BC1 | 0.089\n"
     ]
    }
   ],
   "source": [
    "test_RE_flow = pd.concat([test_powder_flow, pd.Series(flow_mse, index=test_powder_flow.index, name=\"Reconstruction Error\")], axis = 1)\n",
    "print(\"FLOW POWDER | RECONSTRUCTION LOSS\")\n",
    "for powder, group in test_RE_flow.groupby('Powder'):\n",
    "   print(f\"{powder[:-4]} | {np.mean(group['Reconstruction Error']):.3f}\")"
   ]
  },
  {
   "cell_type": "code",
   "execution_count": 21,
   "id": "b0385fa6",
   "metadata": {},
   "outputs": [
    {
     "name": "stdout",
     "output_type": "stream",
     "text": [
      "736/736 [==============================] - 0s 525us/step\n"
     ]
    },
    {
     "data": {
      "text/plain": [
       "array([4.495, 3.681, 4.262, ..., 0.038, 0.529, 0.099])"
      ]
     },
     "execution_count": 21,
     "metadata": {},
     "output_type": "execute_result"
    }
   ],
   "source": [
    "noflow_reconstructions = flow_autoencoder.predict(X_test_noflow)\n",
    "# calculating the mean squared error reconstruction loss per row in the numpy array\n",
    "noflow_mse = np.mean(np.power(X_test_noflow - noflow_reconstructions, 2), axis=1)\n",
    "noflow_mse"
   ]
  },
  {
   "cell_type": "code",
   "execution_count": 22,
   "id": "d308abc7",
   "metadata": {},
   "outputs": [
    {
     "name": "stdout",
     "output_type": "stream",
     "text": [
      "NOFLOW POWDER | RECONSTRUCTION LOSS\n",
      "HCS_C103N1_+10,-45 | 0.309\n",
      "HCS_C103N2_+10,-45 | 0.227\n",
      "S1VRC0706-6_Excel | 0.362\n",
      "Valimet_6061_SPE | 0.805\n"
     ]
    }
   ],
   "source": [
    "test_RE_noflow = pd.concat([test_powder_noflow, pd.Series(noflow_mse, index=test_powder_noflow.index, name=\"Reconstruction Error\")], axis = 1)\n",
    "print(\"NOFLOW POWDER | RECONSTRUCTION LOSS\")\n",
    "for powder, group in test_RE_noflow.groupby('Powder'):\n",
    "    print(f\"{powder[:-4]} | {np.mean(group['Reconstruction Error']):.3f}\")"
   ]
  },
  {
   "cell_type": "code",
   "execution_count": 24,
   "id": "d974d1ec",
   "metadata": {},
   "outputs": [
    {
     "name": "stdout",
     "output_type": "stream",
     "text": [
      "3015/3015 [==============================] - 2s 504us/step\n"
     ]
    },
    {
     "data": {
      "text/plain": [
       "array([1.514, 0.046, 1.124, ..., 1.799, 1.966, 1.882])"
      ]
     },
     "execution_count": 24,
     "metadata": {},
     "output_type": "execute_result"
    }
   ],
   "source": [
    "noflow_reconstructions = flow_autoencoder.predict(flow_scaler.transform(train_df_noflow))\n",
    "# calculating the mean squared error reconstruction loss per row in the numpy array\n",
    "noflow_mse = np.mean(np.power(flow_scaler.transform(train_df_noflow) - noflow_reconstructions, 2), axis=1)\n",
    "noflow_mse"
   ]
  },
  {
   "cell_type": "code",
   "execution_count": 25,
   "id": "af03e82b",
   "metadata": {},
   "outputs": [
    {
     "name": "stdout",
     "output_type": "stream",
     "text": [
      "NOFLOW POWDER | RECONSTRUCTION LOSS\n",
      "AEE_WP-301_1-5_AA_3-7 | 0.380\n",
      "HCS_C103H_+10,-45 | 0.071\n",
      "MW_I_718_0-10 | 0.085\n",
      "S1VRC0706-4_Excel | 0.116\n",
      "S1VRC0706-5_Excel | 0.104\n"
     ]
    }
   ],
   "source": [
    "train_RE_noflow = pd.concat([train_powder_noflow, pd.Series(noflow_mse, index=train_powder_noflow.index, name=\"Reconstruction Error\")], axis = 1)\n",
    "print(\"NOFLOW POWDER | RECONSTRUCTION LOSS\")\n",
    "for powder, group in train_RE_noflow.groupby('Powder'):\n",
    "    print(f\"{powder[:-4]} | {np.mean(group['Reconstruction Error']):.3f}\")"
   ]
  },
  {
   "cell_type": "markdown",
   "id": "8fdcdbd7",
   "metadata": {},
   "source": [
    "# Second Attempt"
   ]
  },
  {
   "cell_type": "code",
   "execution_count": 26,
   "id": "e9cdeb1d",
   "metadata": {},
   "outputs": [],
   "source": [
    "%%capture\n",
    "\n",
    "def load_data():\n",
    "    x = Data()\n",
    "    x.importnewpowders()\n",
    "    df_data = pd.DataFrame(x.data)\n",
    "    df_flow = pd.DataFrame(x.flow)\n",
    "    df_noflow = pd.DataFrame(x.noflow)\n",
    "\n",
    "    return df_data, df_flow, df_noflow\n",
    "\n",
    "df_data, df_flow, df_noflow = load_data()\n",
    "\n",
    "df_all = df_data.copy()\n",
    "\n",
    "pd.set_option('display.max_columns', None)"
   ]
  },
  {
   "cell_type": "code",
   "execution_count": 27,
   "id": "71bd530b",
   "metadata": {},
   "outputs": [
    {
     "data": {
      "text/plain": [
       "array(['MW_Ti-Nb_64-150.txt', 'MW_Ti-Nb_0-63.txt', 'HCS_TaH_-230+PAN.txt',\n",
       "       'MW_SS-17-4_10-45.txt', 'Lincoln_SHS_9172HV.txt',\n",
       "       'MW_SS-17-4_64-150.txt', 'Lincoln_SHS_7574HV.txt',\n",
       "       'Lincoln_SHS_8000HV.txt', 'WIP-BC1.txt', 'S1VRC0706-3_Excel.txt',\n",
       "       'WIP-C1.txt', 'S1VRC0706-1_Excel.txt', 'WIP-W1.txt',\n",
       "       'MW_Ti-Nb-Zr_64-150.txt', 'S1VRC0706-2_Excel.txt',\n",
       "       'MW_Ti-Nb-Zr_0-63.txt', 'WIP-W2.txt'], dtype=object)"
      ]
     },
     "execution_count": 27,
     "metadata": {},
     "output_type": "execute_result"
    }
   ],
   "source": [
    "df_flow[[\"Powder\", \"Flow\"]].drop_duplicates().sort_values(\"Flow\")[:-7].Powder.unique()"
   ]
  },
  {
   "cell_type": "code",
   "execution_count": 28,
   "id": "12fa94c0",
   "metadata": {},
   "outputs": [
    {
     "data": {
      "text/plain": [
       "array(['V6_Al-P1015_99.8%-Al.txt', 'V_Al-P1015_99.8%-Al.txt',\n",
       "       'V_AA-4047.txt', 'V5_Al-P1015_99.8%-Al.txt', 'V_AA-2024.txt',\n",
       "       'MW_FeMnAl-C_0-45.txt', 'Al-Cr_75-Percent_6061_1.1.txt'],\n",
       "      dtype=object)"
      ]
     },
     "execution_count": 28,
     "metadata": {},
     "output_type": "execute_result"
    }
   ],
   "source": [
    "df_flow[[\"Powder\", \"Flow\"]].drop_duplicates().sort_values(\"Flow\")[-7:].Powder.unique()"
   ]
  },
  {
   "cell_type": "code",
   "execution_count": 29,
   "id": "5f3bb094",
   "metadata": {},
   "outputs": [],
   "source": [
    "from sklearn.model_selection import train_test_split\n",
    "\n",
    "df_flow = df_flow.copy().reset_index(drop = True)\n",
    "\n",
    "good_flow_powders = ['MW_Ti-Nb_64-150.txt', 'MW_Ti-Nb_0-63.txt', 'HCS_TaH_-230+PAN.txt',\n",
    "       'MW_SS-17-4_10-45.txt', 'Lincoln_SHS_9172HV.txt',\n",
    "       'MW_SS-17-4_64-150.txt', 'Lincoln_SHS_7574HV.txt',\n",
    "       'Lincoln_SHS_8000HV.txt', 'WIP-BC1.txt', 'S1VRC0706-3_Excel.txt',\n",
    "       'WIP-C1.txt', 'S1VRC0706-1_Excel.txt', 'WIP-W1.txt',\n",
    "       'MW_Ti-Nb-Zr_64-150.txt', 'S1VRC0706-2_Excel.txt',\n",
    "       'MW_Ti-Nb-Zr_0-63.txt', 'WIP-W2.txt']\n",
    "bad_flow_powders = ['V6_Al-P1015_99.8%-Al.txt', 'V_Al-P1015_99.8%-Al.txt',\n",
    "       'V_AA-4047.txt', 'V5_Al-P1015_99.8%-Al.txt', 'V_AA-2024.txt',\n",
    "       'MW_FeMnAl-C_0-45.txt', 'Al-Cr_75-Percent_6061_1.1.txt']\n",
    "\n",
    "train_flow_powders, test_flow_powders = train_test_split(good_flow_powders, test_size=0.5)\n",
    "\n",
    "df_badflow = df_flow[df_flow[\"Powder\"].isin(bad_flow_powders)]\n",
    "df_flow = df_flow.drop(df_flow[df_flow[\"Powder\"].isin(bad_flow_powders)].index)\n",
    "\n",
    "train_df_flow = df_flow.drop(df_flow[df_flow['Powder'].isin(test_flow_powders)].index)\n",
    "test_df_flow = df_flow.drop(df_flow[df_flow['Powder'].isin(train_flow_powders)].index)\n",
    "\n",
    "train_powder_flow = train_df_flow.pop(\"Powder\")\n",
    "train_flow = train_df_flow.pop(\"Flow\")\n",
    "train_target_flow = train_df_flow.pop(\"Flow Class\")\n",
    "\n",
    "test_powder_flow = test_df_flow.pop(\"Powder\")\n",
    "test_flow = test_df_flow.pop(\"Flow\")\n",
    "test_target_flow = test_df_flow.pop(\"Flow Class\")\n",
    "\n",
    "bad_powder_flow = df_badflow.pop(\"Powder\")\n",
    "bad_flow = df_badflow.pop(\"Flow\")\n",
    "bad_target_flow = df_badflow.pop(\"Flow Class\")\n"
   ]
  },
  {
   "cell_type": "code",
   "execution_count": 30,
   "id": "16d7e54f",
   "metadata": {},
   "outputs": [],
   "source": [
    "from sklearn.preprocessing import StandardScaler\n",
    "flow_scaler = StandardScaler()\n",
    "\n",
    "X_valid_flow = train_df_flow.sample(int(len(train_df_flow) * 0.2))\n",
    "X_train_flow = train_df_flow.drop(X_valid_flow.index)\n",
    "\n",
    "X_train_flow = flow_scaler.fit_transform(X_train_flow)\n",
    "X_valid_flow = flow_scaler.transform(X_valid_flow)\n",
    "X_test_flow = flow_scaler.transform(test_df_flow)\n",
    "\n",
    "X_bad_flow = flow_scaler.transform(df_badflow)"
   ]
  },
  {
   "cell_type": "code",
   "execution_count": 31,
   "id": "19b37476",
   "metadata": {},
   "outputs": [],
   "source": [
    "df_noflow = df_noflow.reset_index(drop = True)\n",
    "\n",
    "train_noflow_powders = ['MW_I_718_0-10.txt', 'S1VRC0706-5_Excel.txt',\n",
    "       'HCS_C103H_+10,-45.txt', 'S1VRC0706-4_Excel.txt',\n",
    "       'AEE_WP-301_1-5_AA_3-7.txt']\n",
    "test_noflow_powders = ['HCS_C103N2_+10,-45.txt',\n",
    "       'HCS_C103N1_+10,-45.txt', 'S1VRC0706-6_Excel.txt',\n",
    "       'Valimet_6061_SPE.txt']\n",
    "\n",
    "train_df_noflow = df_noflow.drop(df_noflow[df_noflow['Powder'].isin(test_noflow_powders)].index)\n",
    "test_df_noflow = df_noflow.drop(df_noflow[df_noflow['Powder'].isin(train_noflow_powders)].index)\n",
    "\n",
    "train_powder_noflow = train_df_noflow.pop(\"Powder\")\n",
    "train_df_noflow.pop(\"Flow\")\n",
    "train_target_noflow = train_df_noflow.pop(\"Flow Class\")\n",
    "\n",
    "test_powder_noflow = test_df_noflow.pop(\"Powder\")\n",
    "test_df_noflow.pop(\"Flow\")\n",
    "test_target_noflow = test_df_noflow.pop(\"Flow Class\")"
   ]
  },
  {
   "cell_type": "code",
   "execution_count": 32,
   "id": "1ebd4a1c",
   "metadata": {},
   "outputs": [],
   "source": [
    "from sklearn.preprocessing import StandardScaler\n",
    "noflow_scaler = StandardScaler()\n",
    "\n",
    "# X_valid_noflow = train_df_noflow.sample(int(len(train_df_noflow) * 0.2))\n",
    "# X_train_noflow = train_df_noflow.drop(X_valid_noflow.index)\n",
    "\n",
    "X_train_noflow = noflow_scaler.fit_transform(train_df_noflow)\n",
    "#X_train_noflow = noflow_scaler.fit_transform(X_train_noflow)\n",
    "# X_valid_noflow = noflow_scaler.transform(X_valid_noflow)\n",
    "X_test_noflow = noflow_scaler.transform(test_df_noflow)"
   ]
  },
  {
   "cell_type": "markdown",
   "id": "59d5ec7c",
   "metadata": {},
   "source": [
    "## GoodFlow AutoEncoder"
   ]
  },
  {
   "cell_type": "code",
   "execution_count": 33,
   "id": "753d7de6",
   "metadata": {},
   "outputs": [],
   "source": [
    "# data dimensions // hyperparameters \n",
    "input_dim = X_train_flow.shape[1]\n",
    "BATCH_SIZE = 256\n",
    "EPOCHS = 100\n",
    "\n",
    "# https://keras.io/layers/core/\n",
    "goodflow_autoencoder = tf.keras.models.Sequential([\n",
    "    \n",
    "    # deconstruct / encode\n",
    "    tf.keras.layers.Dense(input_dim, activation='elu', input_shape=(input_dim, )), \n",
    "    tf.keras.layers.Dense(16, activation='elu'),\n",
    "    tf.keras.layers.Dense(8, activation='elu'),\n",
    "    tf.keras.layers.Dense(4, activation='elu'),\n",
    "    tf.keras.layers.Dense(3, activation='elu'),\n",
    "    \n",
    "    # reconstruction / decode\n",
    "    tf.keras.layers.Dense(4, activation='elu'),\n",
    "    tf.keras.layers.Dense(8, activation='elu'),\n",
    "    tf.keras.layers.Dense(16, activation='elu'),\n",
    "    tf.keras.layers.Dense(input_dim, activation='elu')\n",
    "    \n",
    "])\n",
    "\n",
    "# https://keras.io/api/models/model_training_apis/\n",
    "goodflow_autoencoder.compile(optimizer=\"adam\", \n",
    "                    loss=\"mse\",\n",
    "                    metrics=[\"acc\"])\n"
   ]
  },
  {
   "cell_type": "code",
   "execution_count": 34,
   "id": "8a9b4273",
   "metadata": {},
   "outputs": [
    {
     "name": "stdout",
     "output_type": "stream",
     "text": [
      "WARNING:tensorflow:`batch_size` is no longer needed in the `TensorBoard` Callback and will be ignored in TensorFlow 2.0.\n"
     ]
    }
   ],
   "source": [
    "from datetime import datetime\n",
    "\n",
    "# current date and time\n",
    "yyyymmddHHMM = datetime.now().strftime('%Y%m%d%H%M')\n",
    "\n",
    "# new folder for a new run\n",
    "log_subdir = f'{yyyymmddHHMM}_batch{BATCH_SIZE}_layers{len(goodflow_autoencoder.layers)}'\n",
    "\n",
    "# define our early stopping\n",
    "early_stop = tf.keras.callbacks.EarlyStopping(\n",
    "    monitor='val_loss',\n",
    "    min_delta=0.0001,\n",
    "    patience=10,\n",
    "    verbose=1, \n",
    "    mode='min',\n",
    "    restore_best_weights=True\n",
    ")\n",
    "\n",
    "save_model = tf.keras.callbacks.ModelCheckpoint(\n",
    "    filepath='autoencoder_best_weights.hdf5',\n",
    "    save_best_only=True,\n",
    "    monitor='val_loss',\n",
    "    verbose=0,\n",
    "    mode='min'\n",
    ")\n",
    "\n",
    "tensorboard = tf.keras.callbacks.TensorBoard(\n",
    "    f'logs/{log_subdir}',\n",
    "    batch_size=BATCH_SIZE,\n",
    "    update_freq='batch'\n",
    ")\n",
    "\n",
    "# callbacks argument only takes a list\n",
    "cb = [early_stop, save_model, tensorboard]\n"
   ]
  },
  {
   "cell_type": "code",
   "execution_count": 35,
   "id": "13b4338c",
   "metadata": {},
   "outputs": [
    {
     "name": "stdout",
     "output_type": "stream",
     "text": [
      "Epoch 1/100\n",
      "196/196 [==============================] - 1s 2ms/step - loss: 0.5143 - acc: 0.2230 - val_loss: 0.2596 - val_acc: 0.3206\n",
      "Epoch 2/100\n",
      "196/196 [==============================] - 0s 2ms/step - loss: 0.2259 - acc: 0.3178 - val_loss: 0.2011 - val_acc: 0.3164\n",
      "Epoch 3/100\n",
      "196/196 [==============================] - 0s 2ms/step - loss: 0.1942 - acc: 0.3527 - val_loss: 0.1860 - val_acc: 0.3781\n",
      "Epoch 4/100\n",
      "196/196 [==============================] - 0s 2ms/step - loss: 0.1836 - acc: 0.3820 - val_loss: 0.1772 - val_acc: 0.3919\n",
      "Epoch 5/100\n",
      "196/196 [==============================] - 0s 2ms/step - loss: 0.1633 - acc: 0.4210 - val_loss: 0.1293 - val_acc: 0.4961\n",
      "Epoch 6/100\n",
      "196/196 [==============================] - 0s 2ms/step - loss: 0.1151 - acc: 0.5509 - val_loss: 0.1067 - val_acc: 0.5740\n",
      "Epoch 7/100\n",
      "196/196 [==============================] - 0s 2ms/step - loss: 0.1072 - acc: 0.5803 - val_loss: 0.1036 - val_acc: 0.5927\n",
      "Epoch 8/100\n",
      "196/196 [==============================] - 0s 2ms/step - loss: 0.1047 - acc: 0.5911 - val_loss: 0.1019 - val_acc: 0.5938\n",
      "Epoch 9/100\n",
      "196/196 [==============================] - 0s 2ms/step - loss: 0.1032 - acc: 0.5965 - val_loss: 0.1005 - val_acc: 0.5970\n",
      "Epoch 10/100\n",
      "196/196 [==============================] - 0s 2ms/step - loss: 0.1020 - acc: 0.5992 - val_loss: 0.0992 - val_acc: 0.6014\n",
      "Epoch 11/100\n",
      "196/196 [==============================] - 0s 2ms/step - loss: 0.1008 - acc: 0.5995 - val_loss: 0.0982 - val_acc: 0.5994\n",
      "Epoch 12/100\n",
      "196/196 [==============================] - 0s 2ms/step - loss: 0.0996 - acc: 0.5998 - val_loss: 0.0969 - val_acc: 0.6005\n",
      "Epoch 13/100\n",
      "196/196 [==============================] - 0s 2ms/step - loss: 0.0987 - acc: 0.5978 - val_loss: 0.0969 - val_acc: 0.6012\n",
      "Epoch 14/100\n",
      "196/196 [==============================] - 0s 2ms/step - loss: 0.0976 - acc: 0.5953 - val_loss: 0.0951 - val_acc: 0.5967\n",
      "Epoch 15/100\n",
      "196/196 [==============================] - 0s 2ms/step - loss: 0.0968 - acc: 0.5932 - val_loss: 0.0947 - val_acc: 0.5661\n",
      "Epoch 16/100\n",
      "196/196 [==============================] - 0s 2ms/step - loss: 0.0962 - acc: 0.5919 - val_loss: 0.0939 - val_acc: 0.5895\n",
      "Epoch 17/100\n",
      "196/196 [==============================] - 0s 2ms/step - loss: 0.0956 - acc: 0.5926 - val_loss: 0.0933 - val_acc: 0.5973\n",
      "Epoch 18/100\n",
      "196/196 [==============================] - 0s 2ms/step - loss: 0.0951 - acc: 0.5900 - val_loss: 0.0928 - val_acc: 0.5901\n",
      "Epoch 19/100\n",
      "196/196 [==============================] - 0s 2ms/step - loss: 0.0945 - acc: 0.5917 - val_loss: 0.0921 - val_acc: 0.5904\n",
      "Epoch 20/100\n",
      "196/196 [==============================] - 0s 1ms/step - loss: 0.0942 - acc: 0.5910 - val_loss: 0.0922 - val_acc: 0.5959\n",
      "Epoch 21/100\n",
      "196/196 [==============================] - 0s 2ms/step - loss: 0.0934 - acc: 0.5921 - val_loss: 0.0914 - val_acc: 0.5961\n",
      "Epoch 22/100\n",
      "196/196 [==============================] - 0s 2ms/step - loss: 0.0928 - acc: 0.5952 - val_loss: 0.0907 - val_acc: 0.5986\n",
      "Epoch 23/100\n",
      "196/196 [==============================] - 0s 2ms/step - loss: 0.0924 - acc: 0.5988 - val_loss: 0.0905 - val_acc: 0.5973\n",
      "Epoch 24/100\n",
      "196/196 [==============================] - 0s 2ms/step - loss: 0.0918 - acc: 0.6025 - val_loss: 0.0900 - val_acc: 0.6082\n",
      "Epoch 25/100\n",
      "196/196 [==============================] - 0s 2ms/step - loss: 0.0914 - acc: 0.6046 - val_loss: 0.0895 - val_acc: 0.6161\n",
      "Epoch 26/100\n",
      "196/196 [==============================] - 0s 2ms/step - loss: 0.0910 - acc: 0.6070 - val_loss: 0.0890 - val_acc: 0.6062\n",
      "Epoch 27/100\n",
      "196/196 [==============================] - 0s 2ms/step - loss: 0.0906 - acc: 0.6076 - val_loss: 0.0889 - val_acc: 0.6191\n",
      "Epoch 28/100\n",
      "196/196 [==============================] - 0s 1ms/step - loss: 0.0906 - acc: 0.6085 - val_loss: 0.0900 - val_acc: 0.6122\n",
      "Epoch 29/100\n",
      "196/196 [==============================] - 0s 2ms/step - loss: 0.0902 - acc: 0.6081 - val_loss: 0.0884 - val_acc: 0.6106\n",
      "Epoch 30/100\n",
      "196/196 [==============================] - 0s 1ms/step - loss: 0.0900 - acc: 0.6095 - val_loss: 0.0886 - val_acc: 0.6163\n",
      "Epoch 31/100\n",
      "196/196 [==============================] - 0s 1ms/step - loss: 0.0898 - acc: 0.6138 - val_loss: 0.0893 - val_acc: 0.6080\n",
      "Epoch 32/100\n",
      "196/196 [==============================] - 0s 2ms/step - loss: 0.0896 - acc: 0.6144 - val_loss: 0.0878 - val_acc: 0.6150\n",
      "Epoch 33/100\n",
      "196/196 [==============================] - 0s 1ms/step - loss: 0.0895 - acc: 0.6166 - val_loss: 0.0880 - val_acc: 0.6204\n",
      "Epoch 34/100\n",
      "196/196 [==============================] - 0s 1ms/step - loss: 0.0893 - acc: 0.6176 - val_loss: 0.0878 - val_acc: 0.6205\n",
      "Epoch 35/100\n",
      "196/196 [==============================] - 0s 2ms/step - loss: 0.0893 - acc: 0.6163 - val_loss: 0.0877 - val_acc: 0.6194\n",
      "Epoch 36/100\n",
      "196/196 [==============================] - 0s 2ms/step - loss: 0.0890 - acc: 0.6168 - val_loss: 0.0873 - val_acc: 0.6202\n",
      "Epoch 37/100\n",
      "196/196 [==============================] - 0s 2ms/step - loss: 0.0889 - acc: 0.6184 - val_loss: 0.0871 - val_acc: 0.6248\n",
      "Epoch 38/100\n",
      "196/196 [==============================] - 0s 2ms/step - loss: 0.0887 - acc: 0.6210 - val_loss: 0.0871 - val_acc: 0.6214\n",
      "Epoch 39/100\n",
      "196/196 [==============================] - 0s 2ms/step - loss: 0.0885 - acc: 0.6205 - val_loss: 0.0869 - val_acc: 0.6250\n",
      "Epoch 40/100\n",
      "196/196 [==============================] - 0s 2ms/step - loss: 0.0884 - acc: 0.6204 - val_loss: 0.0868 - val_acc: 0.6240\n",
      "Epoch 41/100\n",
      "196/196 [==============================] - 0s 1ms/step - loss: 0.0883 - acc: 0.6199 - val_loss: 0.0873 - val_acc: 0.6117\n",
      "Epoch 42/100\n",
      "196/196 [==============================] - 0s 2ms/step - loss: 0.0882 - acc: 0.6236 - val_loss: 0.0863 - val_acc: 0.6277\n",
      "Epoch 43/100\n",
      "196/196 [==============================] - 0s 1ms/step - loss: 0.0880 - acc: 0.6227 - val_loss: 0.0864 - val_acc: 0.6277\n",
      "Epoch 44/100\n",
      "196/196 [==============================] - 0s 1ms/step - loss: 0.0878 - acc: 0.6238 - val_loss: 0.0867 - val_acc: 0.6006\n",
      "Epoch 45/100\n",
      "196/196 [==============================] - 0s 2ms/step - loss: 0.0878 - acc: 0.6250 - val_loss: 0.0862 - val_acc: 0.6260\n",
      "Epoch 46/100\n",
      "196/196 [==============================] - 0s 2ms/step - loss: 0.0877 - acc: 0.6263 - val_loss: 0.0860 - val_acc: 0.6196\n",
      "Epoch 47/100\n",
      "196/196 [==============================] - 0s 2ms/step - loss: 0.0877 - acc: 0.6234 - val_loss: 0.0860 - val_acc: 0.6248\n",
      "Epoch 48/100\n",
      "196/196 [==============================] - 0s 1ms/step - loss: 0.0876 - acc: 0.6280 - val_loss: 0.0862 - val_acc: 0.6067\n",
      "Epoch 49/100\n",
      "196/196 [==============================] - 0s 2ms/step - loss: 0.0877 - acc: 0.6236 - val_loss: 0.0859 - val_acc: 0.6164\n",
      "Epoch 50/100\n",
      "196/196 [==============================] - 0s 2ms/step - loss: 0.0876 - acc: 0.6289 - val_loss: 0.0859 - val_acc: 0.6238\n",
      "Epoch 51/100\n",
      "196/196 [==============================] - 0s 2ms/step - loss: 0.0874 - acc: 0.6254 - val_loss: 0.0857 - val_acc: 0.6353\n",
      "Epoch 52/100\n",
      "196/196 [==============================] - 0s 2ms/step - loss: 0.0873 - acc: 0.6280 - val_loss: 0.0857 - val_acc: 0.6341\n",
      "Epoch 53/100\n",
      "196/196 [==============================] - 0s 1ms/step - loss: 0.0873 - acc: 0.6277 - val_loss: 0.0859 - val_acc: 0.6084\n",
      "Epoch 54/100\n",
      "196/196 [==============================] - 0s 2ms/step - loss: 0.0872 - acc: 0.6261 - val_loss: 0.0855 - val_acc: 0.6121\n",
      "Epoch 55/100\n",
      "196/196 [==============================] - 0s 1ms/step - loss: 0.0872 - acc: 0.6274 - val_loss: 0.0859 - val_acc: 0.6120\n",
      "Epoch 56/100\n",
      "196/196 [==============================] - 0s 2ms/step - loss: 0.0871 - acc: 0.6276 - val_loss: 0.0857 - val_acc: 0.6359\n",
      "Epoch 57/100\n",
      "196/196 [==============================] - 0s 2ms/step - loss: 0.0871 - acc: 0.6300 - val_loss: 0.0855 - val_acc: 0.6142\n",
      "Epoch 58/100\n",
      "196/196 [==============================] - 0s 2ms/step - loss: 0.0870 - acc: 0.6268 - val_loss: 0.0853 - val_acc: 0.6272\n",
      "Epoch 59/100\n",
      "196/196 [==============================] - 0s 2ms/step - loss: 0.0869 - acc: 0.6294 - val_loss: 0.0851 - val_acc: 0.6323\n",
      "Epoch 60/100\n",
      "196/196 [==============================] - 0s 2ms/step - loss: 0.0869 - acc: 0.6314 - val_loss: 0.0852 - val_acc: 0.6155\n",
      "Epoch 61/100\n",
      "196/196 [==============================] - 0s 2ms/step - loss: 0.0868 - acc: 0.6273 - val_loss: 0.0849 - val_acc: 0.6287\n",
      "Epoch 62/100\n",
      "196/196 [==============================] - 0s 2ms/step - loss: 0.0869 - acc: 0.6280 - val_loss: 0.0854 - val_acc: 0.6304\n",
      "Epoch 63/100\n",
      "196/196 [==============================] - 0s 2ms/step - loss: 0.0868 - acc: 0.6278 - val_loss: 0.0850 - val_acc: 0.6267\n",
      "Epoch 64/100\n",
      "196/196 [==============================] - 0s 2ms/step - loss: 0.0867 - acc: 0.6288 - val_loss: 0.0854 - val_acc: 0.6284\n",
      "Epoch 65/100\n",
      "196/196 [==============================] - 0s 2ms/step - loss: 0.0867 - acc: 0.6262 - val_loss: 0.0852 - val_acc: 0.6296\n",
      "Epoch 66/100\n",
      "196/196 [==============================] - 0s 2ms/step - loss: 0.0866 - acc: 0.6289 - val_loss: 0.0847 - val_acc: 0.6277\n",
      "Epoch 67/100\n",
      "196/196 [==============================] - 0s 2ms/step - loss: 0.0865 - acc: 0.6288 - val_loss: 0.0853 - val_acc: 0.6244\n",
      "Epoch 68/100\n",
      "196/196 [==============================] - 0s 2ms/step - loss: 0.0866 - acc: 0.6274 - val_loss: 0.0848 - val_acc: 0.6277\n",
      "Epoch 69/100\n",
      "196/196 [==============================] - 0s 1ms/step - loss: 0.0865 - acc: 0.6270 - val_loss: 0.0857 - val_acc: 0.5971\n",
      "Epoch 70/100\n",
      "196/196 [==============================] - 0s 2ms/step - loss: 0.0864 - acc: 0.6281 - val_loss: 0.0854 - val_acc: 0.6290\n",
      "Epoch 71/100\n",
      "196/196 [==============================] - 0s 2ms/step - loss: 0.0864 - acc: 0.6276 - val_loss: 0.0847 - val_acc: 0.6358\n",
      "Epoch 72/100\n",
      "196/196 [==============================] - 0s 2ms/step - loss: 0.0862 - acc: 0.6304 - val_loss: 0.0842 - val_acc: 0.6322\n",
      "Epoch 73/100\n",
      "196/196 [==============================] - 0s 2ms/step - loss: 0.0863 - acc: 0.6276 - val_loss: 0.0841 - val_acc: 0.6299\n",
      "Epoch 74/100\n",
      "196/196 [==============================] - 0s 2ms/step - loss: 0.0861 - acc: 0.6301 - val_loss: 0.0842 - val_acc: 0.6201\n",
      "Epoch 75/100\n",
      "196/196 [==============================] - 0s 2ms/step - loss: 0.0862 - acc: 0.6289 - val_loss: 0.0847 - val_acc: 0.6294\n",
      "Epoch 76/100\n",
      "196/196 [==============================] - 0s 1ms/step - loss: 0.0862 - acc: 0.6273 - val_loss: 0.0841 - val_acc: 0.6335\n",
      "Epoch 77/100\n",
      "196/196 [==============================] - 0s 1ms/step - loss: 0.0860 - acc: 0.6277 - val_loss: 0.0841 - val_acc: 0.6185\n",
      "Epoch 78/100\n",
      "196/196 [==============================] - 0s 1ms/step - loss: 0.0860 - acc: 0.6292 - val_loss: 0.0841 - val_acc: 0.6187\n",
      "Epoch 79/100\n",
      "196/196 [==============================] - 0s 2ms/step - loss: 0.0860 - acc: 0.6277 - val_loss: 0.0839 - val_acc: 0.6110\n",
      "Epoch 80/100\n",
      "196/196 [==============================] - 0s 2ms/step - loss: 0.0859 - acc: 0.6281 - val_loss: 0.0839 - val_acc: 0.6176\n",
      "Epoch 81/100\n",
      "196/196 [==============================] - 0s 2ms/step - loss: 0.0860 - acc: 0.6257 - val_loss: 0.0840 - val_acc: 0.6163\n",
      "Epoch 82/100\n",
      "196/196 [==============================] - 0s 2ms/step - loss: 0.0857 - acc: 0.6294 - val_loss: 0.0841 - val_acc: 0.6074\n",
      "Epoch 83/100\n",
      "196/196 [==============================] - 0s 2ms/step - loss: 0.0858 - acc: 0.6295 - val_loss: 0.0848 - val_acc: 0.6247\n",
      "Epoch 84/100\n",
      "196/196 [==============================] - 0s 2ms/step - loss: 0.0858 - acc: 0.6290 - val_loss: 0.0841 - val_acc: 0.6203\n",
      "Epoch 85/100\n",
      "196/196 [==============================] - 0s 2ms/step - loss: 0.0857 - acc: 0.6300 - val_loss: 0.0839 - val_acc: 0.6236\n",
      "Epoch 86/100\n",
      "196/196 [==============================] - 0s 2ms/step - loss: 0.0856 - acc: 0.6299 - val_loss: 0.0838 - val_acc: 0.6273\n",
      "Epoch 87/100\n",
      "196/196 [==============================] - 0s 2ms/step - loss: 0.0855 - acc: 0.6299 - val_loss: 0.0839 - val_acc: 0.6343\n",
      "Epoch 88/100\n",
      "196/196 [==============================] - 0s 2ms/step - loss: 0.0857 - acc: 0.6284 - val_loss: 0.0836 - val_acc: 0.6298\n",
      "Epoch 89/100\n",
      "196/196 [==============================] - 0s 2ms/step - loss: 0.0854 - acc: 0.6278 - val_loss: 0.0839 - val_acc: 0.6301\n",
      "Epoch 90/100\n",
      "196/196 [==============================] - 0s 2ms/step - loss: 0.0856 - acc: 0.6298 - val_loss: 0.0836 - val_acc: 0.6280\n",
      "Epoch 91/100\n",
      "196/196 [==============================] - 0s 2ms/step - loss: 0.0854 - acc: 0.6298 - val_loss: 0.0838 - val_acc: 0.6294\n",
      "Epoch 92/100\n",
      "196/196 [==============================] - 0s 2ms/step - loss: 0.0853 - acc: 0.6291 - val_loss: 0.0834 - val_acc: 0.6303\n",
      "Epoch 93/100\n",
      "196/196 [==============================] - 0s 2ms/step - loss: 0.0852 - acc: 0.6298 - val_loss: 0.0841 - val_acc: 0.6290\n",
      "Epoch 94/100\n",
      "196/196 [==============================] - 0s 2ms/step - loss: 0.0853 - acc: 0.6298 - val_loss: 0.0834 - val_acc: 0.6244\n",
      "Epoch 95/100\n",
      "196/196 [==============================] - 0s 1ms/step - loss: 0.0853 - acc: 0.6303 - val_loss: 0.0834 - val_acc: 0.6364\n",
      "Epoch 96/100\n",
      "196/196 [==============================] - 0s 1ms/step - loss: 0.0853 - acc: 0.6303 - val_loss: 0.0834 - val_acc: 0.6309\n",
      "Epoch 97/100\n",
      "196/196 [==============================] - 0s 2ms/step - loss: 0.0852 - acc: 0.6314 - val_loss: 0.0835 - val_acc: 0.6314\n",
      "Epoch 98/100\n",
      "196/196 [==============================] - 0s 2ms/step - loss: 0.0851 - acc: 0.6302 - val_loss: 0.0833 - val_acc: 0.6238\n",
      "Epoch 99/100\n",
      "196/196 [==============================] - 0s 2ms/step - loss: 0.0851 - acc: 0.6294 - val_loss: 0.0832 - val_acc: 0.6295\n",
      "Epoch 100/100\n",
      "196/196 [==============================] - 0s 2ms/step - loss: 0.0851 - acc: 0.6303 - val_loss: 0.0836 - val_acc: 0.6253\n"
     ]
    }
   ],
   "source": [
    "history = goodflow_autoencoder.fit(\n",
    "    X_train_flow, X_train_flow,\n",
    "    shuffle=True,\n",
    "    epochs=EPOCHS,\n",
    "    batch_size=BATCH_SIZE,\n",
    "    callbacks=cb,\n",
    "    validation_data=(X_valid_flow, X_valid_flow)\n",
    ")"
   ]
  },
  {
   "cell_type": "code",
   "execution_count": 46,
   "id": "70814f3a",
   "metadata": {},
   "outputs": [
    {
     "name": "stdout",
     "output_type": "stream",
     "text": [
      "1565/1565 [==============================] - 1s 533us/step\n"
     ]
    },
    {
     "data": {
      "text/plain": [
       "array([0.037, 0.004, 0.05 , ..., 0.01 , 0.012, 0.014])"
      ]
     },
     "execution_count": 46,
     "metadata": {},
     "output_type": "execute_result"
    }
   ],
   "source": [
    "reconstructions = goodflow_autoencoder.predict(X_train_flow)\n",
    "# calculating the mean squared error reconstruction loss per row in the numpy array\n",
    "flow_mse = np.mean(np.power(X_train_flow - reconstructions, 2), axis=1)\n",
    "flow_mse"
   ]
  },
  {
   "cell_type": "code",
   "execution_count": 37,
   "id": "4aa055d9",
   "metadata": {},
   "outputs": [
    {
     "name": "stdout",
     "output_type": "stream",
     "text": [
      "1706/1706 [==============================] - 1s 553us/step\n"
     ]
    },
    {
     "data": {
      "text/plain": [
       "array([0.304, 0.075, 3.131, ..., 0.038, 0.005, 0.05 ])"
      ]
     },
     "execution_count": 37,
     "metadata": {},
     "output_type": "execute_result"
    }
   ],
   "source": [
    "reconstructions = goodflow_autoencoder.predict(X_test_flow)\n",
    "# calculating the mean squared error reconstruction loss per row in the numpy array\n",
    "flow_mse = np.mean(np.power(X_test_flow - reconstructions, 2), axis=1)\n",
    "flow_mse"
   ]
  },
  {
   "cell_type": "code",
   "execution_count": 38,
   "id": "5d706e58",
   "metadata": {},
   "outputs": [
    {
     "name": "stdout",
     "output_type": "stream",
     "text": [
      "FLOW POWDER | RECONSTRUCTION LOSS\n",
      "HCS_TaH_-230+PAN | 0.148\n",
      "Lincoln_SHS_7574HV | 0.134\n",
      "MW_SS-17-4_10-45 | 0.052\n",
      "MW_Ti-Nb-Zr_0-63 | 0.069\n",
      "MW_Ti-Nb-Zr_64-150 | 0.344\n",
      "MW_Ti-Nb_0-63 | 0.067\n",
      "S1VRC0706-1_Excel | 0.120\n",
      "S1VRC0706-2_Excel | 0.598\n",
      "WIP-W1 | 0.162\n"
     ]
    }
   ],
   "source": [
    "test_RE_flow = pd.concat([test_powder_flow, pd.Series(flow_mse, index=test_powder_flow.index, name=\"Reconstruction Error\")], axis = 1)\n",
    "print(\"FLOW POWDER | RECONSTRUCTION LOSS\")\n",
    "for powder, group in test_RE_flow.groupby('Powder'):\n",
    "   print(f\"{powder[:-4]} | {np.mean(group['Reconstruction Error']):.3f}\")"
   ]
  },
  {
   "cell_type": "code",
   "execution_count": null,
   "id": "23c06ef3",
   "metadata": {},
   "outputs": [
    {
     "data": {
      "text/html": [
       "<div>\n",
       "<style scoped>\n",
       "    .dataframe tbody tr th:only-of-type {\n",
       "        vertical-align: middle;\n",
       "    }\n",
       "\n",
       "    .dataframe tbody tr th {\n",
       "        vertical-align: top;\n",
       "    }\n",
       "\n",
       "    .dataframe thead th {\n",
       "        text-align: right;\n",
       "    }\n",
       "</style>\n",
       "<table border=\"1\" class=\"dataframe\">\n",
       "  <thead>\n",
       "    <tr style=\"text-align: right;\">\n",
       "      <th></th>\n",
       "      <th>Powder</th>\n",
       "      <th>Flow</th>\n",
       "    </tr>\n",
       "  </thead>\n",
       "  <tbody>\n",
       "    <tr>\n",
       "      <th>72074</th>\n",
       "      <td>MW_Ti-Nb_64-150.txt</td>\n",
       "      <td>2.380000</td>\n",
       "    </tr>\n",
       "    <tr>\n",
       "      <th>108235</th>\n",
       "      <td>MW_Ti-Nb_0-63.txt</td>\n",
       "      <td>2.550000</td>\n",
       "    </tr>\n",
       "    <tr>\n",
       "      <th>125748</th>\n",
       "      <td>HCS_TaH_-230+PAN.txt</td>\n",
       "      <td>4.545500</td>\n",
       "    </tr>\n",
       "    <tr>\n",
       "      <th>96526</th>\n",
       "      <td>MW_SS-17-4_10-45.txt</td>\n",
       "      <td>14.430000</td>\n",
       "    </tr>\n",
       "    <tr>\n",
       "      <th>81795</th>\n",
       "      <td>Lincoln_SHS_9172HV.txt</td>\n",
       "      <td>15.326667</td>\n",
       "    </tr>\n",
       "    <tr>\n",
       "      <th>72914</th>\n",
       "      <td>MW_SS-17-4_64-150.txt</td>\n",
       "      <td>16.030000</td>\n",
       "    </tr>\n",
       "    <tr>\n",
       "      <th>73731</th>\n",
       "      <td>Lincoln_SHS_7574HV.txt</td>\n",
       "      <td>16.260000</td>\n",
       "    </tr>\n",
       "    <tr>\n",
       "      <th>117595</th>\n",
       "      <td>Lincoln_SHS_8000HV.txt</td>\n",
       "      <td>16.866667</td>\n",
       "    </tr>\n",
       "    <tr>\n",
       "      <th>124225</th>\n",
       "      <td>WIP-BC1.txt</td>\n",
       "      <td>19.430000</td>\n",
       "    </tr>\n",
       "    <tr>\n",
       "      <th>0</th>\n",
       "      <td>S1VRC0706-3_Excel.txt</td>\n",
       "      <td>20.013333</td>\n",
       "    </tr>\n",
       "    <tr>\n",
       "      <th>803</th>\n",
       "      <td>WIP-C1.txt</td>\n",
       "      <td>21.786667</td>\n",
       "    </tr>\n",
       "    <tr>\n",
       "      <th>116533</th>\n",
       "      <td>S1VRC0706-1_Excel.txt</td>\n",
       "      <td>22.490000</td>\n",
       "    </tr>\n",
       "    <tr>\n",
       "      <th>14007</th>\n",
       "      <td>WIP-W1.txt</td>\n",
       "      <td>25.786667</td>\n",
       "    </tr>\n",
       "    <tr>\n",
       "      <th>71185</th>\n",
       "      <td>MW_Ti-Nb-Zr_64-150.txt</td>\n",
       "      <td>26.100000</td>\n",
       "    </tr>\n",
       "    <tr>\n",
       "      <th>72758</th>\n",
       "      <td>S1VRC0706-2_Excel.txt</td>\n",
       "      <td>30.153333</td>\n",
       "    </tr>\n",
       "    <tr>\n",
       "      <th>28884</th>\n",
       "      <td>MW_Ti-Nb-Zr_0-63.txt</td>\n",
       "      <td>33.970000</td>\n",
       "    </tr>\n",
       "    <tr>\n",
       "      <th>37346</th>\n",
       "      <td>WIP-W2.txt</td>\n",
       "      <td>34.310000</td>\n",
       "    </tr>\n",
       "  </tbody>\n",
       "</table>\n",
       "</div>"
      ],
      "text/plain": [
       "                        Powder       Flow\n",
       "72074      MW_Ti-Nb_64-150.txt   2.380000\n",
       "108235       MW_Ti-Nb_0-63.txt   2.550000\n",
       "125748    HCS_TaH_-230+PAN.txt   4.545500\n",
       "96526     MW_SS-17-4_10-45.txt  14.430000\n",
       "81795   Lincoln_SHS_9172HV.txt  15.326667\n",
       "72914    MW_SS-17-4_64-150.txt  16.030000\n",
       "73731   Lincoln_SHS_7574HV.txt  16.260000\n",
       "117595  Lincoln_SHS_8000HV.txt  16.866667\n",
       "124225             WIP-BC1.txt  19.430000\n",
       "0        S1VRC0706-3_Excel.txt  20.013333\n",
       "803                 WIP-C1.txt  21.786667\n",
       "116533   S1VRC0706-1_Excel.txt  22.490000\n",
       "14007               WIP-W1.txt  25.786667\n",
       "71185   MW_Ti-Nb-Zr_64-150.txt  26.100000\n",
       "72758    S1VRC0706-2_Excel.txt  30.153333\n",
       "28884     MW_Ti-Nb-Zr_0-63.txt  33.970000\n",
       "37346               WIP-W2.txt  34.310000"
      ]
     },
     "execution_count": 208,
     "metadata": {},
     "output_type": "execute_result"
    }
   ],
   "source": [
    "df_flow[[\"Powder\", \"Flow\"]].drop_duplicates().sort_values(\"Flow\")"
   ]
  },
  {
   "cell_type": "code",
   "execution_count": 39,
   "id": "8d632760",
   "metadata": {},
   "outputs": [
    {
     "name": "stdout",
     "output_type": "stream",
     "text": [
      "1072/1072 [==============================] - 1s 519us/step\n"
     ]
    },
    {
     "data": {
      "text/plain": [
       "array([0.438, 0.067, 0.213, ..., 0.967, 1.569, 1.261])"
      ]
     },
     "execution_count": 39,
     "metadata": {},
     "output_type": "execute_result"
    }
   ],
   "source": [
    "reconstructions = goodflow_autoencoder.predict(X_bad_flow)\n",
    "# calculating the mean squared error reconstruction loss per row in the numpy array\n",
    "badflow_mse = np.mean(np.power(X_bad_flow - reconstructions, 2), axis=1)\n",
    "badflow_mse"
   ]
  },
  {
   "cell_type": "code",
   "execution_count": 40,
   "id": "4e697a85",
   "metadata": {},
   "outputs": [
    {
     "name": "stdout",
     "output_type": "stream",
     "text": [
      "BAD FLOW POWDER | RECONSTRUCTION LOSS\n",
      "Al-Cr_75-Percent_6061_1.1 | 0.089\n",
      "MW_FeMnAl-C_0-45 | 0.060\n",
      "V5_Al-P1015_99.8%-Al | 0.132\n",
      "V6_Al-P1015_99.8%-Al | 0.102\n",
      "V_AA-2024 | 0.071\n",
      "V_AA-4047 | 0.194\n",
      "V_Al-P1015_99.8%-Al | 0.137\n"
     ]
    }
   ],
   "source": [
    "bad_RE_flow = pd.concat([bad_powder_flow, pd.Series(badflow_mse, index=bad_powder_flow.index, name=\"Reconstruction Error\")], axis = 1)\n",
    "print(\"BAD FLOW POWDER | RECONSTRUCTION LOSS\")\n",
    "for powder, group in bad_RE_flow.groupby('Powder'):\n",
    "   print(f\"{powder[:-4]} | {np.mean(group['Reconstruction Error']):.3f}\")"
   ]
  },
  {
   "cell_type": "code",
   "execution_count": 41,
   "id": "8f927723",
   "metadata": {},
   "outputs": [
    {
     "name": "stdout",
     "output_type": "stream",
     "text": [
      "736/736 [==============================] - 0s 508us/step\n"
     ]
    },
    {
     "data": {
      "text/plain": [
       "array([4.114, 3.128, 3.129, ..., 0.057, 0.515, 0.085])"
      ]
     },
     "execution_count": 41,
     "metadata": {},
     "output_type": "execute_result"
    }
   ],
   "source": [
    "noflow_reconstructions = goodflow_autoencoder.predict(X_test_noflow)\n",
    "# calculating the mean squared error reconstruction loss per row in the numpy array\n",
    "noflow_mse = np.mean(np.power(X_test_noflow - noflow_reconstructions, 2), axis=1)\n",
    "noflow_mse"
   ]
  },
  {
   "cell_type": "code",
   "execution_count": 42,
   "id": "f6d9336a",
   "metadata": {},
   "outputs": [
    {
     "name": "stdout",
     "output_type": "stream",
     "text": [
      "NOFLOW POWDER | RECONSTRUCTION LOSS\n",
      "HCS_C103N1_+10,-45 | 0.290\n",
      "HCS_C103N2_+10,-45 | 0.214\n",
      "S1VRC0706-6_Excel | 0.341\n",
      "Valimet_6061_SPE | 0.774\n"
     ]
    }
   ],
   "source": [
    "test_RE_noflow = pd.concat([test_powder_noflow, pd.Series(noflow_mse, index=test_powder_noflow.index, name=\"Reconstruction Error\")], axis = 1)\n",
    "print(\"NOFLOW POWDER | RECONSTRUCTION LOSS\")\n",
    "for powder, group in test_RE_noflow.groupby('Powder'):\n",
    "    print(f\"{powder[:-4]} | {np.mean(group['Reconstruction Error']):.3f}\")"
   ]
  },
  {
   "cell_type": "code",
   "execution_count": 43,
   "id": "8a56f645",
   "metadata": {},
   "outputs": [
    {
     "name": "stdout",
     "output_type": "stream",
     "text": [
      "3015/3015 [==============================] - 2s 525us/step\n"
     ]
    },
    {
     "data": {
      "text/plain": [
       "array([4.198, 0.682, 2.152, ..., 1.178, 1.266, 1.203])"
      ]
     },
     "execution_count": 43,
     "metadata": {},
     "output_type": "execute_result"
    }
   ],
   "source": [
    "noflow_reconstructions = goodflow_autoencoder.predict(X_train_noflow)\n",
    "# calculating the mean squared error reconstruction loss per row in the numpy array\n",
    "noflow_mse = np.mean(np.power(X_train_noflow - noflow_reconstructions, 2), axis=1)\n",
    "noflow_mse"
   ]
  },
  {
   "cell_type": "code",
   "execution_count": 44,
   "id": "452f684f",
   "metadata": {},
   "outputs": [
    {
     "name": "stdout",
     "output_type": "stream",
     "text": [
      "NOFLOW POWDER | RECONSTRUCTION LOSS\n",
      "AEE_WP-301_1-5_AA_3-7 | 0.481\n",
      "HCS_C103H_+10,-45 | 0.429\n",
      "MW_I_718_0-10 | 0.091\n",
      "S1VRC0706-4_Excel | 0.640\n",
      "S1VRC0706-5_Excel | 0.626\n"
     ]
    }
   ],
   "source": [
    "train_RE_noflow = pd.concat([train_powder_noflow, pd.Series(noflow_mse, index=train_powder_noflow.index, name=\"Reconstruction Error\")], axis = 1)\n",
    "print(\"NOFLOW POWDER | RECONSTRUCTION LOSS\")\n",
    "for powder, group in train_RE_noflow.groupby('Powder'):\n",
    "    print(f\"{powder[:-4]} | {np.mean(group['Reconstruction Error']):.3f}\")"
   ]
  },
  {
   "cell_type": "code",
   "execution_count": 83,
   "id": "3a4d9a1c",
   "metadata": {},
   "outputs": [],
   "source": [
    "RE = pd.concat([test_RE_flow, bad_RE_flow, train_RE_noflow, test_RE_noflow], keys=['test_RE_flow', 'bad_RE_flow', 'train_RE_noflow', 'test_RE_noflow'], axis = 0)\n",
    "RE_g = RE.groupby(['Powder']).agg(\"mean\")\n",
    "# ax = RE_g.unstack(level=0).plot(kind='bar', subplots=True, rot=0, figsize=(9, 7), layout=(2, 3))\n",
    "# plt.tight_layout()"
   ]
  },
  {
   "cell_type": "code",
   "execution_count": 102,
   "id": "9774a4da",
   "metadata": {},
   "outputs": [
    {
     "data": {
      "text/plain": [
       "<BarContainer object of 25 artists>"
      ]
     },
     "execution_count": 102,
     "metadata": {},
     "output_type": "execute_result"
    },
    {
     "data": {
      "image/png": "[encoded data removed]",
      "text/plain": [
       "<Figure size 640x480 with 1 Axes>"
      ]
     },
     "metadata": {},
     "output_type": "display_data"
    }
   ],
   "source": [
    "a = RE.copy()\n",
    "a = a.reset_index()\n",
    "a.pop('level_1')\n",
    "grouped_df =  a.groupby(['level_0', 'Powder']).mean()\n",
    "level_0 = grouped_df.index.get_level_values(0)\n",
    "means = grouped_df.values\n",
    "plt.bar(level_0,  np.squeeze(means))"
   ]
  },
  {
   "cell_type": "code",
   "execution_count": 137,
   "id": "2cdfa4aa",
   "metadata": {},
   "outputs": [
    {
     "data": {
      "image/png": "[encoded data removed]",
      "text/plain": [
       "<Figure size 640x480 with 2 Axes>"
      ]
     },
     "metadata": {},
     "output_type": "display_data"
    }
   ],
   "source": [
    "import matplotlib.ticker as ticker\n",
    "\n",
    "ax = grouped_df.plot.bar()\n",
    "ax.set_xticklabels(\"\")\n",
    "ax.set_xlabel(\"Test Powder\")\n",
    "ax2 =  ax.twiny()\n",
    "offset = 0, -5\n",
    "\n",
    "ax2.set_xticks([0.0, 0.64, 1.0])\n",
    "ax2.axvline(0.64)\n",
    "ax2.axhline(0.2)\n",
    "ax2.xaxis.set_major_formatter(ticker.NullFormatter())\n",
    "ax2.xaxis.set_minor_locator(ticker.FixedLocator([0.3, 0.8]))\n",
    "ax2.xaxis.set_minor_formatter(ticker.FixedFormatter(['Positive Instances', 'Negative Instances']))"
   ]
  }
 ],
 "metadata": {
  "kernelspec": {
   "display_name": "Python 3.10.8 ('VAE')",
   "language": "python",
   "name": "python3"
  },
  "language_info": {
   "codemirror_mode": {
    "name": "ipython",
    "version": 3
   },
   "file_extension": ".py",
   "mimetype": "text/x-python",
   "name": "python",
   "nbconvert_exporter": "python",
   "pygments_lexer": "ipython3",
   "version": "3.10.8"
  },
  "vscode": {
   "interpreter": {
    "hash": "c59c1238fe2c4450f3a4efe2462d39a9bd2040024d9db1348747404bb16a7efc"
   }
  }
 },
 "nbformat": 4,
 "nbformat_minor": 5
}
